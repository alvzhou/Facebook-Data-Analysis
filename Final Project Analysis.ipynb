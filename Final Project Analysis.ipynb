{
 "cells": [
  {
   "cell_type": "code",
   "execution_count": 1,
   "metadata": {},
   "outputs": [
    {
     "name": "stderr",
     "output_type": "stream",
     "text": [
      "── \u001b[1mAttaching packages\u001b[22m ─────────────────────────────────────── tidyverse 1.3.0 ──\n",
      "\n",
      "\u001b[32m✔\u001b[39m \u001b[34mggplot2\u001b[39m 3.3.2     \u001b[32m✔\u001b[39m \u001b[34mpurrr  \u001b[39m 0.3.4\n",
      "\u001b[32m✔\u001b[39m \u001b[34mtibble \u001b[39m 3.0.3     \u001b[32m✔\u001b[39m \u001b[34mdplyr  \u001b[39m 1.0.2\n",
      "\u001b[32m✔\u001b[39m \u001b[34mtidyr  \u001b[39m 1.1.2     \u001b[32m✔\u001b[39m \u001b[34mstringr\u001b[39m 1.4.0\n",
      "\u001b[32m✔\u001b[39m \u001b[34mreadr  \u001b[39m 1.3.1     \u001b[32m✔\u001b[39m \u001b[34mforcats\u001b[39m 0.5.0\n",
      "\n",
      "Warning message:\n",
      "“package ‘ggplot2’ was built under R version 4.0.1”\n",
      "Warning message:\n",
      "“package ‘tibble’ was built under R version 4.0.2”\n",
      "Warning message:\n",
      "“package ‘tidyr’ was built under R version 4.0.2”\n",
      "Warning message:\n",
      "“package ‘dplyr’ was built under R version 4.0.2”\n",
      "── \u001b[1mConflicts\u001b[22m ────────────────────────────────────────── tidyverse_conflicts() ──\n",
      "\u001b[31m✖\u001b[39m \u001b[34mdplyr\u001b[39m::\u001b[32mfilter()\u001b[39m masks \u001b[34mstats\u001b[39m::filter()\n",
      "\u001b[31m✖\u001b[39m \u001b[34mdplyr\u001b[39m::\u001b[32mlag()\u001b[39m    masks \u001b[34mstats\u001b[39m::lag()\n",
      "\n",
      "Warning message:\n",
      "“package ‘tidymodels’ was built under R version 4.0.2”\n",
      "── \u001b[1mAttaching packages\u001b[22m ────────────────────────────────────── tidymodels 0.1.1 ──\n",
      "\n",
      "\u001b[32m✔\u001b[39m \u001b[34mbroom    \u001b[39m 0.7.0      \u001b[32m✔\u001b[39m \u001b[34mrecipes  \u001b[39m 0.1.13\n",
      "\u001b[32m✔\u001b[39m \u001b[34mdials    \u001b[39m 0.0.9      \u001b[32m✔\u001b[39m \u001b[34mrsample  \u001b[39m 0.0.7 \n",
      "\u001b[32m✔\u001b[39m \u001b[34minfer    \u001b[39m 0.5.4      \u001b[32m✔\u001b[39m \u001b[34mtune     \u001b[39m 0.1.1 \n",
      "\u001b[32m✔\u001b[39m \u001b[34mmodeldata\u001b[39m 0.0.2      \u001b[32m✔\u001b[39m \u001b[34mworkflows\u001b[39m 0.2.0 \n",
      "\u001b[32m✔\u001b[39m \u001b[34mparsnip  \u001b[39m 0.1.3      \u001b[32m✔\u001b[39m \u001b[34myardstick\u001b[39m 0.0.7 \n",
      "\n",
      "Warning message:\n",
      "“package ‘broom’ was built under R version 4.0.2”\n",
      "Warning message:\n",
      "“package ‘dials’ was built under R version 4.0.2”\n",
      "Warning message:\n",
      "“package ‘infer’ was built under R version 4.0.3”\n",
      "Warning message:\n",
      "“package ‘modeldata’ was built under R version 4.0.1”\n",
      "Warning message:\n",
      "“package ‘parsnip’ was built under R version 4.0.2”\n",
      "Warning message:\n",
      "“package ‘recipes’ was built under R version 4.0.1”\n",
      "Warning message:\n",
      "“package ‘tune’ was built under R version 4.0.2”\n",
      "Warning message:\n",
      "“package ‘workflows’ was built under R version 4.0.2”\n",
      "Warning message:\n",
      "“package ‘yardstick’ was built under R version 4.0.2”\n",
      "── \u001b[1mConflicts\u001b[22m ───────────────────────────────────────── tidymodels_conflicts() ──\n",
      "\u001b[31m✖\u001b[39m \u001b[34mscales\u001b[39m::\u001b[32mdiscard()\u001b[39m masks \u001b[34mpurrr\u001b[39m::discard()\n",
      "\u001b[31m✖\u001b[39m \u001b[34mdplyr\u001b[39m::\u001b[32mfilter()\u001b[39m   masks \u001b[34mstats\u001b[39m::filter()\n",
      "\u001b[31m✖\u001b[39m \u001b[34mrecipes\u001b[39m::\u001b[32mfixed()\u001b[39m  masks \u001b[34mstringr\u001b[39m::fixed()\n",
      "\u001b[31m✖\u001b[39m \u001b[34mdplyr\u001b[39m::\u001b[32mlag()\u001b[39m      masks \u001b[34mstats\u001b[39m::lag()\n",
      "\u001b[31m✖\u001b[39m \u001b[34myardstick\u001b[39m::\u001b[32mspec()\u001b[39m masks \u001b[34mreadr\u001b[39m::spec()\n",
      "\u001b[31m✖\u001b[39m \u001b[34mrecipes\u001b[39m::\u001b[32mstep()\u001b[39m   masks \u001b[34mstats\u001b[39m::step()\n",
      "\n",
      "Warning message:\n",
      "“package ‘cowplot’ was built under R version 4.0.3”\n",
      "Registered S3 method overwritten by 'GGally':\n",
      "  method from   \n",
      "  +.gg   ggplot2\n",
      "\n"
     ]
    }
   ],
   "source": [
    "library(tidyverse)\n",
    "library(repr)\n",
    "library(tidymodels)\n",
    "library(cowplot)\n",
    "library(digest)\n",
    "library(repr)\n",
    "library(GGally)\n",
    "library(ISLR)\n",
    "options(repr.matrix.max.rows = 6)"
   ]
  },
  {
   "cell_type": "markdown",
   "metadata": {},
   "source": [
    "## Outline\n",
    "\n",
    "1. read data, select \"Post Hour\" and \"Likes\", \"Comments\", \"Shares\"\n",
    "2. split data\n",
    "3. create knn regression model\n",
    "        - find best k in workflow using training data\n",
    "        - refit the model with test data\n",
    "4. create simple linear regression model\n",
    "5. create new tibble with every hour\n",
    "6. find \"Likes\", \"Comments\", \"Shares\" for each hour using knn regression and linear regression models\n",
    "7. find hour with highest \"Likes\", \"Comments\", \"Shares\""
   ]
  },
  {
   "cell_type": "markdown",
   "metadata": {},
   "source": [
    "When is the best month, weekday, and hour to post for the highest engagement in comments, likes, and shares?"
   ]
  },
  {
   "cell_type": "code",
   "execution_count": null,
   "metadata": {},
   "outputs": [],
   "source": []
  },
  {
   "cell_type": "code",
   "execution_count": 2,
   "metadata": {},
   "outputs": [
    {
     "name": "stderr",
     "output_type": "stream",
     "text": [
      "Using ',' as decimal and '.' as grouping mark. Use read_delim() for more control.\n",
      "\n",
      "Parsed with column specification:\n",
      "cols(\n",
      "  `Page total likes` = \u001b[32mcol_double()\u001b[39m,\n",
      "  Type = \u001b[31mcol_character()\u001b[39m,\n",
      "  Category = \u001b[32mcol_double()\u001b[39m,\n",
      "  `Post Month` = \u001b[32mcol_double()\u001b[39m,\n",
      "  `Post Weekday` = \u001b[32mcol_double()\u001b[39m,\n",
      "  `Post Hour` = \u001b[32mcol_double()\u001b[39m,\n",
      "  Paid = \u001b[32mcol_double()\u001b[39m,\n",
      "  `Lifetime Post Total Reach` = \u001b[32mcol_double()\u001b[39m,\n",
      "  `Lifetime Post Total Impressions` = \u001b[32mcol_double()\u001b[39m,\n",
      "  `Lifetime Engaged Users` = \u001b[32mcol_double()\u001b[39m,\n",
      "  `Lifetime Post Consumers` = \u001b[32mcol_double()\u001b[39m,\n",
      "  `Lifetime Post Consumptions` = \u001b[32mcol_double()\u001b[39m,\n",
      "  `Lifetime Post Impressions by people who have liked your Page` = \u001b[32mcol_double()\u001b[39m,\n",
      "  `Lifetime Post reach by people who like your Page` = \u001b[32mcol_double()\u001b[39m,\n",
      "  `Lifetime People who have liked your Page and engaged with your post` = \u001b[32mcol_double()\u001b[39m,\n",
      "  comment = \u001b[32mcol_double()\u001b[39m,\n",
      "  like = \u001b[32mcol_double()\u001b[39m,\n",
      "  share = \u001b[32mcol_double()\u001b[39m,\n",
      "  `Total Interactions` = \u001b[32mcol_double()\u001b[39m\n",
      ")\n",
      "\n"
     ]
    },
    {
     "data": {
      "text/html": [
       "<table>\n",
       "<caption>A tibble: 6 × 19</caption>\n",
       "<thead>\n",
       "\t<tr><th scope=col>Page total likes</th><th scope=col>Type</th><th scope=col>Category</th><th scope=col>Post Month</th><th scope=col>Post Weekday</th><th scope=col>Post Hour</th><th scope=col>Paid</th><th scope=col>Lifetime Post Total Reach</th><th scope=col>Lifetime Post Total Impressions</th><th scope=col>Lifetime Engaged Users</th><th scope=col>Lifetime Post Consumers</th><th scope=col>Lifetime Post Consumptions</th><th scope=col>Lifetime Post Impressions by people who have liked your Page</th><th scope=col>Lifetime Post reach by people who like your Page</th><th scope=col>Lifetime People who have liked your Page and engaged with your post</th><th scope=col>comment</th><th scope=col>like</th><th scope=col>share</th><th scope=col>Total Interactions</th></tr>\n",
       "\t<tr><th scope=col>&lt;dbl&gt;</th><th scope=col>&lt;chr&gt;</th><th scope=col>&lt;dbl&gt;</th><th scope=col>&lt;dbl&gt;</th><th scope=col>&lt;dbl&gt;</th><th scope=col>&lt;dbl&gt;</th><th scope=col>&lt;dbl&gt;</th><th scope=col>&lt;dbl&gt;</th><th scope=col>&lt;dbl&gt;</th><th scope=col>&lt;dbl&gt;</th><th scope=col>&lt;dbl&gt;</th><th scope=col>&lt;dbl&gt;</th><th scope=col>&lt;dbl&gt;</th><th scope=col>&lt;dbl&gt;</th><th scope=col>&lt;dbl&gt;</th><th scope=col>&lt;dbl&gt;</th><th scope=col>&lt;dbl&gt;</th><th scope=col>&lt;dbl&gt;</th><th scope=col>&lt;dbl&gt;</th></tr>\n",
       "</thead>\n",
       "<tbody>\n",
       "\t<tr><td>139441</td><td>Photo </td><td>2</td><td>12</td><td>4</td><td> 3</td><td>0</td><td> 2752</td><td> 5091</td><td> 178</td><td> 109</td><td> 159</td><td> 3078</td><td> 1640</td><td> 119</td><td> 4</td><td>  79</td><td> 17</td><td> 100</td></tr>\n",
       "\t<tr><td>139441</td><td>Status</td><td>2</td><td>12</td><td>3</td><td>10</td><td>0</td><td>10460</td><td>19057</td><td>1457</td><td>1361</td><td>1674</td><td>11710</td><td> 6112</td><td>1108</td><td> 5</td><td> 130</td><td> 29</td><td> 164</td></tr>\n",
       "\t<tr><td>139441</td><td>Photo </td><td>3</td><td>12</td><td>3</td><td> 3</td><td>0</td><td> 2413</td><td> 4373</td><td> 177</td><td> 113</td><td> 154</td><td> 2812</td><td> 1503</td><td> 132</td><td> 0</td><td>  66</td><td> 14</td><td>  80</td></tr>\n",
       "\t<tr><td>139441</td><td>Photo </td><td>2</td><td>12</td><td>2</td><td>10</td><td>1</td><td>50128</td><td>87991</td><td>2211</td><td> 790</td><td>1119</td><td>61027</td><td>32048</td><td>1386</td><td>58</td><td>1572</td><td>147</td><td>1777</td></tr>\n",
       "\t<tr><td>139441</td><td>Photo </td><td>2</td><td>12</td><td>2</td><td> 3</td><td>0</td><td> 7244</td><td>13594</td><td> 671</td><td> 410</td><td> 580</td><td> 6228</td><td> 3200</td><td> 396</td><td>19</td><td> 325</td><td> 49</td><td> 393</td></tr>\n",
       "\t<tr><td>139441</td><td>Status</td><td>2</td><td>12</td><td>1</td><td> 9</td><td>0</td><td>10472</td><td>20849</td><td>1191</td><td>1073</td><td>1389</td><td>16034</td><td> 7852</td><td>1016</td><td> 1</td><td> 152</td><td> 33</td><td> 186</td></tr>\n",
       "</tbody>\n",
       "</table>\n"
      ],
      "text/latex": [
       "A tibble: 6 × 19\n",
       "\\begin{tabular}{lllllllllllllllllll}\n",
       " Page total likes & Type & Category & Post Month & Post Weekday & Post Hour & Paid & Lifetime Post Total Reach & Lifetime Post Total Impressions & Lifetime Engaged Users & Lifetime Post Consumers & Lifetime Post Consumptions & Lifetime Post Impressions by people who have liked your Page & Lifetime Post reach by people who like your Page & Lifetime People who have liked your Page and engaged with your post & comment & like & share & Total Interactions\\\\\n",
       " <dbl> & <chr> & <dbl> & <dbl> & <dbl> & <dbl> & <dbl> & <dbl> & <dbl> & <dbl> & <dbl> & <dbl> & <dbl> & <dbl> & <dbl> & <dbl> & <dbl> & <dbl> & <dbl>\\\\\n",
       "\\hline\n",
       "\t 139441 & Photo  & 2 & 12 & 4 &  3 & 0 &  2752 &  5091 &  178 &  109 &  159 &  3078 &  1640 &  119 &  4 &   79 &  17 &  100\\\\\n",
       "\t 139441 & Status & 2 & 12 & 3 & 10 & 0 & 10460 & 19057 & 1457 & 1361 & 1674 & 11710 &  6112 & 1108 &  5 &  130 &  29 &  164\\\\\n",
       "\t 139441 & Photo  & 3 & 12 & 3 &  3 & 0 &  2413 &  4373 &  177 &  113 &  154 &  2812 &  1503 &  132 &  0 &   66 &  14 &   80\\\\\n",
       "\t 139441 & Photo  & 2 & 12 & 2 & 10 & 1 & 50128 & 87991 & 2211 &  790 & 1119 & 61027 & 32048 & 1386 & 58 & 1572 & 147 & 1777\\\\\n",
       "\t 139441 & Photo  & 2 & 12 & 2 &  3 & 0 &  7244 & 13594 &  671 &  410 &  580 &  6228 &  3200 &  396 & 19 &  325 &  49 &  393\\\\\n",
       "\t 139441 & Status & 2 & 12 & 1 &  9 & 0 & 10472 & 20849 & 1191 & 1073 & 1389 & 16034 &  7852 & 1016 &  1 &  152 &  33 &  186\\\\\n",
       "\\end{tabular}\n"
      ],
      "text/markdown": [
       "\n",
       "A tibble: 6 × 19\n",
       "\n",
       "| Page total likes &lt;dbl&gt; | Type &lt;chr&gt; | Category &lt;dbl&gt; | Post Month &lt;dbl&gt; | Post Weekday &lt;dbl&gt; | Post Hour &lt;dbl&gt; | Paid &lt;dbl&gt; | Lifetime Post Total Reach &lt;dbl&gt; | Lifetime Post Total Impressions &lt;dbl&gt; | Lifetime Engaged Users &lt;dbl&gt; | Lifetime Post Consumers &lt;dbl&gt; | Lifetime Post Consumptions &lt;dbl&gt; | Lifetime Post Impressions by people who have liked your Page &lt;dbl&gt; | Lifetime Post reach by people who like your Page &lt;dbl&gt; | Lifetime People who have liked your Page and engaged with your post &lt;dbl&gt; | comment &lt;dbl&gt; | like &lt;dbl&gt; | share &lt;dbl&gt; | Total Interactions &lt;dbl&gt; |\n",
       "|---|---|---|---|---|---|---|---|---|---|---|---|---|---|---|---|---|---|---|\n",
       "| 139441 | Photo  | 2 | 12 | 4 |  3 | 0 |  2752 |  5091 |  178 |  109 |  159 |  3078 |  1640 |  119 |  4 |   79 |  17 |  100 |\n",
       "| 139441 | Status | 2 | 12 | 3 | 10 | 0 | 10460 | 19057 | 1457 | 1361 | 1674 | 11710 |  6112 | 1108 |  5 |  130 |  29 |  164 |\n",
       "| 139441 | Photo  | 3 | 12 | 3 |  3 | 0 |  2413 |  4373 |  177 |  113 |  154 |  2812 |  1503 |  132 |  0 |   66 |  14 |   80 |\n",
       "| 139441 | Photo  | 2 | 12 | 2 | 10 | 1 | 50128 | 87991 | 2211 |  790 | 1119 | 61027 | 32048 | 1386 | 58 | 1572 | 147 | 1777 |\n",
       "| 139441 | Photo  | 2 | 12 | 2 |  3 | 0 |  7244 | 13594 |  671 |  410 |  580 |  6228 |  3200 |  396 | 19 |  325 |  49 |  393 |\n",
       "| 139441 | Status | 2 | 12 | 1 |  9 | 0 | 10472 | 20849 | 1191 | 1073 | 1389 | 16034 |  7852 | 1016 |  1 |  152 |  33 |  186 |\n",
       "\n"
      ],
      "text/plain": [
       "  Page total likes Type   Category Post Month Post Weekday Post Hour Paid\n",
       "1 139441           Photo  2        12         4             3        0   \n",
       "2 139441           Status 2        12         3            10        0   \n",
       "3 139441           Photo  3        12         3             3        0   \n",
       "4 139441           Photo  2        12         2            10        1   \n",
       "5 139441           Photo  2        12         2             3        0   \n",
       "6 139441           Status 2        12         1             9        0   \n",
       "  Lifetime Post Total Reach Lifetime Post Total Impressions\n",
       "1  2752                      5091                          \n",
       "2 10460                     19057                          \n",
       "3  2413                      4373                          \n",
       "4 50128                     87991                          \n",
       "5  7244                     13594                          \n",
       "6 10472                     20849                          \n",
       "  Lifetime Engaged Users Lifetime Post Consumers Lifetime Post Consumptions\n",
       "1  178                    109                     159                      \n",
       "2 1457                   1361                    1674                      \n",
       "3  177                    113                     154                      \n",
       "4 2211                    790                    1119                      \n",
       "5  671                    410                     580                      \n",
       "6 1191                   1073                    1389                      \n",
       "  Lifetime Post Impressions by people who have liked your Page\n",
       "1  3078                                                       \n",
       "2 11710                                                       \n",
       "3  2812                                                       \n",
       "4 61027                                                       \n",
       "5  6228                                                       \n",
       "6 16034                                                       \n",
       "  Lifetime Post reach by people who like your Page\n",
       "1  1640                                           \n",
       "2  6112                                           \n",
       "3  1503                                           \n",
       "4 32048                                           \n",
       "5  3200                                           \n",
       "6  7852                                           \n",
       "  Lifetime People who have liked your Page and engaged with your post comment\n",
       "1  119                                                                 4     \n",
       "2 1108                                                                 5     \n",
       "3  132                                                                 0     \n",
       "4 1386                                                                58     \n",
       "5  396                                                                19     \n",
       "6 1016                                                                 1     \n",
       "  like share Total Interactions\n",
       "1   79  17    100              \n",
       "2  130  29    164              \n",
       "3   66  14     80              \n",
       "4 1572 147   1777              \n",
       "5  325  49    393              \n",
       "6  152  33    186              "
      ]
     },
     "metadata": {},
     "output_type": "display_data"
    },
    {
     "data": {
      "text/html": [
       "<table>\n",
       "<caption>A spec_tbl_df: 500 × 19</caption>\n",
       "<thead>\n",
       "\t<tr><th scope=col>Page total likes</th><th scope=col>Type</th><th scope=col>Category</th><th scope=col>Post Month</th><th scope=col>Post Weekday</th><th scope=col>Post Hour</th><th scope=col>Paid</th><th scope=col>Lifetime Post Total Reach</th><th scope=col>Lifetime Post Total Impressions</th><th scope=col>Lifetime Engaged Users</th><th scope=col>Lifetime Post Consumers</th><th scope=col>Lifetime Post Consumptions</th><th scope=col>Lifetime Post Impressions by people who have liked your Page</th><th scope=col>Lifetime Post reach by people who like your Page</th><th scope=col>Lifetime People who have liked your Page and engaged with your post</th><th scope=col>comment</th><th scope=col>like</th><th scope=col>share</th><th scope=col>Total Interactions</th></tr>\n",
       "\t<tr><th scope=col>&lt;dbl&gt;</th><th scope=col>&lt;chr&gt;</th><th scope=col>&lt;dbl&gt;</th><th scope=col>&lt;dbl&gt;</th><th scope=col>&lt;dbl&gt;</th><th scope=col>&lt;dbl&gt;</th><th scope=col>&lt;dbl&gt;</th><th scope=col>&lt;dbl&gt;</th><th scope=col>&lt;dbl&gt;</th><th scope=col>&lt;dbl&gt;</th><th scope=col>&lt;dbl&gt;</th><th scope=col>&lt;dbl&gt;</th><th scope=col>&lt;dbl&gt;</th><th scope=col>&lt;dbl&gt;</th><th scope=col>&lt;dbl&gt;</th><th scope=col>&lt;dbl&gt;</th><th scope=col>&lt;dbl&gt;</th><th scope=col>&lt;dbl&gt;</th><th scope=col>&lt;dbl&gt;</th></tr>\n",
       "</thead>\n",
       "<tbody>\n",
       "\t<tr><td>139441</td><td>Photo </td><td>2</td><td>12</td><td>4</td><td> 3</td><td>0</td><td> 2752</td><td> 5091</td><td> 178</td><td> 109</td><td> 159</td><td> 3078</td><td>1640</td><td> 119</td><td>4</td><td> 79</td><td>17</td><td>100</td></tr>\n",
       "\t<tr><td>139441</td><td>Status</td><td>2</td><td>12</td><td>3</td><td>10</td><td>0</td><td>10460</td><td>19057</td><td>1457</td><td>1361</td><td>1674</td><td>11710</td><td>6112</td><td>1108</td><td>5</td><td>130</td><td>29</td><td>164</td></tr>\n",
       "\t<tr><td>139441</td><td>Photo </td><td>3</td><td>12</td><td>3</td><td> 3</td><td>0</td><td> 2413</td><td> 4373</td><td> 177</td><td> 113</td><td> 154</td><td> 2812</td><td>1503</td><td> 132</td><td>0</td><td> 66</td><td>14</td><td> 80</td></tr>\n",
       "\t<tr><td>⋮</td><td>⋮</td><td>⋮</td><td>⋮</td><td>⋮</td><td>⋮</td><td>⋮</td><td>⋮</td><td>⋮</td><td>⋮</td><td>⋮</td><td>⋮</td><td>⋮</td><td>⋮</td><td>⋮</td><td>⋮</td><td>⋮</td><td>⋮</td><td>⋮</td></tr>\n",
       "\t<tr><td>81370</td><td>Photo</td><td>1</td><td>1</td><td>5</td><td> 2</td><td> 0</td><td>3778</td><td>7216</td><td>625</td><td>572</td><td>795</td><td>4742</td><td>2388</td><td>363</td><td>4</td><td>93</td><td>18</td><td>115</td></tr>\n",
       "\t<tr><td>81370</td><td>Photo</td><td>3</td><td>1</td><td>4</td><td>11</td><td> 0</td><td>4156</td><td>7564</td><td>626</td><td>574</td><td>832</td><td>4534</td><td>2452</td><td>370</td><td>7</td><td>91</td><td>38</td><td>136</td></tr>\n",
       "\t<tr><td>81370</td><td>Photo</td><td>2</td><td>1</td><td>4</td><td> 4</td><td>NA</td><td>4188</td><td>7292</td><td>564</td><td>524</td><td>743</td><td>3861</td><td>2200</td><td>316</td><td>0</td><td>91</td><td>28</td><td>119</td></tr>\n",
       "</tbody>\n",
       "</table>\n"
      ],
      "text/latex": [
       "A spec\\_tbl\\_df: 500 × 19\n",
       "\\begin{tabular}{lllllllllllllllllll}\n",
       " Page total likes & Type & Category & Post Month & Post Weekday & Post Hour & Paid & Lifetime Post Total Reach & Lifetime Post Total Impressions & Lifetime Engaged Users & Lifetime Post Consumers & Lifetime Post Consumptions & Lifetime Post Impressions by people who have liked your Page & Lifetime Post reach by people who like your Page & Lifetime People who have liked your Page and engaged with your post & comment & like & share & Total Interactions\\\\\n",
       " <dbl> & <chr> & <dbl> & <dbl> & <dbl> & <dbl> & <dbl> & <dbl> & <dbl> & <dbl> & <dbl> & <dbl> & <dbl> & <dbl> & <dbl> & <dbl> & <dbl> & <dbl> & <dbl>\\\\\n",
       "\\hline\n",
       "\t 139441 & Photo  & 2 & 12 & 4 &  3 & 0 &  2752 &  5091 &  178 &  109 &  159 &  3078 & 1640 &  119 & 4 &  79 & 17 & 100\\\\\n",
       "\t 139441 & Status & 2 & 12 & 3 & 10 & 0 & 10460 & 19057 & 1457 & 1361 & 1674 & 11710 & 6112 & 1108 & 5 & 130 & 29 & 164\\\\\n",
       "\t 139441 & Photo  & 3 & 12 & 3 &  3 & 0 &  2413 &  4373 &  177 &  113 &  154 &  2812 & 1503 &  132 & 0 &  66 & 14 &  80\\\\\n",
       "\t ⋮ & ⋮ & ⋮ & ⋮ & ⋮ & ⋮ & ⋮ & ⋮ & ⋮ & ⋮ & ⋮ & ⋮ & ⋮ & ⋮ & ⋮ & ⋮ & ⋮ & ⋮ & ⋮\\\\\n",
       "\t 81370 & Photo & 1 & 1 & 5 &  2 &  0 & 3778 & 7216 & 625 & 572 & 795 & 4742 & 2388 & 363 & 4 & 93 & 18 & 115\\\\\n",
       "\t 81370 & Photo & 3 & 1 & 4 & 11 &  0 & 4156 & 7564 & 626 & 574 & 832 & 4534 & 2452 & 370 & 7 & 91 & 38 & 136\\\\\n",
       "\t 81370 & Photo & 2 & 1 & 4 &  4 & NA & 4188 & 7292 & 564 & 524 & 743 & 3861 & 2200 & 316 & 0 & 91 & 28 & 119\\\\\n",
       "\\end{tabular}\n"
      ],
      "text/markdown": [
       "\n",
       "A spec_tbl_df: 500 × 19\n",
       "\n",
       "| Page total likes &lt;dbl&gt; | Type &lt;chr&gt; | Category &lt;dbl&gt; | Post Month &lt;dbl&gt; | Post Weekday &lt;dbl&gt; | Post Hour &lt;dbl&gt; | Paid &lt;dbl&gt; | Lifetime Post Total Reach &lt;dbl&gt; | Lifetime Post Total Impressions &lt;dbl&gt; | Lifetime Engaged Users &lt;dbl&gt; | Lifetime Post Consumers &lt;dbl&gt; | Lifetime Post Consumptions &lt;dbl&gt; | Lifetime Post Impressions by people who have liked your Page &lt;dbl&gt; | Lifetime Post reach by people who like your Page &lt;dbl&gt; | Lifetime People who have liked your Page and engaged with your post &lt;dbl&gt; | comment &lt;dbl&gt; | like &lt;dbl&gt; | share &lt;dbl&gt; | Total Interactions &lt;dbl&gt; |\n",
       "|---|---|---|---|---|---|---|---|---|---|---|---|---|---|---|---|---|---|---|\n",
       "| 139441 | Photo  | 2 | 12 | 4 |  3 | 0 |  2752 |  5091 |  178 |  109 |  159 |  3078 | 1640 |  119 | 4 |  79 | 17 | 100 |\n",
       "| 139441 | Status | 2 | 12 | 3 | 10 | 0 | 10460 | 19057 | 1457 | 1361 | 1674 | 11710 | 6112 | 1108 | 5 | 130 | 29 | 164 |\n",
       "| 139441 | Photo  | 3 | 12 | 3 |  3 | 0 |  2413 |  4373 |  177 |  113 |  154 |  2812 | 1503 |  132 | 0 |  66 | 14 |  80 |\n",
       "| ⋮ | ⋮ | ⋮ | ⋮ | ⋮ | ⋮ | ⋮ | ⋮ | ⋮ | ⋮ | ⋮ | ⋮ | ⋮ | ⋮ | ⋮ | ⋮ | ⋮ | ⋮ | ⋮ |\n",
       "| 81370 | Photo | 1 | 1 | 5 |  2 |  0 | 3778 | 7216 | 625 | 572 | 795 | 4742 | 2388 | 363 | 4 | 93 | 18 | 115 |\n",
       "| 81370 | Photo | 3 | 1 | 4 | 11 |  0 | 4156 | 7564 | 626 | 574 | 832 | 4534 | 2452 | 370 | 7 | 91 | 38 | 136 |\n",
       "| 81370 | Photo | 2 | 1 | 4 |  4 | NA | 4188 | 7292 | 564 | 524 | 743 | 3861 | 2200 | 316 | 0 | 91 | 28 | 119 |\n",
       "\n"
      ],
      "text/plain": [
       "    Page total likes Type   Category Post Month Post Weekday Post Hour Paid\n",
       "1   139441           Photo  2        12         4             3        0   \n",
       "2   139441           Status 2        12         3            10        0   \n",
       "3   139441           Photo  3        12         3             3        0   \n",
       "⋮   ⋮                ⋮      ⋮        ⋮          ⋮            ⋮         ⋮   \n",
       "498 81370            Photo  1        1          5             2         0  \n",
       "499 81370            Photo  3        1          4            11         0  \n",
       "500 81370            Photo  2        1          4             4        NA  \n",
       "    Lifetime Post Total Reach Lifetime Post Total Impressions\n",
       "1    2752                      5091                          \n",
       "2   10460                     19057                          \n",
       "3    2413                      4373                          \n",
       "⋮   ⋮                         ⋮                              \n",
       "498 3778                      7216                           \n",
       "499 4156                      7564                           \n",
       "500 4188                      7292                           \n",
       "    Lifetime Engaged Users Lifetime Post Consumers Lifetime Post Consumptions\n",
       "1    178                    109                     159                      \n",
       "2   1457                   1361                    1674                      \n",
       "3    177                    113                     154                      \n",
       "⋮   ⋮                      ⋮                       ⋮                         \n",
       "498 625                    572                     795                       \n",
       "499 626                    574                     832                       \n",
       "500 564                    524                     743                       \n",
       "    Lifetime Post Impressions by people who have liked your Page\n",
       "1    3078                                                       \n",
       "2   11710                                                       \n",
       "3    2812                                                       \n",
       "⋮   ⋮                                                           \n",
       "498 4742                                                        \n",
       "499 4534                                                        \n",
       "500 3861                                                        \n",
       "    Lifetime Post reach by people who like your Page\n",
       "1   1640                                            \n",
       "2   6112                                            \n",
       "3   1503                                            \n",
       "⋮   ⋮                                               \n",
       "498 2388                                            \n",
       "499 2452                                            \n",
       "500 2200                                            \n",
       "    Lifetime People who have liked your Page and engaged with your post comment\n",
       "1    119                                                                4      \n",
       "2   1108                                                                5      \n",
       "3    132                                                                0      \n",
       "⋮   ⋮                                                                   ⋮      \n",
       "498 363                                                                 4      \n",
       "499 370                                                                 7      \n",
       "500 316                                                                 0      \n",
       "    like share Total Interactions\n",
       "1    79  17    100               \n",
       "2   130  29    164               \n",
       "3    66  14     80               \n",
       "⋮   ⋮    ⋮     ⋮                 \n",
       "498 93   18    115               \n",
       "499 91   38    136               \n",
       "500 91   28    119               "
      ]
     },
     "metadata": {},
     "output_type": "display_data"
    }
   ],
   "source": [
    "#reading the data\n",
    "temp <- tempfile()\n",
    "download.file(\"https://archive.ics.uci.edu/ml/machine-learning-databases/00368/Facebook_metrics.zip\",temp)\n",
    "\n",
    "#Reading the data in R\n",
    "facebook <- read_csv2(unz(temp, \"dataset_Facebook.csv\"))\n",
    "head(facebook)\n",
    "unlink(temp)\n",
    "facebook\n",
    "\n",
    "#fill in blank values with 0\n",
    "facebook[is.na(facebook)] <- 0"
   ]
  },
  {
   "cell_type": "markdown",
   "metadata": {},
   "source": [
    "Looking at our dataset, it passes the test for tidy data (each row is a single observation, each column is a single variable, each value is a single cell), so no further cleaning data tools are required. However, the column names are separated by white spaces instead of underscores (_). We will deal with this issue first and rename our predictor columns to additional headaches along the way. \n",
    "\n",
    "Before we'll get ahead with our exploratory data analysis, we'll split the data into training and testing data to perform a quick summary of the training dataset, including the number of rows, the number of columns, the number of rows with missing data values, and the mean of our predictor variables."
   ]
  },
  {
   "cell_type": "code",
   "execution_count": 3,
   "metadata": {},
   "outputs": [
    {
     "data": {
      "text/html": [
       "<table>\n",
       "<caption>A tibble: 1 × 7</caption>\n",
       "<thead>\n",
       "\t<tr><th scope=col>observation_total</th><th scope=col>variable_total</th><th scope=col>average_likes</th><th scope=col>average_comments</th><th scope=col>average_shares</th><th scope=col>average_total_interactions</th><th scope=col>missing_rows</th></tr>\n",
       "\t<tr><th scope=col>&lt;int&gt;</th><th scope=col>&lt;int&gt;</th><th scope=col>&lt;dbl&gt;</th><th scope=col>&lt;dbl&gt;</th><th scope=col>&lt;dbl&gt;</th><th scope=col>&lt;dbl&gt;</th><th scope=col>&lt;dbl&gt;</th></tr>\n",
       "</thead>\n",
       "<tbody>\n",
       "\t<tr><td>376</td><td>19</td><td>160.4761</td><td>6.305851</td><td>24.56915</td><td>191.3511</td><td>0</td></tr>\n",
       "</tbody>\n",
       "</table>\n"
      ],
      "text/latex": [
       "A tibble: 1 × 7\n",
       "\\begin{tabular}{lllllll}\n",
       " observation\\_total & variable\\_total & average\\_likes & average\\_comments & average\\_shares & average\\_total\\_interactions & missing\\_rows\\\\\n",
       " <int> & <int> & <dbl> & <dbl> & <dbl> & <dbl> & <dbl>\\\\\n",
       "\\hline\n",
       "\t 376 & 19 & 160.4761 & 6.305851 & 24.56915 & 191.3511 & 0\\\\\n",
       "\\end{tabular}\n"
      ],
      "text/markdown": [
       "\n",
       "A tibble: 1 × 7\n",
       "\n",
       "| observation_total &lt;int&gt; | variable_total &lt;int&gt; | average_likes &lt;dbl&gt; | average_comments &lt;dbl&gt; | average_shares &lt;dbl&gt; | average_total_interactions &lt;dbl&gt; | missing_rows &lt;dbl&gt; |\n",
       "|---|---|---|---|---|---|---|\n",
       "| 376 | 19 | 160.4761 | 6.305851 | 24.56915 | 191.3511 | 0 |\n",
       "\n"
      ],
      "text/plain": [
       "  observation_total variable_total average_likes average_comments\n",
       "1 376               19             160.4761      6.305851        \n",
       "  average_shares average_total_interactions missing_rows\n",
       "1 24.56915       191.3511                   0           "
      ]
     },
     "metadata": {},
     "output_type": "display_data"
    }
   ],
   "source": [
    "#Renaming \"Post Hour\"\n",
    "facebook_1 <- facebook %>% rename(post_hour = `Post Hour`) \n",
    "facebook_1 <- facebook_1 %>% rename(total_interactions = `Total Interactions`) \n",
    "facebook_filtered <- facebook_1 %>% filter(total_interactions < 5000) \n",
    "\n",
    "#Split into training (75 percent of data set) and test data\n",
    "set.seed(2021)\n",
    "facebook_split <- initial_split(facebook_filtered, prop = 0.75, strata = total_interactions)\n",
    "facebook_train <- training(facebook_split)\n",
    "facebook_test <- testing(facebook_split)\n",
    "\n",
    "\n",
    "#Missing Rows of Data\n",
    "missing_rows <- sum(colSums(is.na(facebook_train)))\n",
    "\n",
    "#Average of Each Predictor Variable\n",
    "average_likes <- mean(facebook_train[[\"like\"]])\n",
    "average_comments <- mean(facebook_train[[\"comment\"]])\n",
    "average_shares <- mean(facebook_train[[\"share\"]])\n",
    "average_total_interactions <- mean(facebook_train[[\"total_interactions\"]])\n",
    "\n",
    "#Total Number of Observations\n",
    "observation_total <- nrow(facebook_train)\n",
    "\n",
    "#Total Number of Variables\n",
    "variable_total <- ncol(facebook_train)\n",
    "\n",
    "#Exploratory Data Analysis Table\n",
    "exploratory_table <- facebook_train %>%\n",
    "                     mutate(facebook_train, observation_total = observation_total) %>%\n",
    "                     mutate(facebook_train, variable_total = variable_total) %>%\n",
    "                     mutate(facebook_train, average_likes = average_likes) %>%\n",
    "                     mutate(facebook_train, average_comments = average_comments) %>%\n",
    "                     mutate(facebook_train, average_shares = average_shares) %>%\n",
    "                     mutate(facebook_train, average_total_interactions = average_total_interactions) %>%\n",
    "                     mutate(facebook_train, missing_rows = missing_rows) %>%\n",
    "                     select(observation_total, variable_total, average_likes, average_comments, average_shares, average_total_interactions,\n",
    "                            missing_rows) %>%\n",
    "                     slice(1)\n",
    "exploratory_table\n",
    "#facebook <- facebook %>% \n",
    "  #  select(\"Post Hour\", \"like\", \"comment\", \"share\") %>% \n",
    "   # rename(post_hour = \"Post Hour\")\n",
    "#facebook"
   ]
  },
  {
   "cell_type": "markdown",
   "metadata": {},
   "source": [
    "Decription of us using highest engagment from this point forward."
   ]
  },
  {
   "cell_type": "code",
   "execution_count": 4,
   "metadata": {},
   "outputs": [
    {
     "data": {
      "image/png": "[encoded data removed]",
      "text/plain": [
       "plot without title"
      ]
     },
     "metadata": {
      "image/png": {
       "height": 420,
       "width": 420
      }
     },
     "output_type": "display_data"
    }
   ],
   "source": [
    "#Ggpairs\n",
    "facebook_ggpairs <- facebook_train %>%                 \n",
    "                    select(post_hour, total_interactions) %>%\n",
    "                    ggpairs()\n",
    "facebook_ggpairs"
   ]
  },
  {
   "cell_type": "markdown",
   "metadata": {},
   "source": [
    "This makes sense to have no correlation considering there shouldn't be a relationship between post_hour and total_interactions"
   ]
  },
  {
   "cell_type": "markdown",
   "metadata": {},
   "source": [
    "## Predicting Best Post Hour"
   ]
  },
  {
   "cell_type": "code",
   "execution_count": 5,
   "metadata": {},
   "outputs": [
    {
     "data": {
      "text/html": [
       "<table>\n",
       "<caption>A tibble: 1 × 7</caption>\n",
       "<thead>\n",
       "\t<tr><th scope=col>neighbors</th><th scope=col>.metric</th><th scope=col>.estimator</th><th scope=col>mean</th><th scope=col>n</th><th scope=col>std_err</th><th scope=col>.config</th></tr>\n",
       "\t<tr><th scope=col>&lt;int&gt;</th><th scope=col>&lt;chr&gt;</th><th scope=col>&lt;chr&gt;</th><th scope=col>&lt;dbl&gt;</th><th scope=col>&lt;int&gt;</th><th scope=col>&lt;dbl&gt;</th><th scope=col>&lt;chr&gt;</th></tr>\n",
       "</thead>\n",
       "<tbody>\n",
       "\t<tr><td>115</td><td>rmse</td><td>standard</td><td>226.688</td><td>5</td><td>38.79884</td><td>Model115</td></tr>\n",
       "</tbody>\n",
       "</table>\n"
      ],
      "text/latex": [
       "A tibble: 1 × 7\n",
       "\\begin{tabular}{lllllll}\n",
       " neighbors & .metric & .estimator & mean & n & std\\_err & .config\\\\\n",
       " <int> & <chr> & <chr> & <dbl> & <int> & <dbl> & <chr>\\\\\n",
       "\\hline\n",
       "\t 115 & rmse & standard & 226.688 & 5 & 38.79884 & Model115\\\\\n",
       "\\end{tabular}\n"
      ],
      "text/markdown": [
       "\n",
       "A tibble: 1 × 7\n",
       "\n",
       "| neighbors &lt;int&gt; | .metric &lt;chr&gt; | .estimator &lt;chr&gt; | mean &lt;dbl&gt; | n &lt;int&gt; | std_err &lt;dbl&gt; | .config &lt;chr&gt; |\n",
       "|---|---|---|---|---|---|---|\n",
       "| 115 | rmse | standard | 226.688 | 5 | 38.79884 | Model115 |\n",
       "\n"
      ],
      "text/plain": [
       "  neighbors .metric .estimator mean    n std_err  .config \n",
       "1 115       rmse    standard   226.688 5 38.79884 Model115"
      ]
     },
     "metadata": {},
     "output_type": "display_data"
    }
   ],
   "source": [
    "set.seed(2021)\n",
    "facebook_train <- mutate(facebook_train, post_minute = post_hour * 60)\n",
    "\n",
    "#Recipe for Post Hour\n",
    "facebook_recipe <- recipe(total_interactions ~ post_minute, data = facebook_train) %>%\n",
    "                   step_scale(all_predictors()) %>%\n",
    "                   step_center(all_predictors())\n",
    "#Model\n",
    "facebook_spec <- nearest_neighbor(weight_func = \"rectangular\", neighbors = tune()) %>%\n",
    "                 set_engine(\"kknn\") %>%\n",
    "                 set_mode(\"regression\")\n",
    "\n",
    "#5 fold cross validation\n",
    "facebook_vfold <- vfold_cv(facebook_train, v = 5, strata = total_interactions)\n",
    "\n",
    "#workflow\n",
    "facebook_workflow <- workflow() %>%\n",
    "                     add_recipe(facebook_recipe) %>%\n",
    "                     add_model(facebook_spec)\n",
    "\n",
    "#testing 200 values to find the best value for K\n",
    "gridvals <- tibble(neighbors = seq(1, 200))\n",
    "\n",
    "#Tuning workflow to test the values of K\n",
    "facebook_results <- facebook_workflow %>%\n",
    "                        tune_grid(resamples = facebook_vfold, grid = gridvals) %>%\n",
    "                        collect_metrics()\n",
    "#Min amount of RMSPE along with mean and standard error to find the best K value to use\n",
    "facebook_min <- facebook_results %>%\n",
    "    filter(.metric == \"rmse\") %>%\n",
    "    arrange(mean)  %>% \n",
    "    slice(1)\n",
    "\n",
    "facebook_min"
   ]
  },
  {
   "cell_type": "markdown",
   "metadata": {},
   "source": [
    "narration"
   ]
  },
  {
   "cell_type": "code",
   "execution_count": 6,
   "metadata": {},
   "outputs": [
    {
     "ename": "ERROR",
     "evalue": "Error: The following required columns are missing: 'post_minute'.\n",
     "output_type": "error",
     "traceback": [
      "Error: The following required columns are missing: 'post_minute'.\nTraceback:\n",
      "1. facebook_best_fit %>% predict(facebook_test) %>% bind_cols(facebook_test) %>% \n .     metrics(truth = total_interactions, estimate = .pred)",
      "2. withVisible(eval(quote(`_fseq`(`_lhs`)), env, env))",
      "3. eval(quote(`_fseq`(`_lhs`)), env, env)",
      "4. eval(quote(`_fseq`(`_lhs`)), env, env)",
      "5. `_fseq`(`_lhs`)",
      "6. freduce(value, `_function_list`)",
      "7. function_list[[i]](value)",
      "8. predict(., facebook_test)",
      "9. predict.workflow(., facebook_test)",
      "10. hardhat::forge(new_data, blueprint)",
      "11. forge.data.frame(new_data, blueprint)",
      "12. blueprint$forge$clean(blueprint = blueprint, new_data = new_data, \n  .     outcomes = outcomes)",
      "13. shrink(new_data, blueprint$ptypes$predictors)",
      "14. validate_column_names(data, cols)",
      "15. glubort(\"The following required columns are missing: {missing_names}.\")",
      "16. abort(glue(..., .sep = .sep, .envir = .envir))",
      "17. signal_abort(cnd)"
     ]
    }
   ],
   "source": [
    "#Min RMSPE\n",
    "set.seed(2021)\n",
    "k_min <- facebook_min %>%\n",
    "            pull(neighbors)\n",
    "\n",
    "#Using the best K in our model\n",
    "facebook_best_spec <- nearest_neighbor(weight_func = \"rectangular\", neighbors = k_min) %>%\n",
    "                            set_engine(\"kknn\") %>%\n",
    "                            set_mode(\"regression\")\n",
    "\n",
    "#Reworking the workflow to incorporate our chosen K\n",
    "facebook_best_fit <- workflow() %>%\n",
    "                        add_recipe(facebook_recipe) %>%\n",
    "                        add_model(facebook_best_spec) %>%\n",
    "                        fit(data = facebook_train)\n",
    "\n",
    "#Summary of the training vs testing data\n",
    "facebook_summary <- facebook_best_fit %>% \n",
    "                       predict(facebook_test) %>%\n",
    "                       bind_cols(facebook_test) %>%\n",
    "                       metrics(truth = total_interactions, estimate = .pred)  \n",
    "facebook_summary"
   ]
  },
  {
   "cell_type": "markdown",
   "metadata": {},
   "source": [
    "Narration"
   ]
  },
  {
   "cell_type": "code",
   "execution_count": null,
   "metadata": {},
   "outputs": [],
   "source": [
    "set.seed(2021)\n",
    "facebook_preds <- facebook_best_fit %>%\n",
    "                   predict(facebook_test) %>%\n",
    "                   bind_cols(facebook_test)\n",
    "facebook_preds\n",
    "facebook_plot_final <- ggplot(facebook_preds, aes(x = post_hour, y = total_interactions)) +\n",
    "                       geom_point(alpha = 0.1) +\n",
    "                       xlab(\"Hours\") +\n",
    "                      ylab(\"Total Interactions (Sum of Likes, Comments, and Shares)\") +\n",
    "                      geom_line(data = facebook_preds, aes(x = post_hour, y = .pred), color = \"blue\") +\n",
    "                      ggtitle(paste0(\"K = \", k_min))\n",
    "facebook_plot_final"
   ]
  },
  {
   "cell_type": "code",
   "execution_count": null,
   "metadata": {},
   "outputs": [],
   "source": [
    "summary(facebook_preds)"
   ]
  },
  {
   "cell_type": "code",
   "execution_count": null,
   "metadata": {},
   "outputs": [],
   "source": [
    "fb_spec <- linear_reg() %>%\n",
    "    set_engine(\"lm\") %>%\n",
    "    set_mode(\"regression\")\n",
    "\n",
    "fb_recipe <- recipe(total_interactions ~ post_hour, data = facebook_train)\n",
    "\n",
    "fb_fit <- workflow() %>%\n",
    "    add_recipe(fb_recipe) %>%\n",
    "    add_model(fb_spec) %>%\n",
    "    fit(data = facebook_train)\n",
    "\n",
    "fb_test_results <- fb_fit %>%\n",
    "    predict(facebook_test) %>%\n",
    "    bind_cols(facebook_test) %>%\n",
    "    metrics(truth = total_interactions, estimate = .pred)\n",
    "fb_test_results\n",
    "\n",
    "facebook_linear_preds <- fb_fit %>%\n",
    "                   predict(facebook_test) %>%\n",
    "                   bind_cols(facebook_test)\n",
    "facebook_linear_preds\n",
    "facebook_plot_final <- ggplot(facebook_linear_preds, aes(x = post_hour, y = total_interactions)) +\n",
    "                       geom_point(alpha = 0.1) +\n",
    "                       xlab(\"Hours\") +\n",
    "                       ylab(\"Total Interactions (Sum of Likes, Comments, and Shares)\") +\n",
    "                       geom_line(data = facebook_linear_preds, aes(x = post_hour, y = .pred), color = \"blue\") +\n",
    "                       ggtitle(paste0(\"K = \", k_min))\n",
    "facebook_plot_final"
   ]
  },
  {
   "cell_type": "code",
   "execution_count": null,
   "metadata": {},
   "outputs": [],
   "source": []
  }
 ],
 "metadata": {
  "kernelspec": {
   "display_name": "R",
   "language": "R",
   "name": "ir"
  },
  "language_info": {
   "codemirror_mode": "r",
   "file_extension": ".r",
   "mimetype": "text/x-r-source",
   "name": "R",
   "pygments_lexer": "r",
   "version": "4.0.0"
  }
 },
 "nbformat": 4,
 "nbformat_minor": 4
}
