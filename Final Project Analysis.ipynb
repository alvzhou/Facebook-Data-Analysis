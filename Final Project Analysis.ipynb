{
 "cells": [
  {
   "cell_type": "code",
   "execution_count": 2,
   "metadata": {},
   "outputs": [],
   "source": [
    "library(tidyverse)\n",
    "library(repr)\n",
    "library(tidymodels)\n",
    "library(cowplot)\n",
    "options(repr.matrix.max.rows = 6)"
   ]
  },
  {
   "cell_type": "code",
   "execution_count": 4,
   "metadata": {},
   "outputs": [
    {
     "name": "stderr",
     "output_type": "stream",
     "text": [
      "Using ',' as decimal and '.' as grouping mark. Use read_delim() for more control.\n",
      "\n",
      "Parsed with column specification:\n",
      "cols(\n",
      "  `Page total likes` = \u001b[32mcol_double()\u001b[39m,\n",
      "  Type = \u001b[31mcol_character()\u001b[39m,\n",
      "  Category = \u001b[32mcol_double()\u001b[39m,\n",
      "  `Post Month` = \u001b[32mcol_double()\u001b[39m,\n",
      "  `Post Weekday` = \u001b[32mcol_double()\u001b[39m,\n",
      "  `Post Hour` = \u001b[32mcol_double()\u001b[39m,\n",
      "  Paid = \u001b[32mcol_double()\u001b[39m,\n",
      "  `Lifetime Post Total Reach` = \u001b[32mcol_double()\u001b[39m,\n",
      "  `Lifetime Post Total Impressions` = \u001b[32mcol_double()\u001b[39m,\n",
      "  `Lifetime Engaged Users` = \u001b[32mcol_double()\u001b[39m,\n",
      "  `Lifetime Post Consumers` = \u001b[32mcol_double()\u001b[39m,\n",
      "  `Lifetime Post Consumptions` = \u001b[32mcol_double()\u001b[39m,\n",
      "  `Lifetime Post Impressions by people who have liked your Page` = \u001b[32mcol_double()\u001b[39m,\n",
      "  `Lifetime Post reach by people who like your Page` = \u001b[32mcol_double()\u001b[39m,\n",
      "  `Lifetime People who have liked your Page and engaged with your post` = \u001b[32mcol_double()\u001b[39m,\n",
      "  comment = \u001b[32mcol_double()\u001b[39m,\n",
      "  like = \u001b[32mcol_double()\u001b[39m,\n",
      "  share = \u001b[32mcol_double()\u001b[39m,\n",
      "  `Total Interactions` = \u001b[32mcol_double()\u001b[39m\n",
      ")\n",
      "\n"
     ]
    },
    {
     "data": {
      "text/html": [
       "<table>\n",
       "<caption>A tibble: 6 × 19</caption>\n",
       "<thead>\n",
       "\t<tr><th scope=col>Page total likes</th><th scope=col>Type</th><th scope=col>Category</th><th scope=col>Post Month</th><th scope=col>Post Weekday</th><th scope=col>Post Hour</th><th scope=col>Paid</th><th scope=col>Lifetime Post Total Reach</th><th scope=col>Lifetime Post Total Impressions</th><th scope=col>Lifetime Engaged Users</th><th scope=col>Lifetime Post Consumers</th><th scope=col>Lifetime Post Consumptions</th><th scope=col>Lifetime Post Impressions by people who have liked your Page</th><th scope=col>Lifetime Post reach by people who like your Page</th><th scope=col>Lifetime People who have liked your Page and engaged with your post</th><th scope=col>comment</th><th scope=col>like</th><th scope=col>share</th><th scope=col>Total Interactions</th></tr>\n",
       "\t<tr><th scope=col>&lt;dbl&gt;</th><th scope=col>&lt;chr&gt;</th><th scope=col>&lt;dbl&gt;</th><th scope=col>&lt;dbl&gt;</th><th scope=col>&lt;dbl&gt;</th><th scope=col>&lt;dbl&gt;</th><th scope=col>&lt;dbl&gt;</th><th scope=col>&lt;dbl&gt;</th><th scope=col>&lt;dbl&gt;</th><th scope=col>&lt;dbl&gt;</th><th scope=col>&lt;dbl&gt;</th><th scope=col>&lt;dbl&gt;</th><th scope=col>&lt;dbl&gt;</th><th scope=col>&lt;dbl&gt;</th><th scope=col>&lt;dbl&gt;</th><th scope=col>&lt;dbl&gt;</th><th scope=col>&lt;dbl&gt;</th><th scope=col>&lt;dbl&gt;</th><th scope=col>&lt;dbl&gt;</th></tr>\n",
       "</thead>\n",
       "<tbody>\n",
       "\t<tr><td>139441</td><td>Photo </td><td>2</td><td>12</td><td>4</td><td> 3</td><td>0</td><td> 2752</td><td> 5091</td><td> 178</td><td> 109</td><td> 159</td><td> 3078</td><td> 1640</td><td> 119</td><td> 4</td><td>  79</td><td> 17</td><td> 100</td></tr>\n",
       "\t<tr><td>139441</td><td>Status</td><td>2</td><td>12</td><td>3</td><td>10</td><td>0</td><td>10460</td><td>19057</td><td>1457</td><td>1361</td><td>1674</td><td>11710</td><td> 6112</td><td>1108</td><td> 5</td><td> 130</td><td> 29</td><td> 164</td></tr>\n",
       "\t<tr><td>139441</td><td>Photo </td><td>3</td><td>12</td><td>3</td><td> 3</td><td>0</td><td> 2413</td><td> 4373</td><td> 177</td><td> 113</td><td> 154</td><td> 2812</td><td> 1503</td><td> 132</td><td> 0</td><td>  66</td><td> 14</td><td>  80</td></tr>\n",
       "\t<tr><td>139441</td><td>Photo </td><td>2</td><td>12</td><td>2</td><td>10</td><td>1</td><td>50128</td><td>87991</td><td>2211</td><td> 790</td><td>1119</td><td>61027</td><td>32048</td><td>1386</td><td>58</td><td>1572</td><td>147</td><td>1777</td></tr>\n",
       "\t<tr><td>139441</td><td>Photo </td><td>2</td><td>12</td><td>2</td><td> 3</td><td>0</td><td> 7244</td><td>13594</td><td> 671</td><td> 410</td><td> 580</td><td> 6228</td><td> 3200</td><td> 396</td><td>19</td><td> 325</td><td> 49</td><td> 393</td></tr>\n",
       "\t<tr><td>139441</td><td>Status</td><td>2</td><td>12</td><td>1</td><td> 9</td><td>0</td><td>10472</td><td>20849</td><td>1191</td><td>1073</td><td>1389</td><td>16034</td><td> 7852</td><td>1016</td><td> 1</td><td> 152</td><td> 33</td><td> 186</td></tr>\n",
       "</tbody>\n",
       "</table>\n"
      ],
      "text/latex": [
       "A tibble: 6 × 19\n",
       "\\begin{tabular}{lllllllllllllllllll}\n",
       " Page total likes & Type & Category & Post Month & Post Weekday & Post Hour & Paid & Lifetime Post Total Reach & Lifetime Post Total Impressions & Lifetime Engaged Users & Lifetime Post Consumers & Lifetime Post Consumptions & Lifetime Post Impressions by people who have liked your Page & Lifetime Post reach by people who like your Page & Lifetime People who have liked your Page and engaged with your post & comment & like & share & Total Interactions\\\\\n",
       " <dbl> & <chr> & <dbl> & <dbl> & <dbl> & <dbl> & <dbl> & <dbl> & <dbl> & <dbl> & <dbl> & <dbl> & <dbl> & <dbl> & <dbl> & <dbl> & <dbl> & <dbl> & <dbl>\\\\\n",
       "\\hline\n",
       "\t 139441 & Photo  & 2 & 12 & 4 &  3 & 0 &  2752 &  5091 &  178 &  109 &  159 &  3078 &  1640 &  119 &  4 &   79 &  17 &  100\\\\\n",
       "\t 139441 & Status & 2 & 12 & 3 & 10 & 0 & 10460 & 19057 & 1457 & 1361 & 1674 & 11710 &  6112 & 1108 &  5 &  130 &  29 &  164\\\\\n",
       "\t 139441 & Photo  & 3 & 12 & 3 &  3 & 0 &  2413 &  4373 &  177 &  113 &  154 &  2812 &  1503 &  132 &  0 &   66 &  14 &   80\\\\\n",
       "\t 139441 & Photo  & 2 & 12 & 2 & 10 & 1 & 50128 & 87991 & 2211 &  790 & 1119 & 61027 & 32048 & 1386 & 58 & 1572 & 147 & 1777\\\\\n",
       "\t 139441 & Photo  & 2 & 12 & 2 &  3 & 0 &  7244 & 13594 &  671 &  410 &  580 &  6228 &  3200 &  396 & 19 &  325 &  49 &  393\\\\\n",
       "\t 139441 & Status & 2 & 12 & 1 &  9 & 0 & 10472 & 20849 & 1191 & 1073 & 1389 & 16034 &  7852 & 1016 &  1 &  152 &  33 &  186\\\\\n",
       "\\end{tabular}\n"
      ],
      "text/markdown": [
       "\n",
       "A tibble: 6 × 19\n",
       "\n",
       "| Page total likes &lt;dbl&gt; | Type &lt;chr&gt; | Category &lt;dbl&gt; | Post Month &lt;dbl&gt; | Post Weekday &lt;dbl&gt; | Post Hour &lt;dbl&gt; | Paid &lt;dbl&gt; | Lifetime Post Total Reach &lt;dbl&gt; | Lifetime Post Total Impressions &lt;dbl&gt; | Lifetime Engaged Users &lt;dbl&gt; | Lifetime Post Consumers &lt;dbl&gt; | Lifetime Post Consumptions &lt;dbl&gt; | Lifetime Post Impressions by people who have liked your Page &lt;dbl&gt; | Lifetime Post reach by people who like your Page &lt;dbl&gt; | Lifetime People who have liked your Page and engaged with your post &lt;dbl&gt; | comment &lt;dbl&gt; | like &lt;dbl&gt; | share &lt;dbl&gt; | Total Interactions &lt;dbl&gt; |\n",
       "|---|---|---|---|---|---|---|---|---|---|---|---|---|---|---|---|---|---|---|\n",
       "| 139441 | Photo  | 2 | 12 | 4 |  3 | 0 |  2752 |  5091 |  178 |  109 |  159 |  3078 |  1640 |  119 |  4 |   79 |  17 |  100 |\n",
       "| 139441 | Status | 2 | 12 | 3 | 10 | 0 | 10460 | 19057 | 1457 | 1361 | 1674 | 11710 |  6112 | 1108 |  5 |  130 |  29 |  164 |\n",
       "| 139441 | Photo  | 3 | 12 | 3 |  3 | 0 |  2413 |  4373 |  177 |  113 |  154 |  2812 |  1503 |  132 |  0 |   66 |  14 |   80 |\n",
       "| 139441 | Photo  | 2 | 12 | 2 | 10 | 1 | 50128 | 87991 | 2211 |  790 | 1119 | 61027 | 32048 | 1386 | 58 | 1572 | 147 | 1777 |\n",
       "| 139441 | Photo  | 2 | 12 | 2 |  3 | 0 |  7244 | 13594 |  671 |  410 |  580 |  6228 |  3200 |  396 | 19 |  325 |  49 |  393 |\n",
       "| 139441 | Status | 2 | 12 | 1 |  9 | 0 | 10472 | 20849 | 1191 | 1073 | 1389 | 16034 |  7852 | 1016 |  1 |  152 |  33 |  186 |\n",
       "\n"
      ],
      "text/plain": [
       "  Page total likes Type   Category Post Month Post Weekday Post Hour Paid\n",
       "1 139441           Photo  2        12         4             3        0   \n",
       "2 139441           Status 2        12         3            10        0   \n",
       "3 139441           Photo  3        12         3             3        0   \n",
       "4 139441           Photo  2        12         2            10        1   \n",
       "5 139441           Photo  2        12         2             3        0   \n",
       "6 139441           Status 2        12         1             9        0   \n",
       "  Lifetime Post Total Reach Lifetime Post Total Impressions\n",
       "1  2752                      5091                          \n",
       "2 10460                     19057                          \n",
       "3  2413                      4373                          \n",
       "4 50128                     87991                          \n",
       "5  7244                     13594                          \n",
       "6 10472                     20849                          \n",
       "  Lifetime Engaged Users Lifetime Post Consumers Lifetime Post Consumptions\n",
       "1  178                    109                     159                      \n",
       "2 1457                   1361                    1674                      \n",
       "3  177                    113                     154                      \n",
       "4 2211                    790                    1119                      \n",
       "5  671                    410                     580                      \n",
       "6 1191                   1073                    1389                      \n",
       "  Lifetime Post Impressions by people who have liked your Page\n",
       "1  3078                                                       \n",
       "2 11710                                                       \n",
       "3  2812                                                       \n",
       "4 61027                                                       \n",
       "5  6228                                                       \n",
       "6 16034                                                       \n",
       "  Lifetime Post reach by people who like your Page\n",
       "1  1640                                           \n",
       "2  6112                                           \n",
       "3  1503                                           \n",
       "4 32048                                           \n",
       "5  3200                                           \n",
       "6  7852                                           \n",
       "  Lifetime People who have liked your Page and engaged with your post comment\n",
       "1  119                                                                 4     \n",
       "2 1108                                                                 5     \n",
       "3  132                                                                 0     \n",
       "4 1386                                                                58     \n",
       "5  396                                                                19     \n",
       "6 1016                                                                 1     \n",
       "  like share Total Interactions\n",
       "1   79  17    100              \n",
       "2  130  29    164              \n",
       "3   66  14     80              \n",
       "4 1572 147   1777              \n",
       "5  325  49    393              \n",
       "6  152  33    186              "
      ]
     },
     "metadata": {},
     "output_type": "display_data"
    }
   ],
   "source": [
    "#reading the data\n",
    "temp <- tempfile()\n",
    "download.file(\"https://archive.ics.uci.edu/ml/machine-learning-databases/00368/Facebook_metrics.zip\",temp)\n",
    "\n",
    "#Reading the data in R\n",
    "facebook <- read_csv2(unz(temp, \"dataset_Facebook.csv\"))\n",
    "head(facebook)\n",
    "unlink(temp)"
   ]
  },
  {
   "cell_type": "code",
   "execution_count": 6,
   "metadata": {},
   "outputs": [],
   "source": [
    "#Splitting into training and testing data\n",
    "#Split into training (75 percent of data set) and test data\n",
    "facebook_split <- initial_split(facebook, prop = 0.75, strata = `Total Interactions`)\n",
    "facebook_train <- training(facebook_split)\n",
    "facebook_test <- testing(facebook_split)"
   ]
  },
  {
   "cell_type": "code",
   "execution_count": 25,
   "metadata": {},
   "outputs": [
    {
     "data": {
      "text/plain": [
       "══ Workflow ════════════════════════════════════════════════════════════════════\n",
       "\u001b[3mPreprocessor:\u001b[23m Recipe\n",
       "\u001b[3mModel:\u001b[23m nearest_neighbor()\n",
       "\n",
       "── Preprocessor ────────────────────────────────────────────────────────────────\n",
       "2 Recipe Steps\n",
       "\n",
       "● step_scale()\n",
       "● step_center()\n",
       "\n",
       "── Model ───────────────────────────────────────────────────────────────────────\n",
       "K-Nearest Neighbor Model Specification (regression)\n",
       "\n",
       "Main Arguments:\n",
       "  neighbors = tune()\n",
       "  weight_func = rectangular\n",
       "\n",
       "Computational engine: kknn \n"
      ]
     },
     "metadata": {},
     "output_type": "display_data"
    },
    {
     "name": "stderr",
     "output_type": "stream",
     "text": [
      "\u001b[31mx\u001b[39m \u001b[31mFold3: model 1/1 (predictions): Error: Problem with `mutate()` input `.row`.\n",
      "\u001b[...\u001b[39m\n",
      "\n",
      "\u001b[31mx\u001b[39m \u001b[31mFold5: model 1/1 (predictions): Error: Problem with `mutate()` input `.row`.\n",
      "\u001b[...\u001b[39m\n",
      "\n"
     ]
    },
    {
     "data": {
      "text/html": [
       "<table>\n",
       "<caption>A tibble: 400 × 7</caption>\n",
       "<thead>\n",
       "\t<tr><th scope=col>neighbors</th><th scope=col>.metric</th><th scope=col>.estimator</th><th scope=col>mean</th><th scope=col>n</th><th scope=col>std_err</th><th scope=col>.config</th></tr>\n",
       "\t<tr><th scope=col>&lt;int&gt;</th><th scope=col>&lt;chr&gt;</th><th scope=col>&lt;chr&gt;</th><th scope=col>&lt;dbl&gt;</th><th scope=col>&lt;int&gt;</th><th scope=col>&lt;dbl&gt;</th><th scope=col>&lt;chr&gt;</th></tr>\n",
       "</thead>\n",
       "<tbody>\n",
       "\t<tr><td>1</td><td>rmse</td><td>standard</td><td>4.884649788</td><td>3</td><td>0.215555565</td><td>Model001</td></tr>\n",
       "\t<tr><td>1</td><td>rsq </td><td>standard</td><td>0.009976445</td><td>3</td><td>0.006155074</td><td>Model001</td></tr>\n",
       "\t<tr><td>2</td><td>rmse</td><td>standard</td><td>4.090229663</td><td>3</td><td>0.150488092</td><td>Model002</td></tr>\n",
       "\t<tr><td>⋮</td><td>⋮</td><td>⋮</td><td>⋮</td><td>⋮</td><td>⋮</td><td>⋮</td></tr>\n",
       "\t<tr><td>199</td><td>rsq </td><td>standard</td><td>0.02452211</td><td>3</td><td>0.01905884</td><td>Model199</td></tr>\n",
       "\t<tr><td>200</td><td>rmse</td><td>standard</td><td>3.36358467</td><td>3</td><td>0.08748377</td><td>Model200</td></tr>\n",
       "\t<tr><td>200</td><td>rsq </td><td>standard</td><td>0.02589022</td><td>3</td><td>0.01735904</td><td>Model200</td></tr>\n",
       "</tbody>\n",
       "</table>\n"
      ],
      "text/latex": [
       "A tibble: 400 × 7\n",
       "\\begin{tabular}{lllllll}\n",
       " neighbors & .metric & .estimator & mean & n & std\\_err & .config\\\\\n",
       " <int> & <chr> & <chr> & <dbl> & <int> & <dbl> & <chr>\\\\\n",
       "\\hline\n",
       "\t 1 & rmse & standard & 4.884649788 & 3 & 0.215555565 & Model001\\\\\n",
       "\t 1 & rsq  & standard & 0.009976445 & 3 & 0.006155074 & Model001\\\\\n",
       "\t 2 & rmse & standard & 4.090229663 & 3 & 0.150488092 & Model002\\\\\n",
       "\t ⋮ & ⋮ & ⋮ & ⋮ & ⋮ & ⋮ & ⋮\\\\\n",
       "\t 199 & rsq  & standard & 0.02452211 & 3 & 0.01905884 & Model199\\\\\n",
       "\t 200 & rmse & standard & 3.36358467 & 3 & 0.08748377 & Model200\\\\\n",
       "\t 200 & rsq  & standard & 0.02589022 & 3 & 0.01735904 & Model200\\\\\n",
       "\\end{tabular}\n"
      ],
      "text/markdown": [
       "\n",
       "A tibble: 400 × 7\n",
       "\n",
       "| neighbors &lt;int&gt; | .metric &lt;chr&gt; | .estimator &lt;chr&gt; | mean &lt;dbl&gt; | n &lt;int&gt; | std_err &lt;dbl&gt; | .config &lt;chr&gt; |\n",
       "|---|---|---|---|---|---|---|\n",
       "| 1 | rmse | standard | 4.884649788 | 3 | 0.215555565 | Model001 |\n",
       "| 1 | rsq  | standard | 0.009976445 | 3 | 0.006155074 | Model001 |\n",
       "| 2 | rmse | standard | 4.090229663 | 3 | 0.150488092 | Model002 |\n",
       "| ⋮ | ⋮ | ⋮ | ⋮ | ⋮ | ⋮ | ⋮ |\n",
       "| 199 | rsq  | standard | 0.02452211 | 3 | 0.01905884 | Model199 |\n",
       "| 200 | rmse | standard | 3.36358467 | 3 | 0.08748377 | Model200 |\n",
       "| 200 | rsq  | standard | 0.02589022 | 3 | 0.01735904 | Model200 |\n",
       "\n"
      ],
      "text/plain": [
       "    neighbors .metric .estimator mean        n std_err     .config \n",
       "1   1         rmse    standard   4.884649788 3 0.215555565 Model001\n",
       "2   1         rsq     standard   0.009976445 3 0.006155074 Model001\n",
       "3   2         rmse    standard   4.090229663 3 0.150488092 Model002\n",
       "⋮   ⋮         ⋮       ⋮          ⋮           ⋮ ⋮           ⋮       \n",
       "398 199       rsq     standard   0.02452211  3 0.01905884  Model199\n",
       "399 200       rmse    standard   3.36358467  3 0.08748377  Model200\n",
       "400 200       rsq     standard   0.02589022  3 0.01735904  Model200"
      ]
     },
     "metadata": {},
     "output_type": "display_data"
    },
    {
     "data": {
      "text/html": [
       "<table>\n",
       "<caption>A tibble: 1 × 7</caption>\n",
       "<thead>\n",
       "\t<tr><th scope=col>neighbors</th><th scope=col>.metric</th><th scope=col>.estimator</th><th scope=col>mean</th><th scope=col>n</th><th scope=col>std_err</th><th scope=col>.config</th></tr>\n",
       "\t<tr><th scope=col>&lt;int&gt;</th><th scope=col>&lt;chr&gt;</th><th scope=col>&lt;chr&gt;</th><th scope=col>&lt;dbl&gt;</th><th scope=col>&lt;int&gt;</th><th scope=col>&lt;dbl&gt;</th><th scope=col>&lt;chr&gt;</th></tr>\n",
       "</thead>\n",
       "<tbody>\n",
       "\t<tr><td>26</td><td>rmse</td><td>standard</td><td>3.340732</td><td>3</td><td>0.05514045</td><td>Model026</td></tr>\n",
       "</tbody>\n",
       "</table>\n"
      ],
      "text/latex": [
       "A tibble: 1 × 7\n",
       "\\begin{tabular}{lllllll}\n",
       " neighbors & .metric & .estimator & mean & n & std\\_err & .config\\\\\n",
       " <int> & <chr> & <chr> & <dbl> & <int> & <dbl> & <chr>\\\\\n",
       "\\hline\n",
       "\t 26 & rmse & standard & 3.340732 & 3 & 0.05514045 & Model026\\\\\n",
       "\\end{tabular}\n"
      ],
      "text/markdown": [
       "\n",
       "A tibble: 1 × 7\n",
       "\n",
       "| neighbors &lt;int&gt; | .metric &lt;chr&gt; | .estimator &lt;chr&gt; | mean &lt;dbl&gt; | n &lt;int&gt; | std_err &lt;dbl&gt; | .config &lt;chr&gt; |\n",
       "|---|---|---|---|---|---|---|\n",
       "| 26 | rmse | standard | 3.340732 | 3 | 0.05514045 | Model026 |\n",
       "\n"
      ],
      "text/plain": [
       "  neighbors .metric .estimator mean     n std_err    .config \n",
       "1 26        rmse    standard   3.340732 3 0.05514045 Model026"
      ]
     },
     "metadata": {},
     "output_type": "display_data"
    }
   ],
   "source": [
    "#Finding best K in Hour of Day through training data\n",
    "#Recipe\n",
    "facebook_recipe <- recipe(`Post Month` ~ comment + share + like, data = facebook_train) %>%\n",
    "  step_scale(all_predictors()) %>%\n",
    "  step_center(all_predictors())\n",
    "\n",
    "#Model\n",
    "spec <- nearest_neighbor(weight_func = \"rectangular\", neighbors = tune()) %>%\n",
    "  set_engine(\"kknn\") %>%\n",
    "  set_mode(\"regression\")\n",
    "\n",
    "#Performing a 5 fold cross validation \n",
    "facebook_vfold <- vfold_cv(facebook_train, v = 5, strata = `Post Month`)\n",
    "\n",
    "#Workflow\n",
    "fb_workflow <- workflow() %>%\n",
    "              add_recipe(facebook_recipe) %>%\n",
    "              add_model(spec)\n",
    "fb_workflow\n",
    "#Testing 200 values of K in a tibble\n",
    "gridvals <- tibble(neighbors = seq(1:200))\n",
    "\n",
    "#(Tunes workflow to test all values of K, resamples cross-validation data set, collects the statistics from that model)\n",
    "fb_results <- fb_workflow %>%\n",
    "  tune_grid(resamples = facebook_vfold, grid = gridvals) %>%\n",
    "  collect_metrics()\n",
    "fb_results\n",
    "\n",
    "#Finding min amount of RMSPE\n",
    "facebook_min <- fb_results %>%\n",
    "                filter(.metric == \"rmse\") %>%\n",
    "                filter(mean == min(mean))\n",
    "facebook_min"
   ]
  },
  {
   "cell_type": "code",
   "execution_count": 37,
   "metadata": {},
   "outputs": [
    {
     "ename": "ERROR",
     "evalue": "Error: Can't recycle `..1` (size 121) to match `..2` (size 123).\n",
     "output_type": "error",
     "traceback": [
      "Error: Can't recycle `..1` (size 121) to match `..2` (size 123).\nTraceback:\n",
      "1. fb_best_fit %>% predict(facebook_test) %>% bind_cols(facebook_test, \n .     id = NULL) %>% metrics(truth = `Post Hour`, estimate = .pred)",
      "2. withVisible(eval(quote(`_fseq`(`_lhs`)), env, env))",
      "3. eval(quote(`_fseq`(`_lhs`)), env, env)",
      "4. eval(quote(`_fseq`(`_lhs`)), env, env)",
      "5. `_fseq`(`_lhs`)",
      "6. freduce(value, `_function_list`)",
      "7. function_list[[i]](value)",
      "8. bind_cols(., facebook_test, id = NULL)",
      "9. vec_cbind(!!!dots, .name_repair = .name_repair)",
      "10. stop_incompatible_size(x = .Primitive(\"quote\")(structure(list(\n  .     .pred = c(5.92307692307692, 7.15384615384615, 7.80769230769231, \n  .     7.5, 8.34615384615385, 7.88461538461539, 7.26923076923077, \n  .     7.53846153846154, 7.80769230769231, 7.07692307692308, 6.65384615384615, \n  .     6.61538461538461, 6.96153846153846, 7.57692307692308, 6.92307692307692, \n  .     6.73076923076923, 6.88461538461539, 5.88461538461539, 6.84615384615385, \n  .     7.53846153846154, 8, 7.15384615384615, 7.19230769230769, \n  .     7.34615384615385, 7.53846153846154, 7.53846153846154, 6.53846153846154, \n  .     7.53846153846154, 6, 7.30769230769231, 7.84615384615385, \n  .     7.96153846153846, 6.80769230769231, 7.42307692307692, 6.73076923076923, \n  .     8.53846153846154, 7.92307692307692, 8.11538461538461, 6.15384615384615, \n  .     7.38461538461539, 7.65384615384615, 7.07692307692308, 7.03846153846154, \n  .     7.84615384615385, 7.19230769230769, 6.73076923076923, 7.92307692307692, \n  .     6.88461538461539, 6.65384615384615, 8.42307692307692, 5.69230769230769, \n  .     8.03846153846154, 7.19230769230769, 8.34615384615385, 7.69230769230769, \n  .     7.61538461538461, 5.96153846153846, 6.84615384615385, 8.42307692307692, \n  .     8.57692307692308, 8.03846153846154, 7.57692307692308, 7.92307692307692, \n  .     8.26923076923077, 7.69230769230769, 6.84615384615385, 7.57692307692308, \n  .     8.26923076923077, 7.11538461538461, 7.53846153846154, 7.34615384615385, \n  .     7.03846153846154, 4.80769230769231, 6.80769230769231, 7.34615384615385, \n  .     7.34615384615385, 6.84615384615385, 7.61538461538461, 7.11538461538461, \n  .     7.57692307692308, 7.5, 6.46153846153846, 8.03846153846154, \n  .     7.38461538461539, 6.30769230769231, 7.11538461538461, 6.88461538461539, \n  .     5.5, 6.92307692307692, 8.30769230769231, 5.73076923076923, \n  .     7.23076923076923, 6.73076923076923, 7.61538461538461, 6.88461538461539, \n  .     7.30769230769231, 5.07692307692308, 7.11538461538461, 7.61538461538461, \n  .     7.42307692307692, 7.61538461538461, 6.69230769230769, 7.26923076923077, \n  .     6.42307692307692, 6.96153846153846, 7.61538461538461, 6.88461538461539, \n  .     7.53846153846154, 7.53846153846154, 7.53846153846154, 7.57692307692308, \n  .     7.15384615384615, 7.15384615384615, 6.96153846153846, 7.92307692307692, \n  .     6.96153846153846, 8.46153846153846, 7.46153846153846, 5.65384615384615, \n  .     4.46153846153846, 6.03846153846154)), row.names = c(NA, -121L\n  . ), class = c(\"tbl_df\", \"tbl\", \"data.frame\"))), y = .Primitive(\"quote\")(structure(list(\n  .     `Page total likes` = c(139441, 139441, 139441, 138414, 138414, \n  .     138895, 138895, 138353, 138329, 138185, 138185, 138185, 137893, \n  .     137177, 137177, 137177, 137177, 137059, 137020, 137020, 137020, \n  .     137020, 136736, 136642, 136393, 136393, 136393, 136393, 136013, \n  .     136013, 136013, 136013, 136013, 136013, 135700, 135617, 135428, \n  .     135428, 135428, 135195, 135195, 135195, 135195, 134879, 134879, \n  .     134879, 133679, 133679, 133594, 132817, 132817, 132201, 132201, \n  .     132201, 131956, 131728, 131630, 131630, 130791, 130791, 129600, \n  .     129600, 129600, 128032, 128032, 128032, 126424, 126345, 126345, \n  .     126345, 126141, 126141, 126141, 125612, 125612, 125612, 125612, \n  .     124940, 124940, 124940, 124940, 124940, 124940, 123047, 121540, \n  .     120050, 120050, 120050, 119198, 119198, 117764, 116435, 116435, \n  .     116091, 115893, 115368, 113028, 111620, 109670, 109670, 109670, \n  .     109670, 107907, 107907, 107907, 107907, 107907, 106928, 104070, \n  .     104070, 100732, 100732, 100732, 98195, 98195, 92828, 91437, \n  .     86909, 86909, 86909, 86491, 85979, 85093), Type = c(\"Status\", \n  .     \"Photo\", \"Photo\", \"Photo\", \"Status\", \"Photo\", \"Status\", \"Photo\", \n  .     \"Photo\", \"Photo\", \"Photo\", \"Photo\", \"Photo\", \"Photo\", \"Photo\", \n  .     \"Photo\", \"Photo\", \"Photo\", \"Photo\", \"Photo\", \"Photo\", \"Photo\", \n  .     \"Photo\", \"Photo\", \"Photo\", \"Photo\", \"Photo\", \"Photo\", \"Status\", \n  .     \"Photo\", \"Link\", \"Status\", \"Photo\", \"Photo\", \"Photo\", \"Status\", \n  .     \"Photo\", \"Photo\", \"Photo\", \"Status\", \"Photo\", \"Status\", \"Photo\", \n  .     \"Status\", \"Video\", \"Photo\", \"Photo\", \"Photo\", \"Photo\", \"Photo\", \n  .     \"Photo\", \"Photo\", \"Photo\", \"Photo\", \"Photo\", \"Photo\", \"Status\", \n  .     \"Photo\", \"Photo\", \"Photo\", \"Photo\", \"Photo\", \"Photo\", \"Status\", \n  .     \"Photo\", \"Photo\", \"Status\", \"Photo\", \"Photo\", \"Status\", \"Photo\", \n  .     \"Status\", \"Photo\", \"Photo\", \"Photo\", \"Photo\", \"Photo\", \"Photo\", \n  .     \"Photo\", \"Photo\", \"Photo\", \"Photo\", \"Photo\", \"Photo\", \"Photo\", \n  .     \"Photo\", \"Photo\", \"Photo\", \"Photo\", \"Photo\", \"Photo\", \"Photo\", \n  .     \"Photo\", \"Photo\", \"Photo\", \"Photo\", \"Photo\", \"Photo\", \"Photo\", \n  .     \"Photo\", \"Photo\", \"Photo\", \"Photo\", \"Photo\", \"Photo\", \"Photo\", \n  .     \"Photo\", \"Photo\", \"Status\", \"Photo\", \"Photo\", \"Link\", \"Photo\", \n  .     \"Link\", \"Photo\", \"Photo\", \"Link\", \"Photo\", \"Photo\", \"Photo\", \n  .     \"Photo\", \"Photo\", \"Photo\"), Category = c(2, 3, 2, 2, 2, 2, \n  .     2, 1, 1, 1, 1, 1, 1, 1, 1, 1, 1, 2, 1, 1, 2, 3, 1, 1, 1, \n  .     1, 1, 1, 2, 1, 1, 2, 3, 1, 2, 2, 1, 3, 2, 2, 1, 2, 3, 2, \n  .     1, 3, 2, 2, 1, 2, 3, 1, 2, 2, 3, 1, 2, 1, 2, 1, 3, 3, 1, \n  .     2, 1, 2, 2, 2, 2, 2, 1, 2, 1, 1, 2, 1, 2, 3, 1, 3, 3, 3, \n  .     3, 3, 2, 3, 3, 3, 3, 2, 2, 2, 1, 2, 3, 3, 1, 3, 3, 1, 3, \n  .     2, 3, 1, 1, 3, 1, 3, 1, 1, 1, 1, 1, 2, 1, 1, 1, 3, 1, 2, \n  .     3, 3, 3), `Post Month` = c(12, 12, 12, 12, 12, 12, 12, 12, \n  .     11, 11, 11, 11, 11, 11, 11, 11, 11, 10, 10, 10, 10, 10, 10, \n  .     10, 10, 10, 10, 10, 10, 10, 10, 10, 10, 10, 9, 9, 9, 9, 9, \n  .     9, 9, 9, 9, 9, 9, 9, 9, 8, 8, 8, 8, 8, 8, 8, 8, 7, 7, 7, \n  .     7, 7, 7, 7, 7, 7, 7, 7, 7, 6, 6, 6, 6, 6, 6, 6, 6, 6, 6, \n  .     6, 6, 6, 6, 6, 6, 6, 5, 5, 5, 5, 5, 5, 5, 5, 5, 5, 4, 4, \n  .     4, 4, 4, 4, 4, 4, 4, 4, 4, 4, 4, 4, 3, 3, 3, 3, 3, 3, 3, \n  .     2, 2, 1, 1, 1, 1, 1, 1), `Post Weekday` = c(1, 1, 5, 1, 6, \n  .     5, 6, 5, 4, 1, 7, 6, 5, 1, 6, 4, 3, 5, 4, 4, 4, 1, 6, 7, \n  .     7, 7, 6, 6, 5, 4, 4, 3, 2, 1, 3, 6, 4, 4, 3, 1, 1, 6, 6, \n  .     4, 2, 7, 2, 1, 7, 4, 2, 1, 6, 5, 1, 4, 2, 1, 5, 2, 1, 5, \n  .     3, 5, 5, 4, 3, 1, 1, 7, 6, 6, 4, 3, 3, 2, 7, 6, 5, 5, 4, \n  .     1, 7, 2, 7, 5, 4, 3, 2, 7, 2, 2, 2, 1, 4, 2, 4, 2, 6, 3, \n  .     2, 1, 7, 6, 5, 4, 3, 6, 3, 3, 7, 7, 6, 6, 5, 3, 3, 6, 6, \n  .     4, 2, 6, 1), `Post Hour` = c(9, 3, 3, 3, 10, 3, 11, 10, 3, \n  .     10, 11, 11, 10, 10, 3, 9, 3, 11, 10, 9, 3, 11, 10, 10, 9, \n  .     6, 13, 9, 3, 10, 3, 2, 10, 10, 7, 4, 10, 2, 2, 10, 4, 10, \n  .     3, 4, 10, 4, 10, 4, 3, 3, 10, 3, 10, 1, 12, 10, 6, 11, 11, \n  .     13, 6, 3, 13, 10, 3, 5, 13, 12, 4, 11, 12, 4, 22, 11, 3, \n  .     13, 11, 2, 13, 3, 2, 3, 10, 13, 14, 9, 4, 12, 12, 2, 11, \n  .     14, 8, 3, 15, 13, 12, 13, 3, 8, 2, 13, 13, 9, 9, 13, 13, \n  .     9, 15, 10, 15, 14, 13, 6, 10, 6, 13, 16, 10, 11, 7, 11, 2\n  .     ), Paid = c(0, 1, 0, 0, 0, 0, 0, 0, 1, 0, 0, 0, 1, 0, 0, \n  .     1, 0, 0, 0, 1, 0, 0, 0, 0, 0, 0, 0, 0, 0, 1, 0, 1, 1, 1, \n  .     0, 0, 1, 1, 1, 0, 0, 1, 1, 1, 0, 1, 0, 0, 0, 1, 0, 0, 1, \n  .     0, 0, 1, 1, 0, 1, 0, 0, 0, 1, 0, 0, 1, 0, 0, 0, 0, 0, 0, \n  .     1, 0, 0, 0, 0, 1, 1, 1, 0, 0, 0, 0, 0, 1, 1, 0, 0, 0, 0, \n  .     0, 0, 0, 1, 0, 1, 1, 0, 0, 1, 1, 0, 0, 0, 0, 1, 1, 0, 0, \n  .     0, 0, 1, 0, 0, 0, 0, 1, 1, 0, 0, 0, 0), `Lifetime Post Total Reach` = c(10472, \n  .     11692, 2549, 2848, 8488, 9560, 13280, 7268, 27072, 2352, \n  .     2149, 2168, 39344, 22984, 4582, 2566, 1531, 2819, 12776, \n  .     1357, 68896, 3674, 1673, 834, 584, 677, 645, 3906, 8896, \n  .     4018, 68992, 31136, 16776, 5324, 1685, 11096, 13856, 10748, \n  .     2522, 21256, 4484, 13216, 22304, 9124, 30624, 2351, 3100, \n  .     2295, 34512, 4204, 72864, 50640, 2232, 1659, 5746, 95424, \n  .     10824, 4592, 4096, 44464, 3406, 54256, 40336, 10188, 6408, \n  .     53056, 18320, 3212, 3046, 12044, 28112, 8628, 20560, 2585, \n  .     3322, 3600, 3558, 2823, 63840, 11608, 4762, 3576, 3028, 3418, \n  .     3806, 3776, 4032, 21248, 2718, 4708, 6444, 4132, 4910, 5976, \n  .     5212, 6692, 6880, 7492, 4986, 9880, 3130, 32208, 4240, 3544, \n  .     71360, 6360, 46192, 2970, 9120, 1874, 3772, 2933, 9604, 5730, \n  .     4118, 28128, 9356, 5754, 37088, 11484, 5040, 5280, 8412), \n  .     `Lifetime Post Total Impressions` = c(20849, 19479, 4896, \n  .     5066, 15294, 18264, 24198, 13989, 84885, 5234, 4120, 3891, \n  .     103050, 59040, 9193, 5244, 2838, 5230, 21893, 2453, 104952, \n  .     7221, 3655, 1570, 1029, 1285, 1117, 8239, 17202, 8617, 229733, \n  .     59964, 39549, 11040, 2999, 21080, 37716, 19724, 4583, 41906, \n  .     7829, 24738, 37159, 17776, 56950, 4028, 5388, 3721, 76659, \n  .     7191, 205934, 121234, 3772, 2845, 9874, 252207, 20573, 6691, \n  .     7200, 66824, 5656, 82011, 65309, 16978, 11881, 65260, 31448, \n  .     4908, 4909, 20327, 47721, 14847, 24112, 4410, 5969, 5807, \n  .     5396, 4955, 102620, 15323, 8303, 5525, 4794, 5659, 6486, \n  .     6736, 7278, 34095, 4698, 8090, 11509, 7165, 9209, 10441, \n  .     9035, 11859, 11736, 12414, 8198, 12695, 5313, 55696, 7057, \n  .     6156, 110172, 11079, 80227, 4649, 14759, 2474, 6971, 5144, \n  .     16557, 10083, 7355, 42940, 14986, 9238, 10966, 20696, 8367, \n  .     8703, 13960), `Lifetime Engaged Users` = c(1191, 481, 249, \n  .     200, 1341, 973, 2055, 2087, 421, 232, 197, 211, 588, 438, \n  .     454, 384, 212, 318, 785, 37, 2624, 452, 338, 399, 273, 251, \n  .     195, 868, 1480, 428, 1032, 6164, 714, 528, 322, 1843, 519, \n  .     892, 455, 4840, 545, 2675, 1805, 1476, 2080, 371, 518, 377, \n  .     1666, 498, 946, 2240, 376, 345, 769, 699, 135, 320, 487, \n  .     1052, 571, 1620, 1407, 1473, 909, 2003, 3742, 735, 909, 2240, \n  .     1631, 870, 936, 569, 610, 691, 621, 552, 1382, 985, 842, \n  .     664, 579, 581, 722, 577, 684, 1049, 566, 678, 734, 552, 625, \n  .     689, 736, 905, 671, 838, 662, 524, 522, 1933, 601, 509, 1784, \n  .     715, 1364, 421, 951, 25, 144, 24, 1061, 103, 546, 2283, 448, \n  .     1179, 2728, 1762, 1062, 951, 1179), `Lifetime Post Consumers` = c(1073, \n  .     265, 134, 142, 1270, 559, 1912, 2079, 304, 182, 156, 168, \n  .     460, 374, 306, 280, 189, 218, 539, 37, 1326, 330, 324, 392, \n  .     271, 246, 192, 863, 1426, 374, 975, 5934, 440, 483, 295, \n  .     1724, 450, 498, 390, 4754, 424, 2584, 984, 1397, 1956, 298, \n  .     422, 324, 1333, 408, 759, 1577, 322, 321, 632, 575, 126, \n  .     289, 406, 930, 512, 963, 1330, 1441, 861, 1412, 3682, 720, \n  .     872, 2193, 1537, 843, 860, 560, 569, 656, 568, 503, 1229, \n  .     705, 725, 618, 548, 546, 658, 529, 607, 918, 528, 594, 625, \n  .     495, 561, 544, 642, 742, 639, 713, 614, 497, 495, 1367, 542, \n  .     482, 1732, 631, 1096, 390, 937, 25, 144, 23, 1037, 71, 526, \n  .     2190, 381, 1143, 2288, 1635, 1023, 911, 1111), `Lifetime Post Consumptions` = c(1389, \n  .     364, 168, 184, 1489, 885, 2720, 12074, 487, 258, 219, 202, \n  .     695, 542, 431, 469, 1359, 303, 881, 55, 1952, 487, 1619, \n  .     510, 308, 297, 224, 2632, 1932, 616, 1345, 9237, 720, 861, \n  .     424, 2106, 672, 719, 547, 5906, 629, 2969, 1618, 1797, 3253, \n  .     392, 609, 402, 1977, 596, 1158, 2779, 440, 424, 1063, 882, \n  .     153, 423, 723, 1571, 731, 1419, 2251, 2136, 14974, 2089, \n  .     7854, 897, 1147, 3599, 2438, 1692, 1126, 781, 852, 913, 775, \n  .     622, 1871, 940, 1014, 870, 740, 770, 880, 719, 848, 1438, \n  .     663, 889, 1157, 713, 869, 833, 1005, 1165, 889, 1274, 788, \n  .     658, 616, 2123, 730, 701, 3383, 1028, 1697, 544, 1290, 31, \n  .     1033, 26, 9614, 97, 675, 3400, 505, 1452, 3183, 2741, 1348, \n  .     1237, 1632), `Lifetime Post Impressions by people who have liked your Page` = c(16034, \n  .     15432, 3631, 3561, 9684, 9217, 17627, 13544, 35637, 4101, \n  .     3302, 2873, 39304, 12716, 3691, 3834, 1210, 3128, 13272, \n  .     2154, 35707, 3832, 2598, 1390, 943, 1210, 989, 7736, 13838, \n  .     6677, 17842, 35977, 11860, 8627, 1794, 16095, 26832, 13674, \n  .     3031, 35455, 4208, 19599, 22864, 13887, 32033, 3112, 3927, \n  .     3121, 54860, 5161, 122474, 92348, 2205, 1604, 7407, 78287, \n  .     20030, 3238, 4911, 22904, 4446, 42128, 27771, 14450, 7243, \n  .     23679, 25584, 3399, 3559, 17717, 41207, 11970, 5648, 3802, \n  .     4111, 3351, 3708, 3579, 32470, 8419, 6086, 4229, 3574, 4491, \n  .     4955, 4846, 4935, 11280, 3601, 4664, 7910, 4908, 5768, 7055, \n  .     6258, 8391, 9389, 8452, 5685, 7072, 3821, 43980, 5026, 5011, \n  .     47977, 6661, 32842, 3346, 13246, 1483, 6932, 3972, 13618, \n  .     8964, 6423, 9183, 13919, 6101, 66311, 8774, 5485, 5757, 8632\n  .     ), `Lifetime Post reach by people who like your Page` = c(7852, \n  .     9328, 1917, 1963, 5244, 4748, 9344, 7096, 9712, 1761, 1640, \n  .     1539, 11392, 4968, 1722, 1806, 690, 1622, 7800, 1120, 19840, \n  .     1890, 1469, 704, 511, 615, 554, 3768, 7020, 2992, 8032, 18048, \n  .     6200, 4054, 953, 8120, 9064, 7624, 1674, 17592, 2412, 10232, \n  .     13304, 7092, 15744, 1791, 2274, 1882, 22816, 2974, 30912, \n  .     34880, 1306, 915, 4288, 22016, 10384, 2100, 2826, 14080, \n  .     2598, 24224, 14848, 8536, 4040, 17104, 14920, 2162, 2126, \n  .     10400, 23440, 6796, 3856, 2144, 2236, 2110, 2392, 1966, 16480, \n  .     5840, 3494, 2672, 2184, 2620, 2772, 2614, 2644, 6664, 1992, \n  .     2690, 4136, 2754, 2812, 4046, 3608, 4692, 5232, 5024, 3230, \n  .     4732, 2112, 24720, 2868, 2746, 25888, 3864, 16960, 2044, \n  .     8004, 1062, 3758, 2012, 7984, 4830, 3466, 4560, 8460, 3546, \n  .     34352, 5124, 3068, 3300, 5348), `Lifetime People who have liked your Page and engaged with your post` = c(1016, \n  .     379, 183, 157, 995, 621, 1716, 1975, 263, 181, 161, 171, \n  .     336, 262, 305, 266, 143, 240, 575, 32, 1354, 328, 268, 351, \n  .     232, 211, 166, 774, 1292, 351, 635, 4376, 590, 448, 237, \n  .     1604, 389, 704, 333, 4318, 382, 2342, 1349, 1331, 1376, 288, \n  .     367, 269, 1278, 387, 646, 1790, 257, 239, 584, 417, 126, \n  .     222, 355, 559, 355, 977, 907, 1395, 490, 975, 3300, 375, \n  .     477, 2119, 1225, 774, 460, 348, 375, 436, 403, 348, 760, \n  .     594, 569, 403, 349, 327, 361, 371, 432, 536, 306, 390, 512, \n  .     398, 411, 487, 597, 737, 556, 670, 469, 382, 385, 1568, 461, \n  .     387, 1103, 505, 762, 301, 924, 15, 140, 19, 705, 92, 379, \n  .     621, 392, 420, 2021, 722, 437, 431, 699), comment = c(1, \n  .     3, 5, 3, 3, 36, 7, 7, 4, 2, 0, 0, 7, 4, 5, 10, 3, 1, 12, \n  .     0, 26, 9, 2, 0, 0, 0, 0, 0, 0, 4, 15, 60, 10, 6, 0, 4, 2, \n  .     8, 6, 38, 6, 2, 29, 20, 6, 1, 3, 0, 6, 2, 4, 4, 2, 3, 16, \n  .     6, 6, 1, 10, 4, 1, 10, 4, 13, 26, 6, 36, 1, 1, 0, 11, 4, \n  .     14, 0, 1, 0, 0, 1, 9, 4, 2, 2, 2, 2, 1, 3, 7, 20, 0, 1, 5, \n  .     2, 12, 2, 1, 4, 0, 8, 2, 0, 0, 6, 3, 1, 5, 9, 9, 2, 3, 0, \n  .     0, 0, 16, 2, 1, 6, 4, 0, 7, 56, 2, 1, 17), like = c(152, \n  .     249, 137, 66, 99, 523, 216, 26, 139, 60, 48, 53, 146, 85, \n  .     190, 140, 30, 115, 328, 0, 1505, 181, 28, 7, 2, 7, 4, 7, \n  .     129, 77, 143, 859, 377, 76, 54, 243, 77, 485, 99, 163, 179, \n  .     165, 1047, 150, 345, 104, 146, 63, 442, 139, 220, 859, 74, \n  .     36, 227, 109, 14, 43, 145, 154, 98, 755, 104, 61, 162, 696, \n  .     98, 40, 71, 104, 129, 72, 102, 19, 71, 72, 78, 72, 197, 330, \n  .     208, 84, 59, 51, 79, 97, 139, 199, 50, 142, 194, 98, 138, \n  .     267, 179, 304, 59, 236, 92, 35, 48, 766, 114, 51, 81, 164, \n  .     329, 56, 25, 0, 3, 6, 127, 32, 28, 154, 114, 65, 579, 360, \n  .     82, 79, 185), share = c(33, 27, 10, 12, 19, 63, 39, 3, 17, \n  .     7, 7, 17, 9, 8, 57, 8, 6, 26, 90, 0, 95, 32, 4, 2, NA, NA, \n  .     1, 3, 25, 19, 44, 90, 60, 14, 16, 41, 5, 64, 16, 27, 40, \n  .     22, 98, 29, 121, 12, 15, 7, 42, 25, 19, 68, 22, 11, 28, 11, \n  .     1, 10, 31, 30, 19, 58, 10, 13, 7, 28, 14, 8, 17, 13, 12, \n  .     18, 9, 5, 23, 21, 16, 16, 28, 29, 28, 13, 12, 6, 17, 22, \n  .     34, 32, 10, 37, 33, 18, 38, 40, 30, 47, 16, 51, 28, 5, 14, \n  .     109, 21, 6, 11, 52, 38, 9, 6, 0, 0, 0, 0, 15, 7, 18, 13, \n  .     19, 47, 99, 24, 30, 55), `Total Interactions` = c(186, 279, \n  .     152, 81, 121, 622, 262, 36, 160, 69, 55, 70, 162, 97, 252, \n  .     158, 39, 142, 430, 0, 1626, 222, 34, 9, 2, 7, 5, 10, 154, \n  .     100, 202, 1009, 447, 96, 70, 288, 84, 557, 121, 228, 225, \n  .     189, 1174, 199, 472, 117, 164, 70, 490, 166, 243, 931, 98, \n  .     50, 271, 126, 21, 54, 186, 188, 118, 823, 118, 87, 195, 730, \n  .     148, 49, 89, 117, 152, 94, 125, 24, 95, 93, 94, 89, 234, \n  .     363, 238, 99, 73, 59, 97, 122, 180, 251, 60, 180, 232, 118, \n  .     188, 309, 210, 355, 75, 295, 122, 40, 62, 881, 138, 58, 97, \n  .     225, 376, 67, 34, 0, 3, 6, 143, 49, 36, 178, 131, 84, 633, \n  .     515, 108, 110, 257)), row.names = c(NA, -123L), class = c(\"tbl_df\", \n  . \"tbl\", \"data.frame\"))), x_size = 121L, y_size = 123L, x_arg = \"..1\", \n  .     y_arg = \"..2\")",
      "11. stop_incompatible(x, y, x_size = x_size, y_size = y_size, ..., \n  .     x_arg = x_arg, y_arg = y_arg, details = details, message = message, \n  .     class = c(class, \"vctrs_error_incompatible_size\"))",
      "12. stop_vctrs(message, class = c(class, \"vctrs_error_incompatible\"), \n  .     x = x, y = y, details = details, ...)",
      "13. abort(message, class = c(class, \"vctrs_error\"), ...)",
      "14. signal_abort(cnd)"
     ]
    }
   ],
   "source": [
    "k_min <- facebook_min %>%\n",
    "         pull(neighbors)\n",
    "\n",
    "facebook_best_spec <- nearest_neighbor(weight_func = \"rectangular\", neighbors = k_min) %>%\n",
    "         set_engine(\"kknn\") %>%\n",
    "         set_mode(\"regression\")\n",
    "\n",
    "fb_best_fit <- workflow() %>%\n",
    "         add_recipe(facebook_recipe) %>%\n",
    "         add_model(facebook_best_spec) %>%\n",
    "         fit(data = facebook_train)\n",
    "\n",
    "fb_summary <- fb_best_fit  %>%\n",
    "              predict(facebook_test) %>%\n",
    "              bind_cols(facebook_test) %>%\n",
    "             metrics(truth = `Post Hour`, estimate = .pred)\n",
    "fb_summary"
   ]
  },
  {
   "cell_type": "code",
   "execution_count": null,
   "metadata": {},
   "outputs": [],
   "source": []
  }
 ],
 "metadata": {
  "kernelspec": {
   "display_name": "R",
   "language": "R",
   "name": "ir"
  },
  "language_info": {
   "codemirror_mode": "r",
   "file_extension": ".r",
   "mimetype": "text/x-r-source",
   "name": "R",
   "pygments_lexer": "r",
   "version": "4.0.0"
  }
 },
 "nbformat": 4,
 "nbformat_minor": 4
}
