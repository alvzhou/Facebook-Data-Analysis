{
 "cells": [
  {
   "cell_type": "markdown",
   "metadata": {},
   "source": [
    "# **Facebook Data Analysis**"
   ]
  },
  {
   "cell_type": "markdown",
   "metadata": {},
   "source": [
    "# Introduction"
   ]
  },
  {
   "cell_type": "markdown",
   "metadata": {},
   "source": [
    "As the technological revolution has rapidly accelerated, social media has become increasingly influential in everyday lives. In particular, Facebook is a social media platform used by companies to post media and promote their brand and products. With 24 hours in a day, we wondered if there is a more specific time in a day that attracts higher engagement (consisting of likes, comments, and shares) on a post than other times of day. Knowing the best time to post would help companies maximize their post engagement.\n",
    "\n",
    "To determine the best hour in the week when posting content is most impactful, we asked the question:\n",
    "**When is the best hour of the week to post on Facebook for maximum post interactions?**\n",
    "More specifically, we will be predicting total post interaction (the number of total likes, shares, and comments on a post) based on the hour of the week. We chose to determine the “hour of the week” as it provides a wider range of results (an entire week’s worth of hours versus a single day), providing a more specific and thorough answer than just considering hour of day.\n",
    "\n",
    "The dataset that will be used to answer the question is from a study called *Predicting social media performance metrics and evaluation of the impact on brand building: A data mining approach.* The dataset is about posts published in 2014 on a renowned cosmetics brand’s Facebook page, which primarily focuses on consumer engagement and interaction. Most notably, it contains columns that feature the lifetime number of visits on the post (total impressions and reach), as well as the number of people who have liked and engaged on the post (lifetime people who have liked and engaged on your post). In this report, we will be focusing on columns of the time of the post itself (more specifically, “Post Hour” and “Post Day”, although there are other columns), and the number of total interactions (likes, comments, and shares). \n",
    "\n",
    "As such, we will mutate a new variable for “Hour of Week'' as our predictor variable, combined from the “Post Hour” and “Post Day” variables, with a range of Hour 0 (Sunday, 12:00 AM) to Hour 167 (Saturday 11:59 PM) (there are 168 hours in a week and here we begin counting from 0, not 1).  Furthermore, we will use the variable “Total Interactions”, which is the sum of the “Likes”, “Comments”, and “Shares” columns as our target variable. We chose these variables because we’d like to keep it simple to understand for our readers, and we are only concerned about the overall number of interactions."
   ]
  },
  {
   "cell_type": "markdown",
   "metadata": {},
   "source": [
    "# Methods & Results "
   ]
  },
  {
   "cell_type": "markdown",
   "metadata": {},
   "source": [
    "## Loading in Libraries & Reading in Data"
   ]
  },
  {
   "cell_type": "markdown",
   "metadata": {},
   "source": [
    "Before we begin coding, we must load the required libaries for R."
   ]
  },
  {
   "cell_type": "code",
   "execution_count": 1,
   "metadata": {},
   "outputs": [
    {
     "name": "stderr",
     "output_type": "stream",
     "text": [
      "── \u001b[1mAttaching packages\u001b[22m ─────────────────────────────────────── tidyverse 1.3.0 ──\n",
      "\n",
      "\u001b[32m✔\u001b[39m \u001b[34mggplot2\u001b[39m 3.3.2     \u001b[32m✔\u001b[39m \u001b[34mpurrr  \u001b[39m 0.3.4\n",
      "\u001b[32m✔\u001b[39m \u001b[34mtibble \u001b[39m 3.0.3     \u001b[32m✔\u001b[39m \u001b[34mdplyr  \u001b[39m 1.0.2\n",
      "\u001b[32m✔\u001b[39m \u001b[34mtidyr  \u001b[39m 1.1.2     \u001b[32m✔\u001b[39m \u001b[34mstringr\u001b[39m 1.4.0\n",
      "\u001b[32m✔\u001b[39m \u001b[34mreadr  \u001b[39m 1.3.1     \u001b[32m✔\u001b[39m \u001b[34mforcats\u001b[39m 0.5.0\n",
      "\n",
      "Warning message:\n",
      "“package ‘ggplot2’ was built under R version 4.0.1”\n",
      "Warning message:\n",
      "“package ‘tibble’ was built under R version 4.0.2”\n",
      "Warning message:\n",
      "“package ‘tidyr’ was built under R version 4.0.2”\n",
      "Warning message:\n",
      "“package ‘dplyr’ was built under R version 4.0.2”\n",
      "── \u001b[1mConflicts\u001b[22m ────────────────────────────────────────── tidyverse_conflicts() ──\n",
      "\u001b[31m✖\u001b[39m \u001b[34mdplyr\u001b[39m::\u001b[32mfilter()\u001b[39m masks \u001b[34mstats\u001b[39m::filter()\n",
      "\u001b[31m✖\u001b[39m \u001b[34mdplyr\u001b[39m::\u001b[32mlag()\u001b[39m    masks \u001b[34mstats\u001b[39m::lag()\n",
      "\n",
      "Warning message:\n",
      "“package ‘tidymodels’ was built under R version 4.0.2”\n",
      "── \u001b[1mAttaching packages\u001b[22m ────────────────────────────────────── tidymodels 0.1.1 ──\n",
      "\n",
      "\u001b[32m✔\u001b[39m \u001b[34mbroom    \u001b[39m 0.7.0      \u001b[32m✔\u001b[39m \u001b[34mrecipes  \u001b[39m 0.1.13\n",
      "\u001b[32m✔\u001b[39m \u001b[34mdials    \u001b[39m 0.0.9      \u001b[32m✔\u001b[39m \u001b[34mrsample  \u001b[39m 0.0.7 \n",
      "\u001b[32m✔\u001b[39m \u001b[34minfer    \u001b[39m 0.5.4      \u001b[32m✔\u001b[39m \u001b[34mtune     \u001b[39m 0.1.1 \n",
      "\u001b[32m✔\u001b[39m \u001b[34mmodeldata\u001b[39m 0.0.2      \u001b[32m✔\u001b[39m \u001b[34mworkflows\u001b[39m 0.2.0 \n",
      "\u001b[32m✔\u001b[39m \u001b[34mparsnip  \u001b[39m 0.1.3      \u001b[32m✔\u001b[39m \u001b[34myardstick\u001b[39m 0.0.7 \n",
      "\n",
      "Warning message:\n",
      "“package ‘broom’ was built under R version 4.0.2”\n",
      "Warning message:\n",
      "“package ‘dials’ was built under R version 4.0.2”\n",
      "Warning message:\n",
      "“package ‘infer’ was built under R version 4.0.3”\n",
      "Warning message:\n",
      "“package ‘modeldata’ was built under R version 4.0.1”\n",
      "Warning message:\n",
      "“package ‘parsnip’ was built under R version 4.0.2”\n",
      "Warning message:\n",
      "“package ‘recipes’ was built under R version 4.0.1”\n",
      "Warning message:\n",
      "“package ‘tune’ was built under R version 4.0.2”\n",
      "Warning message:\n",
      "“package ‘workflows’ was built under R version 4.0.2”\n",
      "Warning message:\n",
      "“package ‘yardstick’ was built under R version 4.0.2”\n",
      "── \u001b[1mConflicts\u001b[22m ───────────────────────────────────────── tidymodels_conflicts() ──\n",
      "\u001b[31m✖\u001b[39m \u001b[34mscales\u001b[39m::\u001b[32mdiscard()\u001b[39m masks \u001b[34mpurrr\u001b[39m::discard()\n",
      "\u001b[31m✖\u001b[39m \u001b[34mdplyr\u001b[39m::\u001b[32mfilter()\u001b[39m   masks \u001b[34mstats\u001b[39m::filter()\n",
      "\u001b[31m✖\u001b[39m \u001b[34mrecipes\u001b[39m::\u001b[32mfixed()\u001b[39m  masks \u001b[34mstringr\u001b[39m::fixed()\n",
      "\u001b[31m✖\u001b[39m \u001b[34mdplyr\u001b[39m::\u001b[32mlag()\u001b[39m      masks \u001b[34mstats\u001b[39m::lag()\n",
      "\u001b[31m✖\u001b[39m \u001b[34myardstick\u001b[39m::\u001b[32mspec()\u001b[39m masks \u001b[34mreadr\u001b[39m::spec()\n",
      "\u001b[31m✖\u001b[39m \u001b[34mrecipes\u001b[39m::\u001b[32mstep()\u001b[39m   masks \u001b[34mstats\u001b[39m::step()\n",
      "\n",
      "Warning message:\n",
      "“package ‘cowplot’ was built under R version 4.0.3”\n",
      "Registered S3 method overwritten by 'GGally':\n",
      "  method from   \n",
      "  +.gg   ggplot2\n",
      "\n"
     ]
    }
   ],
   "source": [
    "library(tidyverse)\n",
    "library(repr)\n",
    "library(tidymodels)\n",
    "library(cowplot)\n",
    "library(digest)\n",
    "library(repr)\n",
    "library(GGally)\n",
    "library(ISLR)\n",
    "options(repr.matrix.max.rows = 6)"
   ]
  },
  {
   "cell_type": "markdown",
   "metadata": {},
   "source": [
    "Next, we will begin reading the file into JupyterHub. Since the file is retrieved from an outside URL, we will download the file to JupyterHub, and since the cells are seperated by semi-colons, instead of normally reading the file through read_csv, we will read the file by read_csv2."
   ]
  },
  {
   "cell_type": "code",
   "execution_count": 2,
   "metadata": {},
   "outputs": [
    {
     "name": "stderr",
     "output_type": "stream",
     "text": [
      "Using ',' as decimal and '.' as grouping mark. Use read_delim() for more control.\n",
      "\n",
      "Parsed with column specification:\n",
      "cols(\n",
      "  `Page total likes` = \u001b[32mcol_double()\u001b[39m,\n",
      "  Type = \u001b[31mcol_character()\u001b[39m,\n",
      "  Category = \u001b[32mcol_double()\u001b[39m,\n",
      "  `Post Month` = \u001b[32mcol_double()\u001b[39m,\n",
      "  `Post Weekday` = \u001b[32mcol_double()\u001b[39m,\n",
      "  `Post Hour` = \u001b[32mcol_double()\u001b[39m,\n",
      "  Paid = \u001b[32mcol_double()\u001b[39m,\n",
      "  `Lifetime Post Total Reach` = \u001b[32mcol_double()\u001b[39m,\n",
      "  `Lifetime Post Total Impressions` = \u001b[32mcol_double()\u001b[39m,\n",
      "  `Lifetime Engaged Users` = \u001b[32mcol_double()\u001b[39m,\n",
      "  `Lifetime Post Consumers` = \u001b[32mcol_double()\u001b[39m,\n",
      "  `Lifetime Post Consumptions` = \u001b[32mcol_double()\u001b[39m,\n",
      "  `Lifetime Post Impressions by people who have liked your Page` = \u001b[32mcol_double()\u001b[39m,\n",
      "  `Lifetime Post reach by people who like your Page` = \u001b[32mcol_double()\u001b[39m,\n",
      "  `Lifetime People who have liked your Page and engaged with your post` = \u001b[32mcol_double()\u001b[39m,\n",
      "  comment = \u001b[32mcol_double()\u001b[39m,\n",
      "  like = \u001b[32mcol_double()\u001b[39m,\n",
      "  share = \u001b[32mcol_double()\u001b[39m,\n",
      "  `Total Interactions` = \u001b[32mcol_double()\u001b[39m\n",
      ")\n",
      "\n"
     ]
    },
    {
     "data": {
      "text/html": [
       "<table>\n",
       "<caption>A tibble: 6 × 19</caption>\n",
       "<thead>\n",
       "\t<tr><th scope=col>Page total likes</th><th scope=col>Type</th><th scope=col>Category</th><th scope=col>Post Month</th><th scope=col>Post Weekday</th><th scope=col>Post Hour</th><th scope=col>Paid</th><th scope=col>Lifetime Post Total Reach</th><th scope=col>Lifetime Post Total Impressions</th><th scope=col>Lifetime Engaged Users</th><th scope=col>Lifetime Post Consumers</th><th scope=col>Lifetime Post Consumptions</th><th scope=col>Lifetime Post Impressions by people who have liked your Page</th><th scope=col>Lifetime Post reach by people who like your Page</th><th scope=col>Lifetime People who have liked your Page and engaged with your post</th><th scope=col>comment</th><th scope=col>like</th><th scope=col>share</th><th scope=col>Total Interactions</th></tr>\n",
       "\t<tr><th scope=col>&lt;dbl&gt;</th><th scope=col>&lt;chr&gt;</th><th scope=col>&lt;dbl&gt;</th><th scope=col>&lt;dbl&gt;</th><th scope=col>&lt;dbl&gt;</th><th scope=col>&lt;dbl&gt;</th><th scope=col>&lt;dbl&gt;</th><th scope=col>&lt;dbl&gt;</th><th scope=col>&lt;dbl&gt;</th><th scope=col>&lt;dbl&gt;</th><th scope=col>&lt;dbl&gt;</th><th scope=col>&lt;dbl&gt;</th><th scope=col>&lt;dbl&gt;</th><th scope=col>&lt;dbl&gt;</th><th scope=col>&lt;dbl&gt;</th><th scope=col>&lt;dbl&gt;</th><th scope=col>&lt;dbl&gt;</th><th scope=col>&lt;dbl&gt;</th><th scope=col>&lt;dbl&gt;</th></tr>\n",
       "</thead>\n",
       "<tbody>\n",
       "\t<tr><td>139441</td><td>Photo </td><td>2</td><td>12</td><td>4</td><td> 3</td><td>0</td><td> 2752</td><td> 5091</td><td> 178</td><td> 109</td><td> 159</td><td> 3078</td><td> 1640</td><td> 119</td><td> 4</td><td>  79</td><td> 17</td><td> 100</td></tr>\n",
       "\t<tr><td>139441</td><td>Status</td><td>2</td><td>12</td><td>3</td><td>10</td><td>0</td><td>10460</td><td>19057</td><td>1457</td><td>1361</td><td>1674</td><td>11710</td><td> 6112</td><td>1108</td><td> 5</td><td> 130</td><td> 29</td><td> 164</td></tr>\n",
       "\t<tr><td>139441</td><td>Photo </td><td>3</td><td>12</td><td>3</td><td> 3</td><td>0</td><td> 2413</td><td> 4373</td><td> 177</td><td> 113</td><td> 154</td><td> 2812</td><td> 1503</td><td> 132</td><td> 0</td><td>  66</td><td> 14</td><td>  80</td></tr>\n",
       "\t<tr><td>139441</td><td>Photo </td><td>2</td><td>12</td><td>2</td><td>10</td><td>1</td><td>50128</td><td>87991</td><td>2211</td><td> 790</td><td>1119</td><td>61027</td><td>32048</td><td>1386</td><td>58</td><td>1572</td><td>147</td><td>1777</td></tr>\n",
       "\t<tr><td>139441</td><td>Photo </td><td>2</td><td>12</td><td>2</td><td> 3</td><td>0</td><td> 7244</td><td>13594</td><td> 671</td><td> 410</td><td> 580</td><td> 6228</td><td> 3200</td><td> 396</td><td>19</td><td> 325</td><td> 49</td><td> 393</td></tr>\n",
       "\t<tr><td>139441</td><td>Status</td><td>2</td><td>12</td><td>1</td><td> 9</td><td>0</td><td>10472</td><td>20849</td><td>1191</td><td>1073</td><td>1389</td><td>16034</td><td> 7852</td><td>1016</td><td> 1</td><td> 152</td><td> 33</td><td> 186</td></tr>\n",
       "</tbody>\n",
       "</table>\n"
      ],
      "text/latex": [
       "A tibble: 6 × 19\n",
       "\\begin{tabular}{lllllllllllllllllll}\n",
       " Page total likes & Type & Category & Post Month & Post Weekday & Post Hour & Paid & Lifetime Post Total Reach & Lifetime Post Total Impressions & Lifetime Engaged Users & Lifetime Post Consumers & Lifetime Post Consumptions & Lifetime Post Impressions by people who have liked your Page & Lifetime Post reach by people who like your Page & Lifetime People who have liked your Page and engaged with your post & comment & like & share & Total Interactions\\\\\n",
       " <dbl> & <chr> & <dbl> & <dbl> & <dbl> & <dbl> & <dbl> & <dbl> & <dbl> & <dbl> & <dbl> & <dbl> & <dbl> & <dbl> & <dbl> & <dbl> & <dbl> & <dbl> & <dbl>\\\\\n",
       "\\hline\n",
       "\t 139441 & Photo  & 2 & 12 & 4 &  3 & 0 &  2752 &  5091 &  178 &  109 &  159 &  3078 &  1640 &  119 &  4 &   79 &  17 &  100\\\\\n",
       "\t 139441 & Status & 2 & 12 & 3 & 10 & 0 & 10460 & 19057 & 1457 & 1361 & 1674 & 11710 &  6112 & 1108 &  5 &  130 &  29 &  164\\\\\n",
       "\t 139441 & Photo  & 3 & 12 & 3 &  3 & 0 &  2413 &  4373 &  177 &  113 &  154 &  2812 &  1503 &  132 &  0 &   66 &  14 &   80\\\\\n",
       "\t 139441 & Photo  & 2 & 12 & 2 & 10 & 1 & 50128 & 87991 & 2211 &  790 & 1119 & 61027 & 32048 & 1386 & 58 & 1572 & 147 & 1777\\\\\n",
       "\t 139441 & Photo  & 2 & 12 & 2 &  3 & 0 &  7244 & 13594 &  671 &  410 &  580 &  6228 &  3200 &  396 & 19 &  325 &  49 &  393\\\\\n",
       "\t 139441 & Status & 2 & 12 & 1 &  9 & 0 & 10472 & 20849 & 1191 & 1073 & 1389 & 16034 &  7852 & 1016 &  1 &  152 &  33 &  186\\\\\n",
       "\\end{tabular}\n"
      ],
      "text/markdown": [
       "\n",
       "A tibble: 6 × 19\n",
       "\n",
       "| Page total likes &lt;dbl&gt; | Type &lt;chr&gt; | Category &lt;dbl&gt; | Post Month &lt;dbl&gt; | Post Weekday &lt;dbl&gt; | Post Hour &lt;dbl&gt; | Paid &lt;dbl&gt; | Lifetime Post Total Reach &lt;dbl&gt; | Lifetime Post Total Impressions &lt;dbl&gt; | Lifetime Engaged Users &lt;dbl&gt; | Lifetime Post Consumers &lt;dbl&gt; | Lifetime Post Consumptions &lt;dbl&gt; | Lifetime Post Impressions by people who have liked your Page &lt;dbl&gt; | Lifetime Post reach by people who like your Page &lt;dbl&gt; | Lifetime People who have liked your Page and engaged with your post &lt;dbl&gt; | comment &lt;dbl&gt; | like &lt;dbl&gt; | share &lt;dbl&gt; | Total Interactions &lt;dbl&gt; |\n",
       "|---|---|---|---|---|---|---|---|---|---|---|---|---|---|---|---|---|---|---|\n",
       "| 139441 | Photo  | 2 | 12 | 4 |  3 | 0 |  2752 |  5091 |  178 |  109 |  159 |  3078 |  1640 |  119 |  4 |   79 |  17 |  100 |\n",
       "| 139441 | Status | 2 | 12 | 3 | 10 | 0 | 10460 | 19057 | 1457 | 1361 | 1674 | 11710 |  6112 | 1108 |  5 |  130 |  29 |  164 |\n",
       "| 139441 | Photo  | 3 | 12 | 3 |  3 | 0 |  2413 |  4373 |  177 |  113 |  154 |  2812 |  1503 |  132 |  0 |   66 |  14 |   80 |\n",
       "| 139441 | Photo  | 2 | 12 | 2 | 10 | 1 | 50128 | 87991 | 2211 |  790 | 1119 | 61027 | 32048 | 1386 | 58 | 1572 | 147 | 1777 |\n",
       "| 139441 | Photo  | 2 | 12 | 2 |  3 | 0 |  7244 | 13594 |  671 |  410 |  580 |  6228 |  3200 |  396 | 19 |  325 |  49 |  393 |\n",
       "| 139441 | Status | 2 | 12 | 1 |  9 | 0 | 10472 | 20849 | 1191 | 1073 | 1389 | 16034 |  7852 | 1016 |  1 |  152 |  33 |  186 |\n",
       "\n"
      ],
      "text/plain": [
       "  Page total likes Type   Category Post Month Post Weekday Post Hour Paid\n",
       "1 139441           Photo  2        12         4             3        0   \n",
       "2 139441           Status 2        12         3            10        0   \n",
       "3 139441           Photo  3        12         3             3        0   \n",
       "4 139441           Photo  2        12         2            10        1   \n",
       "5 139441           Photo  2        12         2             3        0   \n",
       "6 139441           Status 2        12         1             9        0   \n",
       "  Lifetime Post Total Reach Lifetime Post Total Impressions\n",
       "1  2752                      5091                          \n",
       "2 10460                     19057                          \n",
       "3  2413                      4373                          \n",
       "4 50128                     87991                          \n",
       "5  7244                     13594                          \n",
       "6 10472                     20849                          \n",
       "  Lifetime Engaged Users Lifetime Post Consumers Lifetime Post Consumptions\n",
       "1  178                    109                     159                      \n",
       "2 1457                   1361                    1674                      \n",
       "3  177                    113                     154                      \n",
       "4 2211                    790                    1119                      \n",
       "5  671                    410                     580                      \n",
       "6 1191                   1073                    1389                      \n",
       "  Lifetime Post Impressions by people who have liked your Page\n",
       "1  3078                                                       \n",
       "2 11710                                                       \n",
       "3  2812                                                       \n",
       "4 61027                                                       \n",
       "5  6228                                                       \n",
       "6 16034                                                       \n",
       "  Lifetime Post reach by people who like your Page\n",
       "1  1640                                           \n",
       "2  6112                                           \n",
       "3  1503                                           \n",
       "4 32048                                           \n",
       "5  3200                                           \n",
       "6  7852                                           \n",
       "  Lifetime People who have liked your Page and engaged with your post comment\n",
       "1  119                                                                 4     \n",
       "2 1108                                                                 5     \n",
       "3  132                                                                 0     \n",
       "4 1386                                                                58     \n",
       "5  396                                                                19     \n",
       "6 1016                                                                 1     \n",
       "  like share Total Interactions\n",
       "1   79  17    100              \n",
       "2  130  29    164              \n",
       "3   66  14     80              \n",
       "4 1572 147   1777              \n",
       "5  325  49    393              \n",
       "6  152  33    186              "
      ]
     },
     "metadata": {},
     "output_type": "display_data"
    }
   ],
   "source": [
    "#reading the data\n",
    "temp <- tempfile()\n",
    "download.file(\"https://archive.ics.uci.edu/ml/machine-learning-databases/00368/Facebook_metrics.zip\",temp)\n",
    "\n",
    "#Reading the data in R\n",
    "facebook <- read_csv2(unz(temp, \"dataset_Facebook.csv\"))\n",
    "head(facebook)\n",
    "unlink(temp)"
   ]
  },
  {
   "cell_type": "markdown",
   "metadata": {},
   "source": [
    "Table 1: Initial Dataset of Table"
   ]
  },
  {
   "cell_type": "markdown",
   "metadata": {},
   "source": [
    "Looking at our dataset, it passes the test for tidy data (each row is a single observation, each column is a single variable, each value is a single cell), so no further cleaning data tools are required. However, the variable names are separated by white spaces instead of underscores (_). To deal with this issue, we will rename our predictor columns to avoid additional headaches along the way. "
   ]
  },
  {
   "cell_type": "code",
   "execution_count": 3,
   "metadata": {},
   "outputs": [],
   "source": [
    "#Renaming \"Post Hour\"\n",
    "facebook_1 <- facebook %>% rename(post_hour = `Post Hour`) %>% \n",
    "    rename(post_day = `Post Weekday`) %>% \n",
    "    rename(total_interactions = `Total Interactions`)"
   ]
  },
  {
   "cell_type": "markdown",
   "metadata": {},
   "source": [
    "## Exploratory Data Analysis and Splitting Data"
   ]
  },
  {
   "cell_type": "markdown",
   "metadata": {},
   "source": [
    "As part of our exploratory data analysis, we'll take a quick overview of our predictor variable, plotting \"Total Interactions\" against a time variable (in this case, we'll use Post Hour) through a scatterplot, just to filter out any potential outliers in our data."
   ]
  },
  {
   "cell_type": "code",
   "execution_count": 4,
   "metadata": {},
   "outputs": [
    {
     "data": {
      "image/png": "[encoded data removed]",
      "text/plain": [
       "plot without title"
      ]
     },
     "metadata": {
      "image/png": {
       "height": 420,
       "width": 420
      }
     },
     "output_type": "display_data"
    }
   ],
   "source": [
    "exploratory_scatter_plot <- ggplot(facebook_1, aes(x = post_hour, y = total_interactions)) +\n",
    "                            geom_point() +\n",
    "                            labs(x = \"Post Hour (Hours)\", y = \"Total Interactions\", title = \"Total Interactions vs. Post Hour\") \n",
    "exploratory_scatter_plot"
   ]
  },
  {
   "cell_type": "markdown",
   "metadata": {},
   "source": [
    "Figure 1: Exploratory Scatter Plot"
   ]
  },
  {
   "cell_type": "markdown",
   "metadata": {},
   "source": [
    "Hmmm. It seems here that there is one post that has more than six thousand total interactions, with only around ten posts that have more than a thousand total interactions. These outliers can cause implications as it can skew the results of our data (large standard deviations) and make our graph look silly, like in the example above. Therefore, let's filter our total interactions to be less than a thousand to retrieve the most optimal results when we perform our regression models. And as stated in our introduction, let's also create a new variable for the hour of the week through the mutate function."
   ]
  },
  {
   "cell_type": "code",
   "execution_count": 5,
   "metadata": {},
   "outputs": [
    {
     "data": {
      "text/html": [
       "<table>\n",
       "<caption>A spec_tbl_df: 488 × 20</caption>\n",
       "<thead>\n",
       "\t<tr><th scope=col>Page total likes</th><th scope=col>Type</th><th scope=col>Category</th><th scope=col>Post Month</th><th scope=col>post_day</th><th scope=col>post_hour</th><th scope=col>Paid</th><th scope=col>Lifetime Post Total Reach</th><th scope=col>Lifetime Post Total Impressions</th><th scope=col>Lifetime Engaged Users</th><th scope=col>Lifetime Post Consumers</th><th scope=col>Lifetime Post Consumptions</th><th scope=col>Lifetime Post Impressions by people who have liked your Page</th><th scope=col>Lifetime Post reach by people who like your Page</th><th scope=col>Lifetime People who have liked your Page and engaged with your post</th><th scope=col>comment</th><th scope=col>like</th><th scope=col>share</th><th scope=col>total_interactions</th><th scope=col>hour_of_week</th></tr>\n",
       "\t<tr><th scope=col>&lt;dbl&gt;</th><th scope=col>&lt;chr&gt;</th><th scope=col>&lt;dbl&gt;</th><th scope=col>&lt;dbl&gt;</th><th scope=col>&lt;dbl&gt;</th><th scope=col>&lt;dbl&gt;</th><th scope=col>&lt;dbl&gt;</th><th scope=col>&lt;dbl&gt;</th><th scope=col>&lt;dbl&gt;</th><th scope=col>&lt;dbl&gt;</th><th scope=col>&lt;dbl&gt;</th><th scope=col>&lt;dbl&gt;</th><th scope=col>&lt;dbl&gt;</th><th scope=col>&lt;dbl&gt;</th><th scope=col>&lt;dbl&gt;</th><th scope=col>&lt;dbl&gt;</th><th scope=col>&lt;dbl&gt;</th><th scope=col>&lt;dbl&gt;</th><th scope=col>&lt;dbl&gt;</th><th scope=col>&lt;dbl&gt;</th></tr>\n",
       "</thead>\n",
       "<tbody>\n",
       "\t<tr><td>139441</td><td>Photo </td><td>2</td><td>12</td><td>4</td><td> 3</td><td>0</td><td> 2752</td><td> 5091</td><td> 178</td><td> 109</td><td> 159</td><td> 3078</td><td>1640</td><td> 119</td><td>4</td><td> 79</td><td>17</td><td>100</td><td>75</td></tr>\n",
       "\t<tr><td>139441</td><td>Status</td><td>2</td><td>12</td><td>3</td><td>10</td><td>0</td><td>10460</td><td>19057</td><td>1457</td><td>1361</td><td>1674</td><td>11710</td><td>6112</td><td>1108</td><td>5</td><td>130</td><td>29</td><td>164</td><td>58</td></tr>\n",
       "\t<tr><td>139441</td><td>Photo </td><td>3</td><td>12</td><td>3</td><td> 3</td><td>0</td><td> 2413</td><td> 4373</td><td> 177</td><td> 113</td><td> 154</td><td> 2812</td><td>1503</td><td> 132</td><td>0</td><td> 66</td><td>14</td><td> 80</td><td>51</td></tr>\n",
       "\t<tr><td>⋮</td><td>⋮</td><td>⋮</td><td>⋮</td><td>⋮</td><td>⋮</td><td>⋮</td><td>⋮</td><td>⋮</td><td>⋮</td><td>⋮</td><td>⋮</td><td>⋮</td><td>⋮</td><td>⋮</td><td>⋮</td><td>⋮</td><td>⋮</td><td>⋮</td><td>⋮</td></tr>\n",
       "\t<tr><td>81370</td><td>Photo</td><td>1</td><td>1</td><td>5</td><td> 2</td><td> 0</td><td>3778</td><td>7216</td><td>625</td><td>572</td><td>795</td><td>4742</td><td>2388</td><td>363</td><td>4</td><td>93</td><td>18</td><td>115</td><td>98</td></tr>\n",
       "\t<tr><td>81370</td><td>Photo</td><td>3</td><td>1</td><td>4</td><td>11</td><td> 0</td><td>4156</td><td>7564</td><td>626</td><td>574</td><td>832</td><td>4534</td><td>2452</td><td>370</td><td>7</td><td>91</td><td>38</td><td>136</td><td>83</td></tr>\n",
       "\t<tr><td>81370</td><td>Photo</td><td>2</td><td>1</td><td>4</td><td> 4</td><td>NA</td><td>4188</td><td>7292</td><td>564</td><td>524</td><td>743</td><td>3861</td><td>2200</td><td>316</td><td>0</td><td>91</td><td>28</td><td>119</td><td>76</td></tr>\n",
       "</tbody>\n",
       "</table>\n"
      ],
      "text/latex": [
       "A spec\\_tbl\\_df: 488 × 20\n",
       "\\begin{tabular}{llllllllllllllllllll}\n",
       " Page total likes & Type & Category & Post Month & post\\_day & post\\_hour & Paid & Lifetime Post Total Reach & Lifetime Post Total Impressions & Lifetime Engaged Users & Lifetime Post Consumers & Lifetime Post Consumptions & Lifetime Post Impressions by people who have liked your Page & Lifetime Post reach by people who like your Page & Lifetime People who have liked your Page and engaged with your post & comment & like & share & total\\_interactions & hour\\_of\\_week\\\\\n",
       " <dbl> & <chr> & <dbl> & <dbl> & <dbl> & <dbl> & <dbl> & <dbl> & <dbl> & <dbl> & <dbl> & <dbl> & <dbl> & <dbl> & <dbl> & <dbl> & <dbl> & <dbl> & <dbl> & <dbl>\\\\\n",
       "\\hline\n",
       "\t 139441 & Photo  & 2 & 12 & 4 &  3 & 0 &  2752 &  5091 &  178 &  109 &  159 &  3078 & 1640 &  119 & 4 &  79 & 17 & 100 & 75\\\\\n",
       "\t 139441 & Status & 2 & 12 & 3 & 10 & 0 & 10460 & 19057 & 1457 & 1361 & 1674 & 11710 & 6112 & 1108 & 5 & 130 & 29 & 164 & 58\\\\\n",
       "\t 139441 & Photo  & 3 & 12 & 3 &  3 & 0 &  2413 &  4373 &  177 &  113 &  154 &  2812 & 1503 &  132 & 0 &  66 & 14 &  80 & 51\\\\\n",
       "\t ⋮ & ⋮ & ⋮ & ⋮ & ⋮ & ⋮ & ⋮ & ⋮ & ⋮ & ⋮ & ⋮ & ⋮ & ⋮ & ⋮ & ⋮ & ⋮ & ⋮ & ⋮ & ⋮ & ⋮\\\\\n",
       "\t 81370 & Photo & 1 & 1 & 5 &  2 &  0 & 3778 & 7216 & 625 & 572 & 795 & 4742 & 2388 & 363 & 4 & 93 & 18 & 115 & 98\\\\\n",
       "\t 81370 & Photo & 3 & 1 & 4 & 11 &  0 & 4156 & 7564 & 626 & 574 & 832 & 4534 & 2452 & 370 & 7 & 91 & 38 & 136 & 83\\\\\n",
       "\t 81370 & Photo & 2 & 1 & 4 &  4 & NA & 4188 & 7292 & 564 & 524 & 743 & 3861 & 2200 & 316 & 0 & 91 & 28 & 119 & 76\\\\\n",
       "\\end{tabular}\n"
      ],
      "text/markdown": [
       "\n",
       "A spec_tbl_df: 488 × 20\n",
       "\n",
       "| Page total likes &lt;dbl&gt; | Type &lt;chr&gt; | Category &lt;dbl&gt; | Post Month &lt;dbl&gt; | post_day &lt;dbl&gt; | post_hour &lt;dbl&gt; | Paid &lt;dbl&gt; | Lifetime Post Total Reach &lt;dbl&gt; | Lifetime Post Total Impressions &lt;dbl&gt; | Lifetime Engaged Users &lt;dbl&gt; | Lifetime Post Consumers &lt;dbl&gt; | Lifetime Post Consumptions &lt;dbl&gt; | Lifetime Post Impressions by people who have liked your Page &lt;dbl&gt; | Lifetime Post reach by people who like your Page &lt;dbl&gt; | Lifetime People who have liked your Page and engaged with your post &lt;dbl&gt; | comment &lt;dbl&gt; | like &lt;dbl&gt; | share &lt;dbl&gt; | total_interactions &lt;dbl&gt; | hour_of_week &lt;dbl&gt; |\n",
       "|---|---|---|---|---|---|---|---|---|---|---|---|---|---|---|---|---|---|---|---|\n",
       "| 139441 | Photo  | 2 | 12 | 4 |  3 | 0 |  2752 |  5091 |  178 |  109 |  159 |  3078 | 1640 |  119 | 4 |  79 | 17 | 100 | 75 |\n",
       "| 139441 | Status | 2 | 12 | 3 | 10 | 0 | 10460 | 19057 | 1457 | 1361 | 1674 | 11710 | 6112 | 1108 | 5 | 130 | 29 | 164 | 58 |\n",
       "| 139441 | Photo  | 3 | 12 | 3 |  3 | 0 |  2413 |  4373 |  177 |  113 |  154 |  2812 | 1503 |  132 | 0 |  66 | 14 |  80 | 51 |\n",
       "| ⋮ | ⋮ | ⋮ | ⋮ | ⋮ | ⋮ | ⋮ | ⋮ | ⋮ | ⋮ | ⋮ | ⋮ | ⋮ | ⋮ | ⋮ | ⋮ | ⋮ | ⋮ | ⋮ | ⋮ |\n",
       "| 81370 | Photo | 1 | 1 | 5 |  2 |  0 | 3778 | 7216 | 625 | 572 | 795 | 4742 | 2388 | 363 | 4 | 93 | 18 | 115 | 98 |\n",
       "| 81370 | Photo | 3 | 1 | 4 | 11 |  0 | 4156 | 7564 | 626 | 574 | 832 | 4534 | 2452 | 370 | 7 | 91 | 38 | 136 | 83 |\n",
       "| 81370 | Photo | 2 | 1 | 4 |  4 | NA | 4188 | 7292 | 564 | 524 | 743 | 3861 | 2200 | 316 | 0 | 91 | 28 | 119 | 76 |\n",
       "\n"
      ],
      "text/plain": [
       "    Page total likes Type   Category Post Month post_day post_hour Paid\n",
       "1   139441           Photo  2        12         4         3        0   \n",
       "2   139441           Status 2        12         3        10        0   \n",
       "3   139441           Photo  3        12         3         3        0   \n",
       "⋮   ⋮                ⋮      ⋮        ⋮          ⋮        ⋮         ⋮   \n",
       "486 81370            Photo  1        1          5         2         0  \n",
       "487 81370            Photo  3        1          4        11         0  \n",
       "488 81370            Photo  2        1          4         4        NA  \n",
       "    Lifetime Post Total Reach Lifetime Post Total Impressions\n",
       "1    2752                      5091                          \n",
       "2   10460                     19057                          \n",
       "3    2413                      4373                          \n",
       "⋮   ⋮                         ⋮                              \n",
       "486 3778                      7216                           \n",
       "487 4156                      7564                           \n",
       "488 4188                      7292                           \n",
       "    Lifetime Engaged Users Lifetime Post Consumers Lifetime Post Consumptions\n",
       "1    178                    109                     159                      \n",
       "2   1457                   1361                    1674                      \n",
       "3    177                    113                     154                      \n",
       "⋮   ⋮                      ⋮                       ⋮                         \n",
       "486 625                    572                     795                       \n",
       "487 626                    574                     832                       \n",
       "488 564                    524                     743                       \n",
       "    Lifetime Post Impressions by people who have liked your Page\n",
       "1    3078                                                       \n",
       "2   11710                                                       \n",
       "3    2812                                                       \n",
       "⋮   ⋮                                                           \n",
       "486 4742                                                        \n",
       "487 4534                                                        \n",
       "488 3861                                                        \n",
       "    Lifetime Post reach by people who like your Page\n",
       "1   1640                                            \n",
       "2   6112                                            \n",
       "3   1503                                            \n",
       "⋮   ⋮                                               \n",
       "486 2388                                            \n",
       "487 2452                                            \n",
       "488 2200                                            \n",
       "    Lifetime People who have liked your Page and engaged with your post comment\n",
       "1    119                                                                4      \n",
       "2   1108                                                                5      \n",
       "3    132                                                                0      \n",
       "⋮   ⋮                                                                   ⋮      \n",
       "486 363                                                                 4      \n",
       "487 370                                                                 7      \n",
       "488 316                                                                 0      \n",
       "    like share total_interactions hour_of_week\n",
       "1    79  17    100                75          \n",
       "2   130  29    164                58          \n",
       "3    66  14     80                51          \n",
       "⋮   ⋮    ⋮     ⋮                  ⋮           \n",
       "486 93   18    115                98          \n",
       "487 91   38    136                83          \n",
       "488 91   28    119                76          "
      ]
     },
     "metadata": {},
     "output_type": "display_data"
    }
   ],
   "source": [
    "set.seed(2021)\n",
    "facebook_filtered_interactions <- facebook_1 %>% filter(total_interactions < 1000) %>% \n",
    "    mutate(hour_of_week = (post_day - 1) * 24 + post_hour)\n",
    "facebook_filtered_interactions"
   ]
  },
  {
   "cell_type": "markdown",
   "metadata": {},
   "source": [
    "Table 2: Filtering of Total Interactions and Addition of Post_Week Variable Table"
   ]
  },
  {
   "cell_type": "markdown",
   "metadata": {},
   "source": [
    "Here we check that we have included our hour_of_week variable properly into the dataset, and sure enough, it is."
   ]
  },
  {
   "cell_type": "markdown",
   "metadata": {},
   "source": [
    "Next, let's build our exploratory table of our training dataset that we will be performing our K-Nearest Neighbors Regression on, which includes the number of rows, the number of columns and the number of rows with missing data values. However, to find to the means to our predictor variables (likes, comments, shares, and our total interactions), we will also need to filter out the number of rows with missing data values, so that we would not encounter any problems (such as a \"NA\" result) when finding the average. Altogether, we will mutate each of the results we found into one big table in the end."
   ]
  },
  {
   "cell_type": "code",
   "execution_count": 6,
   "metadata": {},
   "outputs": [
    {
     "data": {
      "text/html": [
       "<table>\n",
       "<caption>A tibble: 1 × 7</caption>\n",
       "<thead>\n",
       "\t<tr><th scope=col>observation_total</th><th scope=col>variable_total</th><th scope=col>average_likes</th><th scope=col>average_comments</th><th scope=col>average_shares</th><th scope=col>average_total_interactions</th><th scope=col>missing_rows</th></tr>\n",
       "\t<tr><th scope=col>&lt;int&gt;</th><th scope=col>&lt;int&gt;</th><th scope=col>&lt;dbl&gt;</th><th scope=col>&lt;dbl&gt;</th><th scope=col>&lt;dbl&gt;</th><th scope=col>&lt;dbl&gt;</th><th scope=col>&lt;dbl&gt;</th></tr>\n",
       "</thead>\n",
       "<tbody>\n",
       "\t<tr><td>483</td><td>20</td><td>141.2733</td><td>5.621118</td><td>23.49689</td><td>170.3913</td><td>6</td></tr>\n",
       "</tbody>\n",
       "</table>\n"
      ],
      "text/latex": [
       "A tibble: 1 × 7\n",
       "\\begin{tabular}{lllllll}\n",
       " observation\\_total & variable\\_total & average\\_likes & average\\_comments & average\\_shares & average\\_total\\_interactions & missing\\_rows\\\\\n",
       " <int> & <int> & <dbl> & <dbl> & <dbl> & <dbl> & <dbl>\\\\\n",
       "\\hline\n",
       "\t 483 & 20 & 141.2733 & 5.621118 & 23.49689 & 170.3913 & 6\\\\\n",
       "\\end{tabular}\n"
      ],
      "text/markdown": [
       "\n",
       "A tibble: 1 × 7\n",
       "\n",
       "| observation_total &lt;int&gt; | variable_total &lt;int&gt; | average_likes &lt;dbl&gt; | average_comments &lt;dbl&gt; | average_shares &lt;dbl&gt; | average_total_interactions &lt;dbl&gt; | missing_rows &lt;dbl&gt; |\n",
       "|---|---|---|---|---|---|---|\n",
       "| 483 | 20 | 141.2733 | 5.621118 | 23.49689 | 170.3913 | 6 |\n",
       "\n"
      ],
      "text/plain": [
       "  observation_total variable_total average_likes average_comments\n",
       "1 483               20             141.2733      5.621118        \n",
       "  average_shares average_total_interactions missing_rows\n",
       "1 23.49689       170.3913                   6           "
      ]
     },
     "metadata": {},
     "output_type": "display_data"
    }
   ],
   "source": [
    "set.seed(2021)\n",
    "\n",
    "#Filtering missing data\n",
    "facebook_filtered_na <- facebook_filtered_interactions %>%\n",
    "                            filter(!is.na(Paid)) %>% \n",
    "                            filter(!is.na(comment)) %>% \n",
    "                            filter(!is.na(like)) %>% \n",
    "                            filter(!is.na(share)) %>%                          \n",
    "                            filter(!is.na(total_interactions))\n",
    "\n",
    "#Missing Rows of Data\n",
    "missing_rows <- sum(colSums(is.na(facebook)))\n",
    "\n",
    "#Average of Each Predictor Variable\n",
    "average_likes <- mean(facebook_filtered_na[[\"like\"]])\n",
    "average_comments <- mean(facebook_filtered_na[[\"comment\"]])\n",
    "average_shares <- mean(facebook_filtered_na[[\"share\"]])\n",
    "average_total_interactions <- mean(facebook_filtered_na[[\"total_interactions\"]])\n",
    "\n",
    "#Total Number of Observations\n",
    "observation_total <- nrow(facebook_filtered_na)\n",
    "\n",
    "#Total Number of Variables\n",
    "variable_total <- ncol(facebook_filtered_na)\n",
    "\n",
    "#Exploratory Data Analysis Table\n",
    "exploratory_table <- facebook_filtered_na %>%\n",
    "                     mutate(facebook_filtered_na, observation_total = observation_total) %>%\n",
    "                     mutate(facebook_filtered_na, variable_total = variable_total) %>%\n",
    "                     mutate(facebook_filtered_na, average_likes = average_likes) %>%\n",
    "                     mutate(facebook_filtered_na, average_comments = average_comments) %>%\n",
    "                     mutate(facebook_filtered_na, average_shares = average_shares) %>%\n",
    "                     mutate(facebook_filtered_na, average_total_interactions = average_total_interactions) %>%\n",
    "                     mutate(facebook_filtered_na, missing_rows = missing_rows) %>%\n",
    "                     select(observation_total, variable_total, average_likes, average_comments, average_shares, average_total_interactions,\n",
    "                            missing_rows) %>%\n",
    "                     slice(1)\n",
    "exploratory_table"
   ]
  },
  {
   "cell_type": "markdown",
   "metadata": {},
   "source": [
    "Table 3: Exploratory Data Analysis Table"
   ]
  },
  {
   "cell_type": "markdown",
   "metadata": {},
   "source": [
    "Based on these results of our exploratory table, we can notice a few things. First off, there are 483 observations, meaning that theres a lot of data to process! This means that regardless of the amount of folds specified for cross validation, our accuracy of our regression model won't be perfect. Our results will only provide a rough estimate of the true results, which will be sufficient enough for answering our question. Also to keep in mind is the average of total interactions, which will serve as a baseline later when we compare our results."
   ]
  },
  {
   "cell_type": "markdown",
   "metadata": {},
   "source": [
    "Next, let's create a quick visualization of our dataset of our predictor and target variables (total interactions and hour of week) through the function ggpairs. "
   ]
  },
  {
   "cell_type": "code",
   "execution_count": 7,
   "metadata": {},
   "outputs": [
    {
     "data": {
      "image/png": "[encoded data removed]",
      "text/plain": [
       "plot without title"
      ]
     },
     "metadata": {
      "image/png": {
       "height": 420,
       "width": 420
      }
     },
     "output_type": "display_data"
    }
   ],
   "source": [
    "facebook_ggpairs2 <- facebook_filtered_interactions %>%\n",
    "    select(hour_of_week, total_interactions) %>% \n",
    "    ggpairs()\n",
    "facebook_ggpairs2"
   ]
  },
  {
   "cell_type": "markdown",
   "metadata": {},
   "source": [
    "Figure  2: Ggpairs Dataset between Hour_of_Week and Total_Interactions  "
   ]
  },
  {
   "cell_type": "markdown",
   "metadata": {},
   "source": [
    "Looking at the relationship between Hour of Week and Total Interactions, there seems to have no correlation between the two variables. This means as that as the week progresses, this does not affect the number of total interactions, and vice versa. While this may serve as an initial indicator for a poor showing of results, it's better if we perform the data analysis to see if this is true."
   ]
  },
  {
   "cell_type": "markdown",
   "metadata": {},
   "source": [
    "## Regression"
   ]
  },
  {
   "cell_type": "markdown",
   "metadata": {},
   "source": [
    "As we are clearly predicting a numerical value, this is a regression problem, predicting the highest engagement based on the hour of the week. As with any regression or classification model at the start, we'll split the data into training and testing data, setting aside 75 percent for the training data set and 25 percent with our testing data set, and setting our strata to be total interactions.\n",
    "\n",
    "We will be using both K-nearest neighbours regression and simple linear regression to answer our problem."
   ]
  },
  {
   "cell_type": "code",
   "execution_count": 8,
   "metadata": {},
   "outputs": [],
   "source": [
    "#Split into training (75 percent of data set) and test data\n",
    "set.seed(2021)\n",
    "facebook_split <- initial_split(facebook_filtered_na, prop = 0.75, strata = total_interactions)\n",
    "facebook_train <- training(facebook_split)\n",
    "facebook_test <- testing(facebook_split)"
   ]
  },
  {
   "cell_type": "markdown",
   "metadata": {},
   "source": [
    "### K-nearest Neighbour Regression"
   ]
  },
  {
   "cell_type": "markdown",
   "metadata": {},
   "source": [
    "Let's begin finding the most optimal K for our regression model. First we'll build a recipe and model specification, setting aside the variables required for our analysis, and as a good measure scaling our predictors for our recipe. We'll also set the neighbors to \"tune\" and mode to \"regression\" for our model specification. "
   ]
  },
  {
   "cell_type": "code",
   "execution_count": 9,
   "metadata": {},
   "outputs": [],
   "source": [
    "set.seed(2021)\n",
    "#Recipe for Post Hour\n",
    "facebook_recipe <- recipe(total_interactions ~ hour_of_week, data = facebook_train) %>%\n",
    "                   step_scale(all_predictors()) %>%\n",
    "                   step_center(all_predictors())\n",
    "#Model\n",
    "facebook_spec <- nearest_neighbor(weight_func = \"rectangular\", neighbors = tune()) %>%\n",
    "                 set_engine(\"kknn\") %>%\n",
    "                 set_mode(\"regression\")"
   ]
  },
  {
   "cell_type": "markdown",
   "metadata": {},
   "source": [
    "Next, let's use cross-validation for five folds, and begin creating our workflow by adding our recipe and model. Next, we'll want to test 200 values of K by creating a tibble containing a sequence of 200 rows of K. Finally, we'll tune our workflow with the 200 values of K from gridivals, and make sure it resamples in our cross-validation data set."
   ]
  },
  {
   "cell_type": "code",
   "execution_count": 26,
   "metadata": {},
   "outputs": [
    {
     "data": {
      "text/html": [
       "<table>\n",
       "<caption>A tibble: 400 × 7</caption>\n",
       "<thead>\n",
       "\t<tr><th scope=col>neighbors</th><th scope=col>.metric</th><th scope=col>.estimator</th><th scope=col>mean</th><th scope=col>n</th><th scope=col>std_err</th><th scope=col>.config</th></tr>\n",
       "\t<tr><th scope=col>&lt;int&gt;</th><th scope=col>&lt;chr&gt;</th><th scope=col>&lt;chr&gt;</th><th scope=col>&lt;dbl&gt;</th><th scope=col>&lt;int&gt;</th><th scope=col>&lt;dbl&gt;</th><th scope=col>&lt;chr&gt;</th></tr>\n",
       "</thead>\n",
       "<tbody>\n",
       "\t<tr><td>1</td><td>rmse</td><td>standard</td><td>2.173488e+02</td><td>5</td><td>4.934918008</td><td>Model001</td></tr>\n",
       "\t<tr><td>1</td><td>rsq </td><td>standard</td><td>5.989398e-03</td><td>5</td><td>0.001365001</td><td>Model001</td></tr>\n",
       "\t<tr><td>2</td><td>rmse</td><td>standard</td><td>1.953582e+02</td><td>5</td><td>9.570870421</td><td>Model002</td></tr>\n",
       "\t<tr><td>⋮</td><td>⋮</td><td>⋮</td><td>⋮</td><td>⋮</td><td>⋮</td><td>⋮</td></tr>\n",
       "\t<tr><td>199</td><td>rsq </td><td>standard</td><td>  0.01374372</td><td>5</td><td>0.009688423</td><td>Model199</td></tr>\n",
       "\t<tr><td>200</td><td>rmse</td><td>standard</td><td>162.32905375</td><td>5</td><td>5.462877103</td><td>Model200</td></tr>\n",
       "\t<tr><td>200</td><td>rsq </td><td>standard</td><td>  0.01419990</td><td>5</td><td>0.008584433</td><td>Model200</td></tr>\n",
       "</tbody>\n",
       "</table>\n"
      ],
      "text/latex": [
       "A tibble: 400 × 7\n",
       "\\begin{tabular}{lllllll}\n",
       " neighbors & .metric & .estimator & mean & n & std\\_err & .config\\\\\n",
       " <int> & <chr> & <chr> & <dbl> & <int> & <dbl> & <chr>\\\\\n",
       "\\hline\n",
       "\t 1 & rmse & standard & 2.173488e+02 & 5 & 4.934918008 & Model001\\\\\n",
       "\t 1 & rsq  & standard & 5.989398e-03 & 5 & 0.001365001 & Model001\\\\\n",
       "\t 2 & rmse & standard & 1.953582e+02 & 5 & 9.570870421 & Model002\\\\\n",
       "\t ⋮ & ⋮ & ⋮ & ⋮ & ⋮ & ⋮ & ⋮\\\\\n",
       "\t 199 & rsq  & standard &   0.01374372 & 5 & 0.009688423 & Model199\\\\\n",
       "\t 200 & rmse & standard & 162.32905375 & 5 & 5.462877103 & Model200\\\\\n",
       "\t 200 & rsq  & standard &   0.01419990 & 5 & 0.008584433 & Model200\\\\\n",
       "\\end{tabular}\n"
      ],
      "text/markdown": [
       "\n",
       "A tibble: 400 × 7\n",
       "\n",
       "| neighbors &lt;int&gt; | .metric &lt;chr&gt; | .estimator &lt;chr&gt; | mean &lt;dbl&gt; | n &lt;int&gt; | std_err &lt;dbl&gt; | .config &lt;chr&gt; |\n",
       "|---|---|---|---|---|---|---|\n",
       "| 1 | rmse | standard | 2.173488e+02 | 5 | 4.934918008 | Model001 |\n",
       "| 1 | rsq  | standard | 5.989398e-03 | 5 | 0.001365001 | Model001 |\n",
       "| 2 | rmse | standard | 1.953582e+02 | 5 | 9.570870421 | Model002 |\n",
       "| ⋮ | ⋮ | ⋮ | ⋮ | ⋮ | ⋮ | ⋮ |\n",
       "| 199 | rsq  | standard |   0.01374372 | 5 | 0.009688423 | Model199 |\n",
       "| 200 | rmse | standard | 162.32905375 | 5 | 5.462877103 | Model200 |\n",
       "| 200 | rsq  | standard |   0.01419990 | 5 | 0.008584433 | Model200 |\n",
       "\n"
      ],
      "text/plain": [
       "    neighbors .metric .estimator mean         n std_err     .config \n",
       "1   1         rmse    standard   2.173488e+02 5 4.934918008 Model001\n",
       "2   1         rsq     standard   5.989398e-03 5 0.001365001 Model001\n",
       "3   2         rmse    standard   1.953582e+02 5 9.570870421 Model002\n",
       "⋮   ⋮         ⋮       ⋮          ⋮            ⋮ ⋮           ⋮       \n",
       "398 199       rsq     standard     0.01374372 5 0.009688423 Model199\n",
       "399 200       rmse    standard   162.32905375 5 5.462877103 Model200\n",
       "400 200       rsq     standard     0.01419990 5 0.008584433 Model200"
      ]
     },
     "metadata": {},
     "output_type": "display_data"
    }
   ],
   "source": [
    "set.seed(2021)\n",
    "#5 fold cross validation\n",
    "facebook_vfold <- vfold_cv(facebook_train, v = 5, strata = total_interactions)\n",
    "\n",
    "#workflow\n",
    "facebook_workflow <- workflow() %>%\n",
    "                     add_recipe(facebook_recipe) %>%\n",
    "                     add_model(facebook_spec)\n",
    "\n",
    "#testing 200 values to find the best value for K\n",
    "gridvals <- tibble(neighbors = seq(1, 200))\n",
    "\n",
    "#tuning workflow and resampling cross validation data set\n",
    "facebook_results <- facebook_workflow %>%\n",
    "                        tune_grid(resamples = facebook_vfold, grid = gridvals) %>%\n",
    "                        collect_metrics()\n",
    "facebook_results"
   ]
  },
  {
   "cell_type": "markdown",
   "metadata": {},
   "source": [
    "Table 4: RMSE Table"
   ]
  },
  {
   "cell_type": "markdown",
   "metadata": {},
   "source": [
    "Lastly, we'll filter for the minimum RMSE value to help us find our most optimal K."
   ]
  },
  {
   "cell_type": "code",
   "execution_count": 11,
   "metadata": {},
   "outputs": [
    {
     "data": {
      "text/html": [
       "<table>\n",
       "<caption>A tibble: 1 × 7</caption>\n",
       "<thead>\n",
       "\t<tr><th scope=col>neighbors</th><th scope=col>.metric</th><th scope=col>.estimator</th><th scope=col>mean</th><th scope=col>n</th><th scope=col>std_err</th><th scope=col>.config</th></tr>\n",
       "\t<tr><th scope=col>&lt;int&gt;</th><th scope=col>&lt;chr&gt;</th><th scope=col>&lt;chr&gt;</th><th scope=col>&lt;dbl&gt;</th><th scope=col>&lt;int&gt;</th><th scope=col>&lt;dbl&gt;</th><th scope=col>&lt;chr&gt;</th></tr>\n",
       "</thead>\n",
       "<tbody>\n",
       "\t<tr><td>93</td><td>rmse</td><td>standard</td><td>161.1096</td><td>5</td><td>5.728928</td><td>Model093</td></tr>\n",
       "</tbody>\n",
       "</table>\n"
      ],
      "text/latex": [
       "A tibble: 1 × 7\n",
       "\\begin{tabular}{lllllll}\n",
       " neighbors & .metric & .estimator & mean & n & std\\_err & .config\\\\\n",
       " <int> & <chr> & <chr> & <dbl> & <int> & <dbl> & <chr>\\\\\n",
       "\\hline\n",
       "\t 93 & rmse & standard & 161.1096 & 5 & 5.728928 & Model093\\\\\n",
       "\\end{tabular}\n"
      ],
      "text/markdown": [
       "\n",
       "A tibble: 1 × 7\n",
       "\n",
       "| neighbors &lt;int&gt; | .metric &lt;chr&gt; | .estimator &lt;chr&gt; | mean &lt;dbl&gt; | n &lt;int&gt; | std_err &lt;dbl&gt; | .config &lt;chr&gt; |\n",
       "|---|---|---|---|---|---|---|\n",
       "| 93 | rmse | standard | 161.1096 | 5 | 5.728928 | Model093 |\n",
       "\n"
      ],
      "text/plain": [
       "  neighbors .metric .estimator mean     n std_err  .config \n",
       "1 93        rmse    standard   161.1096 5 5.728928 Model093"
      ]
     },
     "metadata": {},
     "output_type": "display_data"
    }
   ],
   "source": [
    "#Min amount of RMSPE along with mean and standard error to find the best K value to use\n",
    "facebook_min <- facebook_results %>%\n",
    "    filter(.metric == \"rmse\") %>%\n",
    "    arrange(mean)  %>% \n",
    "    slice(1)\n",
    "\n",
    "facebook_min"
   ]
  },
  {
   "cell_type": "markdown",
   "metadata": {},
   "source": [
    "Figure 3: Best K, shown as 93 neighbors"
   ]
  },
  {
   "cell_type": "markdown",
   "metadata": {},
   "source": [
    "\n",
    "With our most optimal K, lets finally repeat the steps earlier, using the k_min as our nearest neigbours, refiting our knn regression model, and predicting the model using  test data instead of training data."
   ]
  },
  {
   "cell_type": "code",
   "execution_count": 12,
   "metadata": {},
   "outputs": [
    {
     "data": {
      "text/html": [
       "<table>\n",
       "<caption>A tibble: 3 × 3</caption>\n",
       "<thead>\n",
       "\t<tr><th scope=col>.metric</th><th scope=col>.estimator</th><th scope=col>.estimate</th></tr>\n",
       "\t<tr><th scope=col>&lt;chr&gt;</th><th scope=col>&lt;chr&gt;</th><th scope=col>&lt;dbl&gt;</th></tr>\n",
       "</thead>\n",
       "<tbody>\n",
       "\t<tr><td>rmse</td><td>standard</td><td>134.92938185</td></tr>\n",
       "\t<tr><td>rsq </td><td>standard</td><td>  0.04724075</td></tr>\n",
       "\t<tr><td>mae </td><td>standard</td><td>105.24731183</td></tr>\n",
       "</tbody>\n",
       "</table>\n"
      ],
      "text/latex": [
       "A tibble: 3 × 3\n",
       "\\begin{tabular}{lll}\n",
       " .metric & .estimator & .estimate\\\\\n",
       " <chr> & <chr> & <dbl>\\\\\n",
       "\\hline\n",
       "\t rmse & standard & 134.92938185\\\\\n",
       "\t rsq  & standard &   0.04724075\\\\\n",
       "\t mae  & standard & 105.24731183\\\\\n",
       "\\end{tabular}\n"
      ],
      "text/markdown": [
       "\n",
       "A tibble: 3 × 3\n",
       "\n",
       "| .metric &lt;chr&gt; | .estimator &lt;chr&gt; | .estimate &lt;dbl&gt; |\n",
       "|---|---|---|\n",
       "| rmse | standard | 134.92938185 |\n",
       "| rsq  | standard |   0.04724075 |\n",
       "| mae  | standard | 105.24731183 |\n",
       "\n"
      ],
      "text/plain": [
       "  .metric .estimator .estimate   \n",
       "1 rmse    standard   134.92938185\n",
       "2 rsq     standard     0.04724075\n",
       "3 mae     standard   105.24731183"
      ]
     },
     "metadata": {},
     "output_type": "display_data"
    }
   ],
   "source": [
    "#Min RMSPE\n",
    "set.seed(2021)\n",
    "k_min <- facebook_min %>%\n",
    "            pull(neighbors)\n",
    "\n",
    "#Using the best K in our model\n",
    "facebook_best_spec <- nearest_neighbor(weight_func = \"rectangular\", neighbors = k_min) %>%\n",
    "                            set_engine(\"kknn\") %>%\n",
    "                            set_mode(\"regression\")\n",
    "\n",
    "#Reworking the workflow to incorporate our chosen K\n",
    "facebook_best_fit <- workflow() %>%\n",
    "                        add_recipe(facebook_recipe) %>%\n",
    "                        add_model(facebook_best_spec) %>%\n",
    "                        fit(data = facebook_train)\n",
    "\n",
    "#Summary of the training vs testing data\n",
    "facebook_summary <- facebook_best_fit %>% \n",
    "                       predict(facebook_test) %>%\n",
    "                       bind_cols(facebook_test) %>%\n",
    "                       metrics(truth = total_interactions, estimate = .pred)  \n",
    "facebook_summary"
   ]
  },
  {
   "cell_type": "markdown",
   "metadata": {},
   "source": [
    "Table 5: RMSPE value from cross-validation of the best mode"
   ]
  },
  {
   "cell_type": "markdown",
   "metadata": {},
   "source": [
    "The $RMSPE$ value is from our testing data set is 134.92, which is lower than 161.1096, the $RMSPE$ value for the cross-validation of our best mode. This means that our model is better on the test data than on the training data."
   ]
  },
  {
   "cell_type": "code",
   "execution_count": 13,
   "metadata": {},
   "outputs": [
    {
     "data": {
      "image/png": "[encoded data removed]",
      "text/plain": [
       "plot without title"
      ]
     },
     "metadata": {
      "image/png": {
       "height": 420,
       "width": 420
      }
     },
     "output_type": "display_data"
    }
   ],
   "source": [
    "#set.seed(2021)\n",
    "facebook_preds <-  facebook_best_fit %>%\n",
    "                   predict(facebook_test) %>%\n",
    "                   bind_cols(facebook_test)\n",
    "facebook_plot_final <- ggplot(facebook_preds, aes(x = hour_of_week, y = total_interactions)) +\n",
    "                       geom_point(alpha = 0.4) +\n",
    "                       xlab(\"Hour of Week\") +\n",
    "                       ylab(\"Total Interactions (Sum of Likes, Comments, and Shares)\") +\n",
    "                       geom_line(data = facebook_preds, aes(x = hour_of_week, y = .pred), color = \"blue\") +\n",
    "                       ggtitle(paste0(\"K = \", k_min))\n",
    "facebook_plot_final"
   ]
  },
  {
   "cell_type": "markdown",
   "metadata": {},
   "source": [
    "Figure 4: Final Graph between Total Interactions and Hour of Week"
   ]
  },
  {
   "cell_type": "markdown",
   "metadata": {},
   "source": [
    "Finally we will use facebook_preds to see which hour of the week has the highest predicted interactions. We created a function that converts the post_day from a numerical value to characters so that it is easier to see exactly which day and hour has the highest predicted interactions."
   ]
  },
  {
   "cell_type": "code",
   "execution_count": 14,
   "metadata": {},
   "outputs": [],
   "source": [
    "#function that converts post_day (weekday as a number from 1 to 7) to name of day\n",
    "weekday_no_to_name <- function(day_num) {\n",
    "    day <- switch(day_num, \"Sunday\", \"Monday\", \"Tuesday\", \"Wednesday\", \"Thursday\", \"Friday\", \"Saturday\")\n",
    "    return(day)\n",
    "}"
   ]
  },
  {
   "cell_type": "code",
   "execution_count": 15,
   "metadata": {},
   "outputs": [
    {
     "name": "stderr",
     "output_type": "stream",
     "text": [
      "`summarise()` regrouping output by 'hour_of_week', 'post_day' (override with `.groups` argument)\n",
      "\n"
     ]
    },
    {
     "data": {
      "text/html": [
       "<table>\n",
       "<caption>A grouped_df: 6 × 4</caption>\n",
       "<thead>\n",
       "\t<tr><th scope=col>hour_of_week</th><th scope=col>post_day</th><th scope=col>post_hour</th><th scope=col>predicted_interactions</th></tr>\n",
       "\t<tr><th scope=col>&lt;dbl&gt;</th><th scope=col>&lt;list&gt;</th><th scope=col>&lt;dbl&gt;</th><th scope=col>&lt;dbl&gt;</th></tr>\n",
       "</thead>\n",
       "<tbody>\n",
       "\t<tr><td>85</td><td>Wednesday</td><td>13</td><td>218.4086</td></tr>\n",
       "\t<tr><td>82</td><td>Wednesday</td><td>10</td><td>217.4194</td></tr>\n",
       "\t<tr><td>81</td><td>Wednesday</td><td> 9</td><td>216.3978</td></tr>\n",
       "\t<tr><td>83</td><td>Wednesday</td><td>11</td><td>215.5376</td></tr>\n",
       "\t<tr><td>84</td><td>Wednesday</td><td>12</td><td>215.2796</td></tr>\n",
       "\t<tr><td>99</td><td>Thursday</td><td> 3</td><td>199.7742</td></tr>\n",
       "</tbody>\n",
       "</table>\n"
      ],
      "text/latex": [
       "A grouped\\_df: 6 × 4\n",
       "\\begin{tabular}{llll}\n",
       " hour\\_of\\_week & post\\_day & post\\_hour & predicted\\_interactions\\\\\n",
       " <dbl> & <list> & <dbl> & <dbl>\\\\\n",
       "\\hline\n",
       "\t 85 & Wednesday & 13 & 218.4086\\\\\n",
       "\t 82 & Wednesday & 10 & 217.4194\\\\\n",
       "\t 81 & Wednesday &  9 & 216.3978\\\\\n",
       "\t 83 & Wednesday & 11 & 215.5376\\\\\n",
       "\t 84 & Wednesday & 12 & 215.2796\\\\\n",
       "\t 99 & Thursday &  3 & 199.7742\\\\\n",
       "\\end{tabular}\n"
      ],
      "text/markdown": [
       "\n",
       "A grouped_df: 6 × 4\n",
       "\n",
       "| hour_of_week &lt;dbl&gt; | post_day &lt;list&gt; | post_hour &lt;dbl&gt; | predicted_interactions &lt;dbl&gt; |\n",
       "|---|---|---|---|\n",
       "| 85 | Wednesday | 13 | 218.4086 |\n",
       "| 82 | Wednesday | 10 | 217.4194 |\n",
       "| 81 | Wednesday |  9 | 216.3978 |\n",
       "| 83 | Wednesday | 11 | 215.5376 |\n",
       "| 84 | Wednesday | 12 | 215.2796 |\n",
       "| 99 | Thursday |  3 | 199.7742 |\n",
       "\n"
      ],
      "text/plain": [
       "  hour_of_week post_day  post_hour predicted_interactions\n",
       "1 85           Wednesday 13        218.4086              \n",
       "2 82           Wednesday 10        217.4194              \n",
       "3 81           Wednesday  9        216.3978              \n",
       "4 83           Wednesday 11        215.5376              \n",
       "5 84           Wednesday 12        215.2796              \n",
       "6 99           Thursday   3        199.7742              "
      ]
     },
     "metadata": {},
     "output_type": "display_data"
    }
   ],
   "source": [
    "# Show post hours, weekdays with highest post stats\n",
    "facebook_best <- facebook_preds %>% \n",
    "    select(.pred, post_day, post_hour, hour_of_week) %>%\n",
    "    group_by(hour_of_week, post_day, post_hour) %>%\n",
    "    summarize(predicted_interactions = mean(.pred)) %>% # same hour and weekday have same prediction; used summarize to remove duplicates\n",
    "    mutate(post_day = map(post_day, weekday_no_to_name)) %>% # convert weekday numbers to weekday names\n",
    "    arrange(desc(predicted_interactions))\n",
    "head(facebook_best)"
   ]
  },
  {
   "cell_type": "markdown",
   "metadata": {},
   "source": [
    "Table 6: Best 6 times to post based on KNN regression model"
   ]
  },
  {
   "cell_type": "markdown",
   "metadata": {},
   "source": [
    "### Linear Regression"
   ]
  },
  {
   "cell_type": "markdown",
   "metadata": {},
   "source": [
    "KNN Regression isn't the only method for prediction quantatative values. Another method is Linear Regression, which instead of looking at the K-nearest neighbours and averaging over their values for a prediction, we use all the training data points to create a straight line of best fit. This line is then used to \"look up\" the predicted value. This different prediction method may give us more accurate results, so we will be creating a linear regression model for further analysis and comparison to our KNN model later on in the report.\n",
    "\n",
    "Using our training data from before, we start by creating a new model specification that sets the engine to \"lm\" and the mode to \"regression\" (like before) and a new recipe. Unlike the KNN Facebook recipe, we do not need to scale and center the data for linear regression as standardization does not affect the fit of the model at all. It does impact the coefficients in the linear slope equation though, but its usually easier to interpret the best fit coefficients if we don't standardize so we're choosing not to."
   ]
  },
  {
   "cell_type": "code",
   "execution_count": 20,
   "metadata": {},
   "outputs": [
    {
     "data": {
      "text/plain": [
       "══ Workflow [trained] ══════════════════════════════════════════════════════════\n",
       "\u001b[3mPreprocessor:\u001b[23m Recipe\n",
       "\u001b[3mModel:\u001b[23m linear_reg()\n",
       "\n",
       "── Preprocessor ────────────────────────────────────────────────────────────────\n",
       "0 Recipe Steps\n",
       "\n",
       "── Model ───────────────────────────────────────────────────────────────────────\n",
       "\n",
       "Call:\n",
       "stats::lm(formula = ..y ~ ., data = data)\n",
       "\n",
       "Coefficients:\n",
       " (Intercept)  hour_of_week  \n",
       "   175.02958      -0.00181  \n"
      ]
     },
     "metadata": {},
     "output_type": "display_data"
    }
   ],
   "source": [
    "fb_spec <- linear_reg() %>%\n",
    "    set_engine(\"lm\") %>%\n",
    "    set_mode(\"regression\")\n",
    "\n",
    "fb_recipe <- recipe(total_interactions ~ hour_of_week, data = facebook_train)\n",
    "\n",
    "fb_fit <- workflow() %>%\n",
    "    add_recipe(fb_recipe) %>%\n",
    "    add_model(fb_spec) %>%\n",
    "    fit(data = facebook_train)\n",
    "fb_fit\n",
    "\n",
    "facebook_linear_preds <- fb_fit %>%\n",
    "                   predict(facebook_test) %>%\n",
    "                   bind_cols(facebook_test)"
   ]
  },
  {
   "cell_type": "markdown",
   "metadata": {},
   "source": [
    "From the given model, we see that our coefficients are (intercept) β0 = 175.02958, and (slope) β1 = -0.00181. This gives us a slope equation of:\n",
    "\n",
    "$ total \\ interactions = 175.02958 - 0.00181 * hour \\ of \\ week$\n",
    "\n",
    "The model is predicting that interactions roughly start at 180.85, and every hour_of_week decreases total interactions by 0.00181. This fits our exploratory analysis earlier, where we initially discovered that there is no correlation between hour_of_week and total interactions."
   ]
  },
  {
   "cell_type": "markdown",
   "metadata": {},
   "source": [
    "Next, we calculate the $RMSE$  to assess goodness of fit on fb_fit. This tells us how well our linear regression model predicts on the training data used to fit the model."
   ]
  },
  {
   "cell_type": "code",
   "execution_count": 21,
   "metadata": {},
   "outputs": [
    {
     "data": {
      "text/html": [
       "162.575661883823"
      ],
      "text/latex": [
       "162.575661883823"
      ],
      "text/markdown": [
       "162.575661883823"
      ],
      "text/plain": [
       "[1] 162.5757"
      ]
     },
     "metadata": {},
     "output_type": "display_data"
    }
   ],
   "source": [
    "lm_rmse <- fb_fit %>%\n",
    "         predict(facebook_train) %>%\n",
    "         bind_cols(facebook_train) %>%\n",
    "         metrics(truth = total_interactions, estimate = .pred) %>%\n",
    "         filter(.metric == \"rmse\") %>%\n",
    "         select(.estimate)  %>%\n",
    "         pull()\n",
    "lm_rmse"
   ]
  },
  {
   "cell_type": "markdown",
   "metadata": {},
   "source": [
    "We also calculate the $RMSPE$ using our training data"
   ]
  },
  {
   "cell_type": "code",
   "execution_count": 22,
   "metadata": {},
   "outputs": [
    {
     "data": {
      "text/html": [
       "137.320951824026"
      ],
      "text/latex": [
       "137.320951824026"
      ],
      "text/markdown": [
       "137.320951824026"
      ],
      "text/plain": [
       "[1] 137.321"
      ]
     },
     "metadata": {},
     "output_type": "display_data"
    }
   ],
   "source": [
    "fb_test_results <- fb_fit %>%\n",
    "    predict(facebook_test) %>%\n",
    "    bind_cols(facebook_test) %>%\n",
    "    metrics(truth = total_interactions, estimate = .pred) %>%\n",
    "         filter(.metric == \"rmse\") %>%\n",
    "         select(.estimate)  %>%\n",
    "         pull()\n",
    "\n",
    "fb_test_results"
   ]
  },
  {
   "cell_type": "markdown",
   "metadata": {},
   "source": [
    "The $RMSPE$ value is from our testing data set is 137.32, which is lower than 162.58, the $RMSE$ value. This means that our model is better on the test data than on the training data.\n",
    "<br> <br>\n",
    "The next and final step is to graph the relationship."
   ]
  },
  {
   "cell_type": "code",
   "execution_count": 23,
   "metadata": {},
   "outputs": [
    {
     "data": {
      "image/png": "[encoded data removed]",
      "text/plain": [
       "plot without title"
      ]
     },
     "metadata": {
      "image/png": {
       "height": 420,
       "width": 420
      }
     },
     "output_type": "display_data"
    }
   ],
   "source": [
    "facebook_plot_final <- ggplot(facebook_linear_preds, aes(x = hour_of_week, y = total_interactions)) +\n",
    "                       geom_point(alpha = 0.1) +\n",
    "                       xlab(\"Hour of week\") +\n",
    "                       ylab(\"Total Interactions (Sum of Likes, Comments, and Shares)\") +\n",
    "                       geom_line(data = facebook_linear_preds, aes(x = hour_of_week, y = .pred), color = \"blue\") +\n",
    "                       ggtitle(\"The Predicted Relationship between \n",
    "Total Interactions and the Hour of Week\") +\n",
    "                       theme(text = element_text(size = 16)) \n",
    "facebook_plot_final"
   ]
  },
  {
   "cell_type": "markdown",
   "metadata": {},
   "source": [
    "Figure 5: Graph of Total Interactions vs Hour of Week using Linear Regression"
   ]
  },
  {
   "cell_type": "markdown",
   "metadata": {},
   "source": [
    "Finally we will use facebook_linear_preds to see which hour of the week has the highest predicted interactions."
   ]
  },
  {
   "cell_type": "code",
   "execution_count": 24,
   "metadata": {},
   "outputs": [
    {
     "name": "stderr",
     "output_type": "stream",
     "text": [
      "`summarise()` regrouping output by 'hour_of_week', 'post_day' (override with `.groups` argument)\n",
      "\n"
     ]
    },
    {
     "data": {
      "text/html": [
       "<table>\n",
       "<caption>A grouped_df: 6 × 4</caption>\n",
       "<thead>\n",
       "\t<tr><th scope=col>hour_of_week</th><th scope=col>post_day</th><th scope=col>post_hour</th><th scope=col>predicted_interactions</th></tr>\n",
       "\t<tr><th scope=col>&lt;dbl&gt;</th><th scope=col>&lt;list&gt;</th><th scope=col>&lt;dbl&gt;</th><th scope=col>&lt;dbl&gt;</th></tr>\n",
       "</thead>\n",
       "<tbody>\n",
       "\t<tr><td> 2</td><td>Sunday</td><td> 2</td><td>175.0260</td></tr>\n",
       "\t<tr><td> 3</td><td>Sunday</td><td> 3</td><td>175.0242</td></tr>\n",
       "\t<tr><td> 4</td><td>Sunday</td><td> 4</td><td>175.0223</td></tr>\n",
       "\t<tr><td>10</td><td>Sunday</td><td>10</td><td>175.0115</td></tr>\n",
       "\t<tr><td>12</td><td>Sunday</td><td>12</td><td>175.0079</td></tr>\n",
       "\t<tr><td>13</td><td>Sunday</td><td>13</td><td>175.0061</td></tr>\n",
       "</tbody>\n",
       "</table>\n"
      ],
      "text/latex": [
       "A grouped\\_df: 6 × 4\n",
       "\\begin{tabular}{llll}\n",
       " hour\\_of\\_week & post\\_day & post\\_hour & predicted\\_interactions\\\\\n",
       " <dbl> & <list> & <dbl> & <dbl>\\\\\n",
       "\\hline\n",
       "\t  2 & Sunday &  2 & 175.0260\\\\\n",
       "\t  3 & Sunday &  3 & 175.0242\\\\\n",
       "\t  4 & Sunday &  4 & 175.0223\\\\\n",
       "\t 10 & Sunday & 10 & 175.0115\\\\\n",
       "\t 12 & Sunday & 12 & 175.0079\\\\\n",
       "\t 13 & Sunday & 13 & 175.0061\\\\\n",
       "\\end{tabular}\n"
      ],
      "text/markdown": [
       "\n",
       "A grouped_df: 6 × 4\n",
       "\n",
       "| hour_of_week &lt;dbl&gt; | post_day &lt;list&gt; | post_hour &lt;dbl&gt; | predicted_interactions &lt;dbl&gt; |\n",
       "|---|---|---|---|\n",
       "|  2 | Sunday |  2 | 175.0260 |\n",
       "|  3 | Sunday |  3 | 175.0242 |\n",
       "|  4 | Sunday |  4 | 175.0223 |\n",
       "| 10 | Sunday | 10 | 175.0115 |\n",
       "| 12 | Sunday | 12 | 175.0079 |\n",
       "| 13 | Sunday | 13 | 175.0061 |\n",
       "\n"
      ],
      "text/plain": [
       "  hour_of_week post_day post_hour predicted_interactions\n",
       "1  2           Sunday    2        175.0260              \n",
       "2  3           Sunday    3        175.0242              \n",
       "3  4           Sunday    4        175.0223              \n",
       "4 10           Sunday   10        175.0115              \n",
       "5 12           Sunday   12        175.0079              \n",
       "6 13           Sunday   13        175.0061              "
      ]
     },
     "metadata": {},
     "output_type": "display_data"
    }
   ],
   "source": [
    "facebook_best <- facebook_linear_preds %>% \n",
    "    select(.pred, post_day, post_hour, hour_of_week) %>%\n",
    "    group_by(hour_of_week, post_day, post_hour) %>%\n",
    "    summarize(predicted_interactions = mean(.pred)) %>% # same hour and weekday have same prediction; used summarize to remove duplicates\n",
    "    mutate(post_day = map(post_day, weekday_no_to_name)) %>% # convert weekday numbers to weekday names\n",
    "    arrange(desc(predicted_interactions))\n",
    "head(facebook_best)"
   ]
  },
  {
   "cell_type": "markdown",
   "metadata": {},
   "source": [
    "Table 7: Best 6 times to post based on linear regression model"
   ]
  },
  {
   "cell_type": "markdown",
   "metadata": {},
   "source": [
    "The visualization of the model affirms what our model was predicting earlier; the correlation between Total Interactions and Hour of Week is minimal. The slope of the line is nearly zero, indicating that the relationship is very weak, but it is still a weak negative slope. This does show that there is a relationship between the two variables, but this relationship serves no purpose for predictive analysis."
   ]
  },
  {
   "cell_type": "markdown",
   "metadata": {},
   "source": [
    "# Discussion"
   ]
  },
  {
   "cell_type": "markdown",
   "metadata": {},
   "source": [
    "To summarize, both KNN regression and linear regression indicated that there is little correlation between the hour of week and the total number of interactions. However, upon further examination of the regression models, we can spot some observations that can help us answer our question, when is the best hour of the week to post for the highest interaction?\n",
    "\n",
    "Looking at the graph of hour of the week vs, total interactions based on KNN regression (Figure 4), we see that the regression line has a slight peak in the middle of the graph. This corresponds to the results in Table 6, which indicate that the 5 highest predicted interactions occur on Wednesday between 09:00 to 13:00. \n",
    "\n",
    "On the other hand, the graph of hour of the week vs, total interactions based on linear regression (Figure 5), looks almost completely constant to the naked eye. In fact, the slope of the regression line is -0.00181, which is incredibly small. The negative slope indicates that generally posts have higher interactions at the beginning of the week (Sunday) than at the end of the week (Saturday). Table 7, which indicates that the 6 highest predicted interactions occur on Sunday, which confirms our analysis of Figure 5. \n",
    "\n",
    "Comparing the RMSPE values for both regression models can give us a clearer picture of the accuracy of our models. The RMSPE value for KNN regression is 134.92, while the RMSPE value for linear regression is 137.32. Since the RMSPE is lower for KNN regression than linear regression, our KNN regression model provided a slightly better fit on test data than our linear regression model. Using KNN regression also makes more sense in the context of our question because it is more likely that there are peaks throughout the week where posts have higher engagement than if post interaction only increases or decreases throughout the week. The regression line for KNN regression allows for such peaks to exist, while the linear regression does not allow for such peaks. \n",
    "\n",
    "Given that the RMSPE value for KNN regression is slightly smaller, and the fact that KNN regression allows for peaks to exist, we can answer our question, when is the best hour of the week to post for the highest interaction? Although the correlation is very weak, posting between 0900h and 1300h on Wednesdays is likely to result in the highest post interactions for this specific cosmetic brand. \n",
    "\n",
    "### Expectations\n",
    "\n",
    "Our results were not what we expected. We expected that there would be a relationship between the time of a post and the number of interactions a post has. Specifically, we expected to find that a post on the weekends or evenings would garner more interactions than during the weekdays because weekends and evenings are leisure time for many people. Moreover, we expected that there would be a stronger correlation between post hour and total interactions. \n",
    "\n",
    "### Impact\n",
    "\n",
    "In a Sprout Social article, they found that the best times to post for highest global engagement on Facebook is Wednesdays, 11 a.m. and 1–2 p.m, and the worst time to post is on Sundays. In a different article by Buffer, they state that “the best time to post to Facebook is between 1pm – 3pm on during the week and Saturdays.”\n",
    "\n",
    "Our own study and the study conducted by Sprout Social and Buffer all give different results for when the best time to post on facebook. Our findings are based on one sole brand. The target audience of this cosmetic brand may be different than that of a tech company or even a different cosmetic brand. From this we could say that there is no universal best time to post. There is so much content being posted on Facebook everyday. Perhaps the best time to post depends on a number of other factors beyond the scope of our project, such as the type of post, whether posts are paid, or posts made by others.\n",
    "\n",
    "Our findings can be useful to the cosmetic brand to maximize their post engagement and boost their profits. Moreover, our methods could be useful for all companies when assessing their own post engagement. \n",
    "\n",
    "### Future Questions\n",
    "\n",
    "From here, there are many future questions that could be asked. These include:\n",
    "- Is it true for other social media platforms or just Facebook? \n",
    "- Is there a large difference between post interactions on a paid post versus a normal post?\n"
   ]
  },
  {
   "cell_type": "markdown",
   "metadata": {},
   "source": [
    "# References"
   ]
  },
  {
   "cell_type": "markdown",
   "metadata": {},
   "source": [
    "Literature 1 (Dataset): \n",
    "\n",
    "Moro, S., Rita, P., & Vala, B. (2016). Predicting social media performance metrics and evaluation of the impact on brand \n",
    "building: A data mining approach. Journal of Business Research, 69(9), 3341-3351. https://doi.org/10.1016/j.jbusres.2016.02.010.\n",
    "\n",
    "Literature 2:\n",
    "\n",
    "Read, A. (2021, January 6). Best time to post on Facebook in 2021: A complete guide. Buffer. https://buffer.com/library/best-time-to-post-on-facebook/\n",
    "\n",
    "Literature 3:\n",
    "\n",
    "Arens, E. (2020, August 3). The best times to post on social media in 2020. Sprout Social. https://sproutsocial.com/insights/best-times-to-post-on-social-media/"
   ]
  }
 ],
 "metadata": {
  "kernelspec": {
   "display_name": "R",
   "language": "R",
   "name": "ir"
  },
  "language_info": {
   "codemirror_mode": "r",
   "file_extension": ".r",
   "mimetype": "text/x-r-source",
   "name": "R",
   "pygments_lexer": "r",
   "version": "4.0.0"
  }
 },
 "nbformat": 4,
 "nbformat_minor": 4
}
