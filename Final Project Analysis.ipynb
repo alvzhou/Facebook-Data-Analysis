{
 "cells": [
  {
   "cell_type": "code",
   "execution_count": 15,
   "metadata": {},
   "outputs": [],
   "source": [
    "library(tidyverse)\n",
    "library(repr)\n",
    "library(tidymodels)\n",
    "library(cowplot)\n",
    "options(repr.matrix.max.rows = 6)"
   ]
  },
  {
   "cell_type": "code",
   "execution_count": 14,
   "metadata": {},
   "outputs": [
    {
     "name": "stderr",
     "output_type": "stream",
     "text": [
      "Using ',' as decimal and '.' as grouping mark. Use read_delim() for more control.\n",
      "\n",
      "Parsed with column specification:\n",
      "cols(\n",
      "  `Page total likes` = \u001b[32mcol_double()\u001b[39m,\n",
      "  Type = \u001b[31mcol_character()\u001b[39m,\n",
      "  Category = \u001b[32mcol_double()\u001b[39m,\n",
      "  `Post Month` = \u001b[32mcol_double()\u001b[39m,\n",
      "  `Post Weekday` = \u001b[32mcol_double()\u001b[39m,\n",
      "  `Post Hour` = \u001b[32mcol_double()\u001b[39m,\n",
      "  Paid = \u001b[32mcol_double()\u001b[39m,\n",
      "  `Lifetime Post Total Reach` = \u001b[32mcol_double()\u001b[39m,\n",
      "  `Lifetime Post Total Impressions` = \u001b[32mcol_double()\u001b[39m,\n",
      "  `Lifetime Engaged Users` = \u001b[32mcol_double()\u001b[39m,\n",
      "  `Lifetime Post Consumers` = \u001b[32mcol_double()\u001b[39m,\n",
      "  `Lifetime Post Consumptions` = \u001b[32mcol_double()\u001b[39m,\n",
      "  `Lifetime Post Impressions by people who have liked your Page` = \u001b[32mcol_double()\u001b[39m,\n",
      "  `Lifetime Post reach by people who like your Page` = \u001b[32mcol_double()\u001b[39m,\n",
      "  `Lifetime People who have liked your Page and engaged with your post` = \u001b[32mcol_double()\u001b[39m,\n",
      "  comment = \u001b[32mcol_double()\u001b[39m,\n",
      "  like = \u001b[32mcol_double()\u001b[39m,\n",
      "  share = \u001b[32mcol_double()\u001b[39m,\n",
      "  `Total Interactions` = \u001b[32mcol_double()\u001b[39m\n",
      ")\n",
      "\n"
     ]
    },
    {
     "data": {
      "text/html": [
       "<table>\n",
       "<caption>A tibble: 6 × 19</caption>\n",
       "<thead>\n",
       "\t<tr><th scope=col>Page total likes</th><th scope=col>Type</th><th scope=col>Category</th><th scope=col>Post Month</th><th scope=col>Post Weekday</th><th scope=col>Post Hour</th><th scope=col>Paid</th><th scope=col>Lifetime Post Total Reach</th><th scope=col>Lifetime Post Total Impressions</th><th scope=col>Lifetime Engaged Users</th><th scope=col>Lifetime Post Consumers</th><th scope=col>Lifetime Post Consumptions</th><th scope=col>Lifetime Post Impressions by people who have liked your Page</th><th scope=col>Lifetime Post reach by people who like your Page</th><th scope=col>Lifetime People who have liked your Page and engaged with your post</th><th scope=col>comment</th><th scope=col>like</th><th scope=col>share</th><th scope=col>Total Interactions</th></tr>\n",
       "\t<tr><th scope=col>&lt;dbl&gt;</th><th scope=col>&lt;chr&gt;</th><th scope=col>&lt;dbl&gt;</th><th scope=col>&lt;dbl&gt;</th><th scope=col>&lt;dbl&gt;</th><th scope=col>&lt;dbl&gt;</th><th scope=col>&lt;dbl&gt;</th><th scope=col>&lt;dbl&gt;</th><th scope=col>&lt;dbl&gt;</th><th scope=col>&lt;dbl&gt;</th><th scope=col>&lt;dbl&gt;</th><th scope=col>&lt;dbl&gt;</th><th scope=col>&lt;dbl&gt;</th><th scope=col>&lt;dbl&gt;</th><th scope=col>&lt;dbl&gt;</th><th scope=col>&lt;dbl&gt;</th><th scope=col>&lt;dbl&gt;</th><th scope=col>&lt;dbl&gt;</th><th scope=col>&lt;dbl&gt;</th></tr>\n",
       "</thead>\n",
       "<tbody>\n",
       "\t<tr><td>139441</td><td>Photo </td><td>2</td><td>12</td><td>4</td><td> 3</td><td>0</td><td> 2752</td><td> 5091</td><td> 178</td><td> 109</td><td> 159</td><td> 3078</td><td> 1640</td><td> 119</td><td> 4</td><td>  79</td><td> 17</td><td> 100</td></tr>\n",
       "\t<tr><td>139441</td><td>Status</td><td>2</td><td>12</td><td>3</td><td>10</td><td>0</td><td>10460</td><td>19057</td><td>1457</td><td>1361</td><td>1674</td><td>11710</td><td> 6112</td><td>1108</td><td> 5</td><td> 130</td><td> 29</td><td> 164</td></tr>\n",
       "\t<tr><td>139441</td><td>Photo </td><td>3</td><td>12</td><td>3</td><td> 3</td><td>0</td><td> 2413</td><td> 4373</td><td> 177</td><td> 113</td><td> 154</td><td> 2812</td><td> 1503</td><td> 132</td><td> 0</td><td>  66</td><td> 14</td><td>  80</td></tr>\n",
       "\t<tr><td>139441</td><td>Photo </td><td>2</td><td>12</td><td>2</td><td>10</td><td>1</td><td>50128</td><td>87991</td><td>2211</td><td> 790</td><td>1119</td><td>61027</td><td>32048</td><td>1386</td><td>58</td><td>1572</td><td>147</td><td>1777</td></tr>\n",
       "\t<tr><td>139441</td><td>Photo </td><td>2</td><td>12</td><td>2</td><td> 3</td><td>0</td><td> 7244</td><td>13594</td><td> 671</td><td> 410</td><td> 580</td><td> 6228</td><td> 3200</td><td> 396</td><td>19</td><td> 325</td><td> 49</td><td> 393</td></tr>\n",
       "\t<tr><td>139441</td><td>Status</td><td>2</td><td>12</td><td>1</td><td> 9</td><td>0</td><td>10472</td><td>20849</td><td>1191</td><td>1073</td><td>1389</td><td>16034</td><td> 7852</td><td>1016</td><td> 1</td><td> 152</td><td> 33</td><td> 186</td></tr>\n",
       "</tbody>\n",
       "</table>\n"
      ],
      "text/latex": [
       "A tibble: 6 × 19\n",
       "\\begin{tabular}{lllllllllllllllllll}\n",
       " Page total likes & Type & Category & Post Month & Post Weekday & Post Hour & Paid & Lifetime Post Total Reach & Lifetime Post Total Impressions & Lifetime Engaged Users & Lifetime Post Consumers & Lifetime Post Consumptions & Lifetime Post Impressions by people who have liked your Page & Lifetime Post reach by people who like your Page & Lifetime People who have liked your Page and engaged with your post & comment & like & share & Total Interactions\\\\\n",
       " <dbl> & <chr> & <dbl> & <dbl> & <dbl> & <dbl> & <dbl> & <dbl> & <dbl> & <dbl> & <dbl> & <dbl> & <dbl> & <dbl> & <dbl> & <dbl> & <dbl> & <dbl> & <dbl>\\\\\n",
       "\\hline\n",
       "\t 139441 & Photo  & 2 & 12 & 4 &  3 & 0 &  2752 &  5091 &  178 &  109 &  159 &  3078 &  1640 &  119 &  4 &   79 &  17 &  100\\\\\n",
       "\t 139441 & Status & 2 & 12 & 3 & 10 & 0 & 10460 & 19057 & 1457 & 1361 & 1674 & 11710 &  6112 & 1108 &  5 &  130 &  29 &  164\\\\\n",
       "\t 139441 & Photo  & 3 & 12 & 3 &  3 & 0 &  2413 &  4373 &  177 &  113 &  154 &  2812 &  1503 &  132 &  0 &   66 &  14 &   80\\\\\n",
       "\t 139441 & Photo  & 2 & 12 & 2 & 10 & 1 & 50128 & 87991 & 2211 &  790 & 1119 & 61027 & 32048 & 1386 & 58 & 1572 & 147 & 1777\\\\\n",
       "\t 139441 & Photo  & 2 & 12 & 2 &  3 & 0 &  7244 & 13594 &  671 &  410 &  580 &  6228 &  3200 &  396 & 19 &  325 &  49 &  393\\\\\n",
       "\t 139441 & Status & 2 & 12 & 1 &  9 & 0 & 10472 & 20849 & 1191 & 1073 & 1389 & 16034 &  7852 & 1016 &  1 &  152 &  33 &  186\\\\\n",
       "\\end{tabular}\n"
      ],
      "text/markdown": [
       "\n",
       "A tibble: 6 × 19\n",
       "\n",
       "| Page total likes &lt;dbl&gt; | Type &lt;chr&gt; | Category &lt;dbl&gt; | Post Month &lt;dbl&gt; | Post Weekday &lt;dbl&gt; | Post Hour &lt;dbl&gt; | Paid &lt;dbl&gt; | Lifetime Post Total Reach &lt;dbl&gt; | Lifetime Post Total Impressions &lt;dbl&gt; | Lifetime Engaged Users &lt;dbl&gt; | Lifetime Post Consumers &lt;dbl&gt; | Lifetime Post Consumptions &lt;dbl&gt; | Lifetime Post Impressions by people who have liked your Page &lt;dbl&gt; | Lifetime Post reach by people who like your Page &lt;dbl&gt; | Lifetime People who have liked your Page and engaged with your post &lt;dbl&gt; | comment &lt;dbl&gt; | like &lt;dbl&gt; | share &lt;dbl&gt; | Total Interactions &lt;dbl&gt; |\n",
       "|---|---|---|---|---|---|---|---|---|---|---|---|---|---|---|---|---|---|---|\n",
       "| 139441 | Photo  | 2 | 12 | 4 |  3 | 0 |  2752 |  5091 |  178 |  109 |  159 |  3078 |  1640 |  119 |  4 |   79 |  17 |  100 |\n",
       "| 139441 | Status | 2 | 12 | 3 | 10 | 0 | 10460 | 19057 | 1457 | 1361 | 1674 | 11710 |  6112 | 1108 |  5 |  130 |  29 |  164 |\n",
       "| 139441 | Photo  | 3 | 12 | 3 |  3 | 0 |  2413 |  4373 |  177 |  113 |  154 |  2812 |  1503 |  132 |  0 |   66 |  14 |   80 |\n",
       "| 139441 | Photo  | 2 | 12 | 2 | 10 | 1 | 50128 | 87991 | 2211 |  790 | 1119 | 61027 | 32048 | 1386 | 58 | 1572 | 147 | 1777 |\n",
       "| 139441 | Photo  | 2 | 12 | 2 |  3 | 0 |  7244 | 13594 |  671 |  410 |  580 |  6228 |  3200 |  396 | 19 |  325 |  49 |  393 |\n",
       "| 139441 | Status | 2 | 12 | 1 |  9 | 0 | 10472 | 20849 | 1191 | 1073 | 1389 | 16034 |  7852 | 1016 |  1 |  152 |  33 |  186 |\n",
       "\n"
      ],
      "text/plain": [
       "  Page total likes Type   Category Post Month Post Weekday Post Hour Paid\n",
       "1 139441           Photo  2        12         4             3        0   \n",
       "2 139441           Status 2        12         3            10        0   \n",
       "3 139441           Photo  3        12         3             3        0   \n",
       "4 139441           Photo  2        12         2            10        1   \n",
       "5 139441           Photo  2        12         2             3        0   \n",
       "6 139441           Status 2        12         1             9        0   \n",
       "  Lifetime Post Total Reach Lifetime Post Total Impressions\n",
       "1  2752                      5091                          \n",
       "2 10460                     19057                          \n",
       "3  2413                      4373                          \n",
       "4 50128                     87991                          \n",
       "5  7244                     13594                          \n",
       "6 10472                     20849                          \n",
       "  Lifetime Engaged Users Lifetime Post Consumers Lifetime Post Consumptions\n",
       "1  178                    109                     159                      \n",
       "2 1457                   1361                    1674                      \n",
       "3  177                    113                     154                      \n",
       "4 2211                    790                    1119                      \n",
       "5  671                    410                     580                      \n",
       "6 1191                   1073                    1389                      \n",
       "  Lifetime Post Impressions by people who have liked your Page\n",
       "1  3078                                                       \n",
       "2 11710                                                       \n",
       "3  2812                                                       \n",
       "4 61027                                                       \n",
       "5  6228                                                       \n",
       "6 16034                                                       \n",
       "  Lifetime Post reach by people who like your Page\n",
       "1  1640                                           \n",
       "2  6112                                           \n",
       "3  1503                                           \n",
       "4 32048                                           \n",
       "5  3200                                           \n",
       "6  7852                                           \n",
       "  Lifetime People who have liked your Page and engaged with your post comment\n",
       "1  119                                                                 4     \n",
       "2 1108                                                                 5     \n",
       "3  132                                                                 0     \n",
       "4 1386                                                                58     \n",
       "5  396                                                                19     \n",
       "6 1016                                                                 1     \n",
       "  like share Total Interactions\n",
       "1   79  17    100              \n",
       "2  130  29    164              \n",
       "3   66  14     80              \n",
       "4 1572 147   1777              \n",
       "5  325  49    393              \n",
       "6  152  33    186              "
      ]
     },
     "metadata": {},
     "output_type": "display_data"
    }
   ],
   "source": [
    "#reading the data\n",
    "temp <- tempfile()\n",
    "download.file(\"https://archive.ics.uci.edu/ml/machine-learning-databases/00368/Facebook_metrics.zip\",temp)\n",
    "\n",
    "#Reading the data in R\n",
    "facebook <- read_csv2(unz(temp, \"dataset_Facebook.csv\"))\n",
    "head(facebook)\n",
    "unlink(temp)"
   ]
  },
  {
   "cell_type": "code",
   "execution_count": 4,
   "metadata": {},
   "outputs": [],
   "source": [
    "#Splitting into training and testing data\n",
    "#Split into training (75 percent of data set) and test data\n",
    "facebook_split <- initial_split(facebook, prop = 0.75, strata = `Total Interactions`)\n",
    "facebook_train <- training(facebook_split)\n",
    "facebook_test <- testing(facebook_split)"
   ]
  },
  {
   "cell_type": "code",
   "execution_count": 16,
   "metadata": {},
   "outputs": [
    {
     "data": {
      "text/plain": [
       "══ Workflow ════════════════════════════════════════════════════════════════════\n",
       "\u001b[3mPreprocessor:\u001b[23m Recipe\n",
       "\u001b[3mModel:\u001b[23m nearest_neighbor()\n",
       "\n",
       "── Preprocessor ────────────────────────────────────────────────────────────────\n",
       "2 Recipe Steps\n",
       "\n",
       "● step_scale()\n",
       "● step_center()\n",
       "\n",
       "── Model ───────────────────────────────────────────────────────────────────────\n",
       "K-Nearest Neighbor Model Specification (regression)\n",
       "\n",
       "Main Arguments:\n",
       "  neighbors = tune()\n",
       "  weight_func = rectangular\n",
       "\n",
       "Computational engine: kknn \n"
      ]
     },
     "metadata": {},
     "output_type": "display_data"
    },
    {
     "name": "stderr",
     "output_type": "stream",
     "text": [
      "\u001b[31mx\u001b[39m \u001b[31mFold1: model 1/1 (predictions): Error: Problem with `mutate()` input `.row`.\n",
      "\u001b[...\u001b[39m\n",
      "\n",
      "\u001b[31mx\u001b[39m \u001b[31mFold5: model 1/1 (predictions): Error: Problem with `mutate()` input `.row`.\n",
      "\u001b[...\u001b[39m\n",
      "\n"
     ]
    },
    {
     "data": {
      "text/html": [
       "<table>\n",
       "<caption>A tibble: 400 × 7</caption>\n",
       "<thead>\n",
       "\t<tr><th scope=col>neighbors</th><th scope=col>.metric</th><th scope=col>.estimator</th><th scope=col>mean</th><th scope=col>n</th><th scope=col>std_err</th><th scope=col>.config</th></tr>\n",
       "\t<tr><th scope=col>&lt;int&gt;</th><th scope=col>&lt;chr&gt;</th><th scope=col>&lt;chr&gt;</th><th scope=col>&lt;dbl&gt;</th><th scope=col>&lt;int&gt;</th><th scope=col>&lt;dbl&gt;</th><th scope=col>&lt;chr&gt;</th></tr>\n",
       "</thead>\n",
       "<tbody>\n",
       "\t<tr><td>1</td><td>rmse</td><td>standard</td><td>4.2127464</td><td>3</td><td>0.18027845</td><td>Model001</td></tr>\n",
       "\t<tr><td>1</td><td>rsq </td><td>standard</td><td>0.0264256</td><td>3</td><td>0.01839504</td><td>Model001</td></tr>\n",
       "\t<tr><td>2</td><td>rmse</td><td>standard</td><td>3.7642177</td><td>3</td><td>0.13630995</td><td>Model002</td></tr>\n",
       "\t<tr><td>⋮</td><td>⋮</td><td>⋮</td><td>⋮</td><td>⋮</td><td>⋮</td><td>⋮</td></tr>\n",
       "\t<tr><td>199</td><td>rsq </td><td>standard</td><td>0.0357319</td><td>3</td><td>0.02365874</td><td>Model199</td></tr>\n",
       "\t<tr><td>200</td><td>rmse</td><td>standard</td><td>3.2045850</td><td>3</td><td>0.05082966</td><td>Model200</td></tr>\n",
       "\t<tr><td>200</td><td>rsq </td><td>standard</td><td>0.0347593</td><td>3</td><td>0.01850892</td><td>Model200</td></tr>\n",
       "</tbody>\n",
       "</table>\n"
      ],
      "text/latex": [
       "A tibble: 400 × 7\n",
       "\\begin{tabular}{lllllll}\n",
       " neighbors & .metric & .estimator & mean & n & std\\_err & .config\\\\\n",
       " <int> & <chr> & <chr> & <dbl> & <int> & <dbl> & <chr>\\\\\n",
       "\\hline\n",
       "\t 1 & rmse & standard & 4.2127464 & 3 & 0.18027845 & Model001\\\\\n",
       "\t 1 & rsq  & standard & 0.0264256 & 3 & 0.01839504 & Model001\\\\\n",
       "\t 2 & rmse & standard & 3.7642177 & 3 & 0.13630995 & Model002\\\\\n",
       "\t ⋮ & ⋮ & ⋮ & ⋮ & ⋮ & ⋮ & ⋮\\\\\n",
       "\t 199 & rsq  & standard & 0.0357319 & 3 & 0.02365874 & Model199\\\\\n",
       "\t 200 & rmse & standard & 3.2045850 & 3 & 0.05082966 & Model200\\\\\n",
       "\t 200 & rsq  & standard & 0.0347593 & 3 & 0.01850892 & Model200\\\\\n",
       "\\end{tabular}\n"
      ],
      "text/markdown": [
       "\n",
       "A tibble: 400 × 7\n",
       "\n",
       "| neighbors &lt;int&gt; | .metric &lt;chr&gt; | .estimator &lt;chr&gt; | mean &lt;dbl&gt; | n &lt;int&gt; | std_err &lt;dbl&gt; | .config &lt;chr&gt; |\n",
       "|---|---|---|---|---|---|---|\n",
       "| 1 | rmse | standard | 4.2127464 | 3 | 0.18027845 | Model001 |\n",
       "| 1 | rsq  | standard | 0.0264256 | 3 | 0.01839504 | Model001 |\n",
       "| 2 | rmse | standard | 3.7642177 | 3 | 0.13630995 | Model002 |\n",
       "| ⋮ | ⋮ | ⋮ | ⋮ | ⋮ | ⋮ | ⋮ |\n",
       "| 199 | rsq  | standard | 0.0357319 | 3 | 0.02365874 | Model199 |\n",
       "| 200 | rmse | standard | 3.2045850 | 3 | 0.05082966 | Model200 |\n",
       "| 200 | rsq  | standard | 0.0347593 | 3 | 0.01850892 | Model200 |\n",
       "\n"
      ],
      "text/plain": [
       "    neighbors .metric .estimator mean      n std_err    .config \n",
       "1   1         rmse    standard   4.2127464 3 0.18027845 Model001\n",
       "2   1         rsq     standard   0.0264256 3 0.01839504 Model001\n",
       "3   2         rmse    standard   3.7642177 3 0.13630995 Model002\n",
       "⋮   ⋮         ⋮       ⋮          ⋮         ⋮ ⋮          ⋮       \n",
       "398 199       rsq     standard   0.0357319 3 0.02365874 Model199\n",
       "399 200       rmse    standard   3.2045850 3 0.05082966 Model200\n",
       "400 200       rsq     standard   0.0347593 3 0.01850892 Model200"
      ]
     },
     "metadata": {},
     "output_type": "display_data"
    },
    {
     "data": {
      "text/html": [
       "<table>\n",
       "<caption>A tibble: 1 × 7</caption>\n",
       "<thead>\n",
       "\t<tr><th scope=col>neighbors</th><th scope=col>.metric</th><th scope=col>.estimator</th><th scope=col>mean</th><th scope=col>n</th><th scope=col>std_err</th><th scope=col>.config</th></tr>\n",
       "\t<tr><th scope=col>&lt;int&gt;</th><th scope=col>&lt;chr&gt;</th><th scope=col>&lt;chr&gt;</th><th scope=col>&lt;dbl&gt;</th><th scope=col>&lt;int&gt;</th><th scope=col>&lt;dbl&gt;</th><th scope=col>&lt;chr&gt;</th></tr>\n",
       "</thead>\n",
       "<tbody>\n",
       "\t<tr><td>23</td><td>rmse</td><td>standard</td><td>3.131536</td><td>3</td><td>0.08291609</td><td>Model023</td></tr>\n",
       "</tbody>\n",
       "</table>\n"
      ],
      "text/latex": [
       "A tibble: 1 × 7\n",
       "\\begin{tabular}{lllllll}\n",
       " neighbors & .metric & .estimator & mean & n & std\\_err & .config\\\\\n",
       " <int> & <chr> & <chr> & <dbl> & <int> & <dbl> & <chr>\\\\\n",
       "\\hline\n",
       "\t 23 & rmse & standard & 3.131536 & 3 & 0.08291609 & Model023\\\\\n",
       "\\end{tabular}\n"
      ],
      "text/markdown": [
       "\n",
       "A tibble: 1 × 7\n",
       "\n",
       "| neighbors &lt;int&gt; | .metric &lt;chr&gt; | .estimator &lt;chr&gt; | mean &lt;dbl&gt; | n &lt;int&gt; | std_err &lt;dbl&gt; | .config &lt;chr&gt; |\n",
       "|---|---|---|---|---|---|---|\n",
       "| 23 | rmse | standard | 3.131536 | 3 | 0.08291609 | Model023 |\n",
       "\n"
      ],
      "text/plain": [
       "  neighbors .metric .estimator mean     n std_err    .config \n",
       "1 23        rmse    standard   3.131536 3 0.08291609 Model023"
      ]
     },
     "metadata": {},
     "output_type": "display_data"
    }
   ],
   "source": [
    "#Finding best K in Hour of Day through training data\n",
    "#Recipe\n",
    "facebook_recipe <- recipe(`Post Month` ~ comment + share + like, data = facebook_train) %>%\n",
    "  step_scale(all_predictors()) %>%\n",
    "  step_center(all_predictors())\n",
    "\n",
    "#Model\n",
    "spec <- nearest_neighbor(weight_func = \"rectangular\", neighbors = tune()) %>%\n",
    "  set_engine(\"kknn\") %>%\n",
    "  set_mode(\"regression\")\n",
    "\n",
    "#Performing a 5 fold cross validation \n",
    "facebook_vfold <- vfold_cv(facebook_train, v = 5, strata = `Post Month`)\n",
    "\n",
    "#Workflow\n",
    "fb_workflow <- workflow() %>%\n",
    "              add_recipe(facebook_recipe) %>%\n",
    "              add_model(spec)\n",
    "fb_workflow\n",
    "#Testing 200 values of K in a tibble\n",
    "gridvals <- tibble(neighbors = seq(1:200))\n",
    "\n",
    "#(Tunes workflow to test all values of K, resamples cross-validation data set, collects the statistics from that model)\n",
    "fb_results <- fb_workflow %>%\n",
    "  tune_grid(resamples = facebook_vfold, grid = gridvals) %>%\n",
    "  collect_metrics()\n",
    "fb_results\n",
    "\n",
    "#Finding min amount of RMSPE\n",
    "facebook_min <- fb_results %>%\n",
    "                filter(.metric == \"rmse\") %>%\n",
    "                filter(mean == min(mean))\n",
    "facebook_min"
   ]
  },
  {
   "cell_type": "code",
   "execution_count": 17,
   "metadata": {},
   "outputs": [
    {
     "data": {
      "text/html": [
       "<table>\n",
       "<caption>A tibble: 3 × 3</caption>\n",
       "<thead>\n",
       "\t<tr><th scope=col>.metric</th><th scope=col>.estimator</th><th scope=col>.estimate</th></tr>\n",
       "\t<tr><th scope=col>&lt;chr&gt;</th><th scope=col>&lt;chr&gt;</th><th scope=col>&lt;dbl&gt;</th></tr>\n",
       "</thead>\n",
       "<tbody>\n",
       "\t<tr><td>rmse</td><td>standard</td><td>4.03681553</td></tr>\n",
       "\t<tr><td>rsq </td><td>standard</td><td>0.02806872</td></tr>\n",
       "\t<tr><td>mae </td><td>standard</td><td>3.67267586</td></tr>\n",
       "</tbody>\n",
       "</table>\n"
      ],
      "text/latex": [
       "A tibble: 3 × 3\n",
       "\\begin{tabular}{lll}\n",
       " .metric & .estimator & .estimate\\\\\n",
       " <chr> & <chr> & <dbl>\\\\\n",
       "\\hline\n",
       "\t rmse & standard & 4.03681553\\\\\n",
       "\t rsq  & standard & 0.02806872\\\\\n",
       "\t mae  & standard & 3.67267586\\\\\n",
       "\\end{tabular}\n"
      ],
      "text/markdown": [
       "\n",
       "A tibble: 3 × 3\n",
       "\n",
       "| .metric &lt;chr&gt; | .estimator &lt;chr&gt; | .estimate &lt;dbl&gt; |\n",
       "|---|---|---|\n",
       "| rmse | standard | 4.03681553 |\n",
       "| rsq  | standard | 0.02806872 |\n",
       "| mae  | standard | 3.67267586 |\n",
       "\n"
      ],
      "text/plain": [
       "  .metric .estimator .estimate \n",
       "1 rmse    standard   4.03681553\n",
       "2 rsq     standard   0.02806872\n",
       "3 mae     standard   3.67267586"
      ]
     },
     "metadata": {},
     "output_type": "display_data"
    }
   ],
   "source": [
    "k_min <- facebook_min %>%\n",
    "         pull(neighbors)\n",
    "\n",
    "facebook_best_spec <- nearest_neighbor(weight_func = \"rectangular\", neighbors = k_min) %>%\n",
    "         set_engine(\"kknn\") %>%\n",
    "         set_mode(\"regression\")\n",
    "\n",
    "fb_best_fit <- workflow() %>%\n",
    "         add_recipe(facebook_recipe) %>%\n",
    "         add_model(facebook_best_spec) %>%\n",
    "         fit(data = facebook_train)\n",
    "\n",
    "fb_summary <- fb_best_fit  %>%\n",
    "              predict(facebook_test) %>%\n",
    "              bind_cols(facebook_test) %>%\n",
    "             metrics(truth = `Post Hour`, estimate = .pred)\n",
    "fb_summary"
   ]
  },
  {
   "cell_type": "code",
   "execution_count": null,
   "metadata": {},
   "outputs": [],
   "source": []
  },
  {
   "cell_type": "code",
   "execution_count": 25,
   "metadata": {},
   "outputs": [
    {
     "name": "stderr",
     "output_type": "stream",
     "text": [
      "\u001b[31mx\u001b[39m \u001b[31mFold3: model 1/1 (predictions): Error: Problem with `mutate()` input `.row`.\n",
      "\u001b[...\u001b[39m\n",
      "\n",
      "\u001b[31mx\u001b[39m \u001b[31mFold4: model 1/1 (predictions): Error: Problem with `mutate()` input `.row`.\n",
      "\u001b[...\u001b[39m\n",
      "\n",
      "\u001b[31mx\u001b[39m \u001b[31mFold5: model 1/1 (predictions): Error: Problem with `mutate()` input `.row`.\n",
      "\u001b[...\u001b[39m\n",
      "\n"
     ]
    },
    {
     "data": {
      "text/html": [
       "<table>\n",
       "<caption>A tibble: 1 × 7</caption>\n",
       "<thead>\n",
       "\t<tr><th scope=col>neighbors</th><th scope=col>.metric</th><th scope=col>.estimator</th><th scope=col>mean</th><th scope=col>n</th><th scope=col>std_err</th><th scope=col>.config</th></tr>\n",
       "\t<tr><th scope=col>&lt;int&gt;</th><th scope=col>&lt;chr&gt;</th><th scope=col>&lt;chr&gt;</th><th scope=col>&lt;dbl&gt;</th><th scope=col>&lt;int&gt;</th><th scope=col>&lt;dbl&gt;</th><th scope=col>&lt;chr&gt;</th></tr>\n",
       "</thead>\n",
       "<tbody>\n",
       "\t<tr><td>137</td><td>rmse</td><td>standard</td><td>4.25447</td><td>2</td><td>0.03878898</td><td>Model137</td></tr>\n",
       "</tbody>\n",
       "</table>\n"
      ],
      "text/latex": [
       "A tibble: 1 × 7\n",
       "\\begin{tabular}{lllllll}\n",
       " neighbors & .metric & .estimator & mean & n & std\\_err & .config\\\\\n",
       " <int> & <chr> & <chr> & <dbl> & <int> & <dbl> & <chr>\\\\\n",
       "\\hline\n",
       "\t 137 & rmse & standard & 4.25447 & 2 & 0.03878898 & Model137\\\\\n",
       "\\end{tabular}\n"
      ],
      "text/markdown": [
       "\n",
       "A tibble: 1 × 7\n",
       "\n",
       "| neighbors &lt;int&gt; | .metric &lt;chr&gt; | .estimator &lt;chr&gt; | mean &lt;dbl&gt; | n &lt;int&gt; | std_err &lt;dbl&gt; | .config &lt;chr&gt; |\n",
       "|---|---|---|---|---|---|---|\n",
       "| 137 | rmse | standard | 4.25447 | 2 | 0.03878898 | Model137 |\n",
       "\n"
      ],
      "text/plain": [
       "  neighbors .metric .estimator mean    n std_err    .config \n",
       "1 137       rmse    standard   4.25447 2 0.03878898 Model137"
      ]
     },
     "metadata": {},
     "output_type": "display_data"
    },
    {
     "ename": "ERROR",
     "evalue": "Error: Can't recycle `..1` (size 122) to match `..2` (size 123).\n",
     "output_type": "error",
     "traceback": [
      "Error: Can't recycle `..1` (size 122) to match `..2` (size 123).\nTraceback:\n",
      "1. facebook_best_fit_2 %>% predict(facebook_test_2) %>% bind_cols(facebook_test_2) %>% \n .     metrics(truth = `Post Hour`, estimate = .pred)",
      "2. withVisible(eval(quote(`_fseq`(`_lhs`)), env, env))",
      "3. eval(quote(`_fseq`(`_lhs`)), env, env)",
      "4. eval(quote(`_fseq`(`_lhs`)), env, env)",
      "5. `_fseq`(`_lhs`)",
      "6. freduce(value, `_function_list`)",
      "7. function_list[[i]](value)",
      "8. bind_cols(., facebook_test_2)",
      "9. vec_cbind(!!!dots, .name_repair = .name_repair)",
      "10. stop_incompatible_size(x = .Primitive(\"quote\")(structure(list(\n  .     .pred = c(7.61313868613139, 8.1970802919708, 7.61313868613139, \n  .     7.24087591240876, 8, 8.16058394160584, 7.5036496350365, 8.24087591240876, \n  .     7.52554744525547, 7.81021897810219, 7.82481751824818, 7.47445255474453, \n  .     7.81021897810219, 7.58394160583942, 8.27737226277372, 7.56204379562044, \n  .     7.64233576642336, 7.86861313868613, 7.8029197080292, 7.83211678832117, \n  .     7.62773722627737, 7.63503649635036, 7.62043795620438, 7.4963503649635, \n  .     8.16058394160584, 7.53284671532847, 8.13868613138686, 7.72992700729927, \n  .     8.16058394160584, 7.32846715328467, 7.97810218978102, 7.5036496350365, \n  .     7.56934306569343, 7.86131386861314, 8.1021897810219, 7.85401459854015, \n  .     7.44525547445255, 7.75182481751825, 7.62043795620438, 7.96350364963504, \n  .     8.1021897810219, 7.7956204379562, 7.76642335766423, 8.18248175182482, \n  .     7.93430656934307, 7.16788321167883, 8.09489051094891, 8.16058394160584, \n  .     7.32116788321168, 7.35036496350365, 7.67153284671533, 7.97080291970803, \n  .     7.91970802919708, 7.64963503649635, 7.62043795620438, 7.92700729927007, \n  .     7.27737226277372, 7.67153284671533, 7.46715328467153, 7.55474452554745, \n  .     7.5985401459854, 7.62043795620438, 7.47445255474453, 7.43795620437956, \n  .     7.60583941605839, 7.75182481751825, 7.57664233576642, 7.72992700729927, \n  .     7.82481751824818, 7.51094890510949, 8.15328467153285, 7.86131386861314, \n  .     7.93430656934307, 7.81751824817518, 8.16058394160584, 7.36496350364964, \n  .     7.21897810218978, 7.46715328467153, 8.11678832116788, 8.13138686131387, \n  .     7.51094890510949, 7.74452554744526, 7.84671532846715, 8, \n  .     8.05839416058394, 7.78102189781022, 7.40875912408759, 7.67153284671533, \n  .     7.65693430656934, 7.66423357664234, 7.87591240875912, 8.06569343065693, \n  .     7.4963503649635, 7.32116788321168, 7.66423357664234, 7.71532846715328, \n  .     7.5036496350365, 8.02189781021898, 8.16058394160584, 7.48175182481752, \n  .     8.06569343065693, 8.16058394160584, 8.16058394160584, 8.16058394160584, \n  .     7.98540145985401, 7.56204379562044, 7.45255474452555, 7.48905109489051, \n  .     7.44525547445255, 7.43795620437956, 7.5985401459854, 7.76642335766423, \n  .     7.63503649635036, 7.51824817518248, 7.89051094890511, 8.10948905109489, \n  .     7.61313868613139, 8.08759124087591, 7.44525547445255, 7.47445255474453, \n  .     7.4963503649635, 7.83941605839416)), row.names = c(NA, -122L\n  . ), class = c(\"tbl_df\", \"tbl\", \"data.frame\"))), y = .Primitive(\"quote\")(structure(list(\n  .     `Page total likes` = c(139441, 138414, 138414, 138414, 138414, \n  .     138414, 138458, 138895, 138895, 138895, 138895, 138895, 138895, \n  .     138353, 138329, 138329, 138329, 138185, 138185, 137893, 137177, \n  .     137059, 137059, 137020, 137020, 137020, 136736, 136736, 136642, \n  .     136393, 136013, 136013, 136013, 135713, 135700, 135617, 135428, \n  .     135428, 135428, 135195, 135195, 135195, 135195, 134879, 134879, \n  .     133679, 133594, 133594, 133451, 132817, 132817, 132201, 131956, \n  .     131956, 131808, 131728, 131728, 131630, 131300, 131300, 130791, \n  .     130791, 130791, 130791, 129600, 129600, 129600, 129600, 129600, \n  .     128032, 126424, 126424, 126424, 126141, 126141, 125612, 125612, \n  .     125612, 124940, 124940, 123047, 123047, 123047, 121540, 120050, \n  .     117764, 116091, 116091, 115368, 111620, 111620, 109670, 109670, \n  .     107907, 107907, 106928, 106928, 104070, 104070, 104070, 102112, \n  .     102112, 100732, 100732, 100732, 100732, 98195, 96749, 93470, \n  .     93363, 93256, 92614, 92507, 92400, 92293, 91758, 91651, 91330, \n  .     86909, 86909, 86491, 85979, 85979), Type = c(\"Status\", \"Photo\", \n  .     \"Photo\", \"Status\", \"Photo\", \"Photo\", \"Status\", \"Photo\", \"Photo\", \n  .     \"Photo\", \"Photo\", \"Photo\", \"Status\", \"Link\", \"Photo\", \"Photo\", \n  .     \"Photo\", \"Photo\", \"Photo\", \"Photo\", \"Link\", \"Photo\", \"Photo\", \n  .     \"Photo\", \"Photo\", \"Photo\", \"Status\", \"Status\", \"Photo\", \"Link\", \n  .     \"Photo\", \"Photo\", \"Photo\", \"Photo\", \"Photo\", \"Status\", \"Photo\", \n  .     \"Photo\", \"Photo\", \"Photo\", \"Photo\", \"Photo\", \"Photo\", \"Photo\", \n  .     \"Photo\", \"Photo\", \"Photo\", \"Photo\", \"Photo\", \"Status\", \"Photo\", \n  .     \"Photo\", \"Status\", \"Photo\", \"Status\", \"Photo\", \"Photo\", \"Photo\", \n  .     \"Photo\", \"Photo\", \"Status\", \"Video\", \"Photo\", \"Photo\", \"Photo\", \n  .     \"Photo\", \"Photo\", \"Photo\", \"Photo\", \"Photo\", \"Photo\", \"Photo\", \n  .     \"Video\", \"Photo\", \"Photo\", \"Photo\", \"Photo\", \"Photo\", \"Photo\", \n  .     \"Photo\", \"Photo\", \"Photo\", \"Photo\", \"Photo\", \"Photo\", \"Photo\", \n  .     \"Photo\", \"Photo\", \"Photo\", \"Photo\", \"Photo\", \"Photo\", \"Photo\", \n  .     \"Photo\", \"Photo\", \"Photo\", \"Photo\", \"Photo\", \"Photo\", \"Photo\", \n  .     \"Photo\", \"Photo\", \"Photo\", \"Photo\", \"Photo\", \"Photo\", \"Photo\", \n  .     \"Photo\", \"Photo\", \"Photo\", \"Photo\", \"Photo\", \"Photo\", \"Photo\", \n  .     \"Photo\", \"Photo\", \"Photo\", \"Photo\", \"Link\", \"Photo\", \"Photo\", \n  .     \"Photo\", \"Photo\"), Category = c(2, 2, 3, 3, 3, 1, 2, 2, 2, \n  .     3, 2, 3, 2, 1, 1, 1, 1, 1, 1, 1, 1, 2, 2, 1, 1, 1, 2, 2, \n  .     1, 1, 1, 3, 3, 1, 2, 2, 1, 2, 1, 3, 1, 2, 2, 3, 2, 3, 2, \n  .     2, 1, 2, 3, 1, 2, 3, 2, 3, 1, 3, 2, 1, 2, 1, 2, 2, 2, 1, \n  .     3, 1, 3, 2, 3, 3, 1, 1, 1, 1, 1, 2, 3, 1, 1, 3, 3, 3, 3, \n  .     3, 3, 3, 3, 3, 1, 3, 1, 3, 3, 2, 1, 1, 1, 1, 1, 1, 1, 1, \n  .     1, 1, 3, 1, 1, 1, 3, 2, 3, 1, 3, 2, 1, 3, 1, 3, 3, 3, 3), \n  .     `Post Month` = c(12, 12, 12, 12, 12, 12, 12, 12, 12, 12, \n  .     12, 12, 12, 12, 11, 11, 11, 11, 11, 11, 11, 11, 10, 10, 10, \n  .     10, 10, 10, 10, 10, 10, 10, 10, 10, 9, 9, 9, 9, 9, 9, 9, \n  .     9, 9, 9, 9, 8, 8, 8, 8, 8, 8, 8, 8, 8, 8, 7, 7, 7, 7, 7, \n  .     7, 7, 7, 7, 7, 7, 7, 7, 7, 7, 7, 7, 6, 6, 6, 6, 6, 6, 6, \n  .     6, 6, 6, 6, 6, 5, 5, 5, 5, 4, 4, 4, 4, 4, 4, 4, 4, 4, 3, \n  .     3, 3, 3, 3, 3, 3, 3, 3, 3, 3, 2, 2, 2, 2, 2, 2, 2, 2, 2, \n  .     2, 1, 1, 1, 1, 1), `Post Weekday` = c(7, 4, 3, 2, 1, 7, 5, \n  .     4, 3, 3, 1, 1, 6, 3, 1, 4, 4, 3, 2, 4, 4, 7, 5, 4, 4, 2, \n  .     1, 7, 7, 5, 5, 2, 1, 6, 2, 6, 5, 5, 3, 2, 1, 7, 5, 3, 7, \n  .     1, 7, 5, 4, 3, 2, 1, 2, 7, 7, 5, 4, 2, 6, 6, 4, 3, 3, 2, \n  .     1, 7, 6, 3, 2, 7, 4, 3, 2, 6, 4, 4, 2, 7, 2, 6, 3, 2, 1, \n  .     1, 4, 4, 7, 6, 2, 2, 2, 5, 4, 6, 7, 5, 4, 4, 4, 3, 2, 2, \n  .     7, 7, 7, 6, 4, 7, 5, 5, 4, 2, 1, 1, 7, 5, 4, 3, 6, 5, 2, \n  .     7, 6), `Post Hour` = c(3, 5, 3, 3, 11, 10, 11, 2, 10, 3, \n  .     11, 3, 11, 2, 3, 10, 3, 2, 3, 2, 3, 4, 11, 10, 9, 11, 4, \n  .     3, 11, 10, 8, 10, 3, 4, 11, 4, 10, 3, 10, 9, 4, 3, 2, 2, \n  .     10, 10, 10, 13, 9, 2, 3, 3, 12, 10, 4, 8, 10, 23, 10, 2, \n  .     6, 11, 5, 8, 12, 6, 5, 13, 13, 11, 12, 4, 13, 12, 22, 7, \n  .     13, 11, 3, 12, 11, 5, 10, 3, 4, 4, 2, 3, 13, 13, 6, 7, 3, \n  .     3, 10, 3, 3, 14, 7, 10, 12, 3, 18, 15, 15, 17, 13, 10, 12, \n  .     6, 12, 3, 13, 4, 13, 3, 12, 3, 4, 13, 7, 2, 3), Paid = c(0, \n  .     1, 0, 0, 0, 0, 0, 0, 0, 0, 0, 0, 0, 0, 1, 0, 1, 1, 1, 1, \n  .     0, 0, 0, 0, 1, 1, 0, 0, 0, 0, 0, 1, 0, 0, 0, 0, 0, 1, 0, \n  .     0, 0, 0, 0, 1, 0, 0, 1, 0, 1, 1, 0, 0, 0, 0, 0, 1, 1, 0, \n  .     0, 0, 0, 1, 1, 0, 0, 1, 0, 1, 0, 1, 0, 1, 0, 0, 1, 0, 0, \n  .     0, 0, 1, 0, 1, 0, 0, 1, 0, 0, 0, 0, 1, 1, 1, 0, 1, 0, 0, \n  .     1, 1, 0, 0, 0, 0, 0, 0, 0, 0, 0, 1, 0, 0, 0, 1, 0, 0, 1, \n  .     1, 0, 0, 0, 0, 0, 0, 1), `Lifetime Post Total Reach` = c(11844, \n  .     22784, 1722, 3930, 1591, 1384, 19552, 4940, 1683, 5280, 4512, \n  .     2690, 13280, 1925, 25248, 2257, 27072, 50912, 27216, 11444, \n  .     21176, 2626, 2819, 12776, 1357, 2645, 9504, 13872, 729, 4664, \n  .     1080, 16776, 18120, 39984, 3756, 11096, 1060, 2790, 41984, \n  .     4480, 4484, 4398, 4518, 4260, 1804, 19648, 3934, 1920, 1954, \n  .     9236, 3358, 50640, 14424, 4324, 8260, 3414, 95424, 2822, \n  .     3594, 3384, 17360, 21872, 180480, 2881, 3460, 5848, 5292, \n  .     40336, 4666, 3528, 5458, 2316, 139008, 28112, 20560, 1729, \n  .     3600, 3558, 3754, 52736, 13544, 3662, 56672, 3110, 4032, \n  .     5016, 6984, 3332, 6692, 7492, 44288, 5298, 35008, 3286, 4390, \n  .     5560, 5290, 6030, 49632, 1874, 4068, 3272, 391, 5132, 3772, \n  .     11420, 34480, 7220, 6416, 5786, 5878, 5290, 55520, 5880, \n  .     10040, 15880, 15288, 7732, 39600, 5536, 5040, 4800, 6184), \n  .     `Lifetime Post Total Impressions` = c(22538, 39941, 2981, \n  .     7509, 2825, 2467, 34143, 9390, 2929, 9578, 7808, 4628, 24198, \n  .     3481, 40125, 4372, 84885, 164528, 81908, 46054, 54779, 4943, \n  .     5230, 21893, 2453, 5472, 19556, 27468, 1374, 9463, 2427, \n  .     39549, 44940, 112830, 7094, 21080, 2004, 4879, 68290, 8039, \n  .     7829, 8105, 8533, 7989, 2968, 33643, 6330, 3124, 3530, 16054, \n  .     5682, 121234, 26000, 7241, 14305, 6369, 252207, 5058, 6316, \n  .     6166, 33613, 40413, 319133, 5188, 6503, 9068, 9321, 65309, \n  .     8360, 5918, 9098, 3611, 277100, 47721, 24112, 3289, 5807, \n  .     5396, 6295, 73584, 18474, 6476, 104966, 5405, 7278, 8745, \n  .     12066, 5797, 11859, 12414, 60918, 8875, 45508, 6276, 7004, \n  .     9301, 8132, 9579, 1110282, 2474, 7333, 6079, 746, 9067, 6971, \n  .     23855, 191207, 12735, 11459, 10634, 10508, 9100, 665792, \n  .     10115, 17029, 51571, 31467, 13264, 7927, 8745, 8367, 7754, \n  .     10228), `Lifetime Engaged Users` = c(1530, 887, 163, 130, \n  .     121, 15, 2806, 385, 192, 368, 423, 252, 2055, 97, 726, 230, \n  .     421, 630, 541, 555, 330, 316, 318, 785, 37, 357, 1132, 2664, \n  .     303, 204, 210, 714, 421, 2105, 469, 1843, 266, 435, 3370, \n  .     572, 545, 584, 626, 588, 330, 1359, 512, 365, 356, 1151, \n  .     394, 2240, 304, 548, 997, 473, 699, 424, 424, 451, 2573, \n  .     3872, 8072, 550, 541, 622, 756, 1407, 729, 550, 1007, 722, \n  .     1779, 1631, 936, 596, 691, 621, 791, 1635, 759, 560, 2579, \n  .     732, 684, 679, 780, 463, 905, 838, 1215, 657, 621, 504, 484, \n  .     642, 612, 735, 1653, 25, 538, 463, 131, 398, 144, 1411, 1591, \n  .     2348, 1362, 1237, 1132, 1053, 4544, 1291, 1429, 1188, 1573, \n  .     1066, 572, 1141, 1062, 975, 956), `Lifetime Post Consumers` = c(1407, \n  .     337, 123, 86, 88, 15, 2531, 306, 171, 237, 284, 168, 1912, \n  .     83, 467, 173, 304, 513, 335, 418, 228, 213, 218, 539, 37, \n  .     315, 1032, 2570, 298, 182, 189, 440, 282, 1921, 408, 1724, \n  .     251, 360, 2420, 430, 424, 446, 482, 435, 280, 695, 437, 331, \n  .     333, 1130, 323, 1577, 286, 431, 953, 342, 575, 351, 354, \n  .     395, 2448, 3822, 4010, 503, 482, 570, 646, 1330, 648, 513, \n  .     933, 716, 1643, 1537, 860, 591, 656, 568, 730, 1622, 733, \n  .     522, 1334, 712, 607, 569, 631, 406, 742, 713, 1105, 575, \n  .     597, 458, 453, 586, 570, 659, 1480, 25, 513, 446, 130, 398, \n  .     144, 1342, 1156, 2300, 1313, 1218, 1087, 994, 3586, 1264, \n  .     1346, 1071, 1401, 1002, 496, 1099, 1023, 938, 901), `Lifetime Post Consumptions` = c(1692, \n  .     417, 148, 112, 111, 20, 3420, 501, 221, 345, 431, 226, 2720, \n  .     126, 863, 327, 487, 952, 540, 717, 329, 299, 303, 881, 55, \n  .     482, 1512, 3395, 331, 251, 249, 720, 463, 3932, 613, 2106, \n  .     337, 513, 4074, 599, 629, 669, 729, 622, 352, 990, 599, 428, \n  .     443, 1560, 523, 2779, 383, 676, 1211, 525, 882, 486, 530, \n  .     561, 6017, 7327, 6242, 730, 667, 795, 1033, 2251, 1014, 787, \n  .     1181, 862, 2356, 2438, 1126, 735, 913, 775, 1072, 2824, 1082, \n  .     677, 1850, 892, 848, 966, 1116, 552, 1165, 1274, 1746, 874, \n  .     768, 633, 602, 984, 857, 1448, 2567, 31, 934, 653, 766, 1690, \n  .     1033, 8049, 1926, 3311, 1652, 1526, 1380, 1326, 6624, 1878, \n  .     2022, 1410, 2110, 1336, 581, 1461, 1348, 1278, 1140), `Lifetime Post Impressions by people who have liked your Page` = c(15220, \n  .     34415, 1868, 5009, 2116, 2196, 17748, 5860, 1585, 4480, 5183, \n  .     3052, 17627, 2307, 16132, 3188, 35637, 54653, 26869, 13737, \n  .     13858, 3047, 3128, 13272, 2154, 4485, 16018, 20198, 1284, \n  .     7196, 2195, 11860, 4401, 70249, 4935, 16095, 1705, 3501, \n  .     34802, 5014, 4208, 4799, 4215, 4578, 2293, 24034, 5010, 2541, \n  .     3295, 14014, 4200, 92348, 25539, 4972, 12905, 4518, 78287, \n  .     3681, 4319, 4708, 23338, 24667, 108752, 3840, 4371, 6651, \n  .     5867, 27771, 5010, 4606, 5307, 2545, 107502, 41207, 5648, \n  .     2888, 3351, 3708, 4343, 18580, 7326, 4930, 78678, 4605, 4935, \n  .     5904, 8188, 4347, 8391, 8452, 22130, 5640, 8149, 4010, 4607, \n  .     6600, 6032, 6956, 1107833, 1483, 5914, 5079, 723, 9065, 6932, \n  .     16634, 184270, 9837, 9122, 9103, 8471, 6285, 648611, 8536, \n  .     11744, 47976, 28247, 8753, 12522, 5225, 5485, 4932, 6085), \n  .     `Lifetime Post reach by people who like your Page` = c(7912, \n  .     19312, 1050, 2410, 1161, 1172, 9824, 2930, 858, 2422, 2954, \n  .     1727, 9344, 1180, 8608, 1557, 9712, 12704, 7760, 4320, 5248, \n  .     1605, 1622, 7800, 1120, 2101, 7616, 10432, 650, 3324, 934, \n  .     6200, 2616, 21328, 2556, 8120, 870, 1999, 20928, 2704, 2412, \n  .     2616, 2254, 2432, 1354, 13528, 3082, 1519, 1772, 7880, 2426, \n  .     34880, 14056, 3008, 7360, 2390, 22016, 2020, 2468, 2508, \n  .     11800, 12920, 51456, 2040, 2260, 4212, 3404, 14848, 2818, \n  .     2660, 3204, 1529, 38720, 23440, 3856, 1406, 2110, 2392, 2590, \n  .     10144, 4120, 2660, 37408, 2540, 2644, 3322, 4776, 2330, 4692, \n  .     5024, 14224, 3206, 4864, 2162, 2862, 3916, 3794, 4418, 48368, \n  .     1062, 3198, 2644, 380, 5132, 3758, 8032, 30720, 5296, 4716, \n  .     4764, 4528, 3578, 47488, 4884, 6964, 13560, 13312, 4880, \n  .     8176, 3098, 3068, 2820, 3502), `Lifetime People who have liked your Page and engaged with your post` = c(1250, \n  .     684, 123, 101, 100, 15, 1779, 273, 131, 268, 316, 199, 1716, \n  .     77, 451, 168, 263, 346, 315, 438, 185, 244, 240, 575, 32, \n  .     265, 981, 2252, 262, 173, 184, 590, 327, 1609, 365, 1604, \n  .     204, 351, 2126, 416, 382, 431, 439, 436, 234, 1020, 384, \n  .     251, 252, 1075, 298, 1790, 291, 401, 956, 360, 417, 327, \n  .     309, 344, 1905, 2218, 3316, 323, 314, 383, 516, 907, 459, \n  .     360, 537, 372, 1008, 1225, 460, 340, 436, 403, 482, 876, \n  .     408, 319, 1831, 342, 432, 488, 570, 341, 737, 670, 814, 471, \n  .     389, 376, 347, 463, 454, 572, 1513, 15, 402, 357, 93, 393, \n  .     140, 865, 1292, 642, 497, 483, 446, 441, 3430, 706, 742, \n  .     677, 1052, 570, 167, 483, 437, 432, 437), comment = c(0, \n  .     2, 2, 4, 0, 0, 10, 33, 1, 2, 6, 0, 7, 6, 24, 3, 4, 8, 4, \n  .     14, 2, 2, 1, 12, 0, 4, 17, 4, 0, 0, 4, 10, 0, 24, 16, 4, \n  .     0, 0, 144, 3, 6, 5, 7, 1, 0, 9, 3, 1, 0, 2, 2, 4, 41, 6, \n  .     1, 3, 6, 2, 4, 2, 9, 18, 372, 0, 0, 4, 6, 4, 9, 0, 1, 0, \n  .     23, 11, 14, 0, 0, 0, 8, 0, 0, 2, 20, 2, 7, 6, 25, 0, 4, 8, \n  .     2, 5, 0, 1, 1, 7, 1, 3, 7, 0, 0, 0, 0, 0, 0, 12, 10, 6, 0, \n  .     4, 3, 2, 146, 5, 19, 1, 5, 7, 1, 1, 2, 1, 1), like = c(161, \n  .     577, 40, 54, 34, 0, 412, 107, 27, 155, 172, 96, 216, 18, \n  .     285, 76, 139, 144, 219, 172, 130, 124, 115, 328, 0, 59, 193, \n  .     217, 7, 32, 32, 377, 189, 302, 117, 243, 18, 113, 1622, 188, \n  .     179, 204, 250, 226, 61, 766, 113, 52, 30, 53, 114, 859, 15, \n  .     179, 74, 188, 109, 113, 112, 101, 484, 315, 5172, 73, 96, \n  .     71, 226, 104, 152, 66, 143, 25, 204, 129, 102, 23, 72, 78, \n  .     107, 24, 36, 67, 1372, 33, 139, 212, 256, 87, 304, 236, 152, \n  .     140, 48, 87, 63, 142, 89, 176, 227, 0, 61, 32, 6, 2, 3, 211, \n  .     664, 88, 96, 49, 98, 129, 1546, 79, 214, 200, 264, 160, 101, \n  .     74, 82, 74, 105), share = c(31, 20, 12, 17, 8, 0, 72, 22, \n  .     11, 47, 21, 17, 39, 8, 28, 11, 17, 10, 22, 47, 31, 22, 26, \n  .     90, 0, 9, 28, 50, 0, 16, 3, 60, 15, 41, 30, 41, NA, 19, 208, \n  .     26, 40, 34, 42, 44, 6, 43, 17, 7, 2, 15, 16, 68, 1, 27, 11, \n  .     26, 11, 20, 23, 25, 79, 76, 790, 15, 19, 10, 42, 10, 41, \n  .     9, 27, 5, 44, 12, 9, 2, 21, 16, 20, 4, 5, 14, 47, 10, 34, \n  .     36, 54, 18, 47, 51, 11, 38, 8, 27, 26, 24, 14, 29, 15, 0, \n  .     13, 7, 1, 0, 0, 14, 97, 24, 29, 15, 27, 32, 181, 11, 78, \n  .     37, 36, 57, 5, 31, 24, 28, 46), `Total Interactions` = c(192, \n  .     599, 54, 75, 42, 0, 494, 162, 39, 204, 199, 113, 262, 32, \n  .     337, 90, 160, 162, 245, 233, 163, 148, 142, 430, 0, 72, 238, \n  .     271, 7, 48, 39, 447, 204, 367, 163, 288, 18, 132, 1974, 217, \n  .     225, 243, 299, 271, 67, 818, 133, 60, 32, 70, 132, 931, 57, \n  .     212, 86, 217, 126, 135, 139, 128, 572, 409, 6334, 88, 115, \n  .     85, 274, 118, 202, 75, 171, 30, 271, 152, 125, 25, 93, 94, \n  .     135, 28, 41, 83, 1439, 45, 180, 254, 335, 105, 355, 295, \n  .     165, 183, 56, 115, 90, 173, 104, 208, 249, 0, 74, 39, 7, \n  .     2, 3, 237, 771, 118, 125, 68, 128, 163, 1873, 95, 311, 238, \n  .     305, 224, 107, 106, 108, 103, 152)), row.names = c(NA, -123L\n  . ), class = c(\"tbl_df\", \"tbl\", \"data.frame\"))), x_size = 122L, \n  .     y_size = 123L, x_arg = \"..1\", y_arg = \"..2\")",
      "11. stop_incompatible(x, y, x_size = x_size, y_size = y_size, ..., \n  .     x_arg = x_arg, y_arg = y_arg, details = details, message = message, \n  .     class = c(class, \"vctrs_error_incompatible_size\"))",
      "12. stop_vctrs(message, class = c(class, \"vctrs_error_incompatible\"), \n  .     x = x, y = y, details = details, ...)",
      "13. abort(message, class = c(class, \"vctrs_error\"), ...)",
      "14. signal_abort(cnd)"
     ]
    }
   ],
   "source": [
    "#Splitting into training and testing data\n",
    "#Split into training (75 percent of data set) and test data\n",
    "facebook_split_2 <- initial_split(facebook, prop = 0.75, strata = `Post Hour`)\n",
    "facebook_train_2 <- training(facebook_split_2)\n",
    "facebook_test_2 <- testing(facebook_split_2)\n",
    "\n",
    "#Recipe for Post Hour\n",
    "facebook_recipe_2 <- recipe(`Post Hour` ~ comment + share + like, data = facebook_train_2) %>%\n",
    "                   step_scale(all_predictors()) %>%\n",
    "                   step_center(all_predictors())\n",
    "#Model\n",
    "facebook_spec_2 <- nearest_neighbor(weight_func = \"rectangular\", neighbors = tune()) %>%\n",
    "                 set_engine(\"kknn\") %>%\n",
    "                 set_mode(\"regression\")\n",
    "\n",
    "#5 fold cross validation\n",
    "facebook_vfold_2 <- vfold_cv(facebook_train_2, v = 5, strata = `Post Hour`)\n",
    "\n",
    "#workflow\n",
    "facebook_workflow_2 <- workflow() %>%\n",
    "                     add_recipe(facebook_recipe_2) %>%\n",
    "                     add_model(facebook_spec_2)\n",
    "\n",
    "#testing 200 values to find the best value for K\n",
    "gridvals_2 <- tibble(neighbors = seq(1, 200))\n",
    "\n",
    "#Tuning workflow to test the values of K\n",
    "facebook_results_2 <- facebook_workflow_2 %>%\n",
    "                        tune_grid(resamples = facebook_vfold_2, grid = gridvals_2) %>%\n",
    "                        collect_metrics()\n",
    "#Min amount of RMSPE along with mean and standard error to find the best K value to use\n",
    "facebook_min_2 <- facebook_results_2 %>%\n",
    "    filter(.metric == \"rmse\") %>%\n",
    "    arrange(mean)  %>% \n",
    "    slice(1)\n",
    "\n",
    "facebook_min_2\n",
    "\n",
    "#Min RMSPE\n",
    "k_min_2 <- facebook_min_2 %>%\n",
    "            pull(neighbors)\n",
    "\n",
    "#Using the best K in our model\n",
    "facebook_best_spec_2 <- nearest_neighbor(weight_func = \"rectangular\", neighbors = k_min_2) %>%\n",
    "                            set_engine(\"kknn\") %>%\n",
    "                            set_mode(\"regression\")\n",
    "\n",
    "#Reworking the workflow to incorporate our chosen K\n",
    "facebook_best_fit_2 <- workflow() %>%\n",
    "                        add_recipe(facebook_recipe_2) %>%\n",
    "                        add_model(facebook_best_spec_2) %>%\n",
    "                        fit(data = facebook_train_2)\n",
    "\n",
    "#Summary of the training vs testing data\n",
    "facebook_summary_2 <- facebook_best_fit_2 %>% \n",
    "                       predict(facebook_test_2) %>%\n",
    "                       bind_cols(facebook_test_2) %>%\n",
    "                       metrics(truth = `Post Hour`, estimate = .pred) \n",
    "\n",
    "facebook_summary_2"
   ]
  },
  {
   "cell_type": "code",
   "execution_count": null,
   "metadata": {},
   "outputs": [],
   "source": []
  }
 ],
 "metadata": {
  "kernelspec": {
   "display_name": "R",
   "language": "R",
   "name": "ir"
  },
  "language_info": {
   "codemirror_mode": "r",
   "file_extension": ".r",
   "mimetype": "text/x-r-source",
   "name": "R",
   "pygments_lexer": "r",
   "version": "4.0.0"
  }
 },
 "nbformat": 4,
 "nbformat_minor": 4
}
