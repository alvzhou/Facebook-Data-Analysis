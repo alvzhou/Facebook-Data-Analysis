{
 "cells": [
  {
   "cell_type": "code",
   "execution_count": 12,
   "metadata": {},
   "outputs": [],
   "source": [
    "library(tidyverse)\n",
    "library(repr)\n",
    "library(tidymodels)\n",
    "library(cowplot)\n",
    "options(repr.matrix.max.rows = 6)"
   ]
  },
  {
   "cell_type": "code",
   "execution_count": 13,
   "metadata": {},
   "outputs": [
    {
     "name": "stderr",
     "output_type": "stream",
     "text": [
      "Using ',' as decimal and '.' as grouping mark. Use read_delim() for more control.\n",
      "\n",
      "Parsed with column specification:\n",
      "cols(\n",
      "  `Page total likes` = \u001b[32mcol_double()\u001b[39m,\n",
      "  Type = \u001b[31mcol_character()\u001b[39m,\n",
      "  Category = \u001b[32mcol_double()\u001b[39m,\n",
      "  `Post Month` = \u001b[32mcol_double()\u001b[39m,\n",
      "  `Post Weekday` = \u001b[32mcol_double()\u001b[39m,\n",
      "  `Post Hour` = \u001b[32mcol_double()\u001b[39m,\n",
      "  Paid = \u001b[32mcol_double()\u001b[39m,\n",
      "  `Lifetime Post Total Reach` = \u001b[32mcol_double()\u001b[39m,\n",
      "  `Lifetime Post Total Impressions` = \u001b[32mcol_double()\u001b[39m,\n",
      "  `Lifetime Engaged Users` = \u001b[32mcol_double()\u001b[39m,\n",
      "  `Lifetime Post Consumers` = \u001b[32mcol_double()\u001b[39m,\n",
      "  `Lifetime Post Consumptions` = \u001b[32mcol_double()\u001b[39m,\n",
      "  `Lifetime Post Impressions by people who have liked your Page` = \u001b[32mcol_double()\u001b[39m,\n",
      "  `Lifetime Post reach by people who like your Page` = \u001b[32mcol_double()\u001b[39m,\n",
      "  `Lifetime People who have liked your Page and engaged with your post` = \u001b[32mcol_double()\u001b[39m,\n",
      "  comment = \u001b[32mcol_double()\u001b[39m,\n",
      "  like = \u001b[32mcol_double()\u001b[39m,\n",
      "  share = \u001b[32mcol_double()\u001b[39m,\n",
      "  `Total Interactions` = \u001b[32mcol_double()\u001b[39m\n",
      ")\n",
      "\n"
     ]
    },
    {
     "data": {
      "text/html": [
       "<table>\n",
       "<caption>A tibble: 6 × 19</caption>\n",
       "<thead>\n",
       "\t<tr><th scope=col>Page total likes</th><th scope=col>Type</th><th scope=col>Category</th><th scope=col>Post Month</th><th scope=col>Post Weekday</th><th scope=col>Post Hour</th><th scope=col>Paid</th><th scope=col>Lifetime Post Total Reach</th><th scope=col>Lifetime Post Total Impressions</th><th scope=col>Lifetime Engaged Users</th><th scope=col>Lifetime Post Consumers</th><th scope=col>Lifetime Post Consumptions</th><th scope=col>Lifetime Post Impressions by people who have liked your Page</th><th scope=col>Lifetime Post reach by people who like your Page</th><th scope=col>Lifetime People who have liked your Page and engaged with your post</th><th scope=col>comment</th><th scope=col>like</th><th scope=col>share</th><th scope=col>Total Interactions</th></tr>\n",
       "\t<tr><th scope=col>&lt;dbl&gt;</th><th scope=col>&lt;chr&gt;</th><th scope=col>&lt;dbl&gt;</th><th scope=col>&lt;dbl&gt;</th><th scope=col>&lt;dbl&gt;</th><th scope=col>&lt;dbl&gt;</th><th scope=col>&lt;dbl&gt;</th><th scope=col>&lt;dbl&gt;</th><th scope=col>&lt;dbl&gt;</th><th scope=col>&lt;dbl&gt;</th><th scope=col>&lt;dbl&gt;</th><th scope=col>&lt;dbl&gt;</th><th scope=col>&lt;dbl&gt;</th><th scope=col>&lt;dbl&gt;</th><th scope=col>&lt;dbl&gt;</th><th scope=col>&lt;dbl&gt;</th><th scope=col>&lt;dbl&gt;</th><th scope=col>&lt;dbl&gt;</th><th scope=col>&lt;dbl&gt;</th></tr>\n",
       "</thead>\n",
       "<tbody>\n",
       "\t<tr><td>139441</td><td>Photo </td><td>2</td><td>12</td><td>4</td><td> 3</td><td>0</td><td> 2752</td><td> 5091</td><td> 178</td><td> 109</td><td> 159</td><td> 3078</td><td> 1640</td><td> 119</td><td> 4</td><td>  79</td><td> 17</td><td> 100</td></tr>\n",
       "\t<tr><td>139441</td><td>Status</td><td>2</td><td>12</td><td>3</td><td>10</td><td>0</td><td>10460</td><td>19057</td><td>1457</td><td>1361</td><td>1674</td><td>11710</td><td> 6112</td><td>1108</td><td> 5</td><td> 130</td><td> 29</td><td> 164</td></tr>\n",
       "\t<tr><td>139441</td><td>Photo </td><td>3</td><td>12</td><td>3</td><td> 3</td><td>0</td><td> 2413</td><td> 4373</td><td> 177</td><td> 113</td><td> 154</td><td> 2812</td><td> 1503</td><td> 132</td><td> 0</td><td>  66</td><td> 14</td><td>  80</td></tr>\n",
       "\t<tr><td>139441</td><td>Photo </td><td>2</td><td>12</td><td>2</td><td>10</td><td>1</td><td>50128</td><td>87991</td><td>2211</td><td> 790</td><td>1119</td><td>61027</td><td>32048</td><td>1386</td><td>58</td><td>1572</td><td>147</td><td>1777</td></tr>\n",
       "\t<tr><td>139441</td><td>Photo </td><td>2</td><td>12</td><td>2</td><td> 3</td><td>0</td><td> 7244</td><td>13594</td><td> 671</td><td> 410</td><td> 580</td><td> 6228</td><td> 3200</td><td> 396</td><td>19</td><td> 325</td><td> 49</td><td> 393</td></tr>\n",
       "\t<tr><td>139441</td><td>Status</td><td>2</td><td>12</td><td>1</td><td> 9</td><td>0</td><td>10472</td><td>20849</td><td>1191</td><td>1073</td><td>1389</td><td>16034</td><td> 7852</td><td>1016</td><td> 1</td><td> 152</td><td> 33</td><td> 186</td></tr>\n",
       "</tbody>\n",
       "</table>\n"
      ],
      "text/latex": [
       "A tibble: 6 × 19\n",
       "\\begin{tabular}{lllllllllllllllllll}\n",
       " Page total likes & Type & Category & Post Month & Post Weekday & Post Hour & Paid & Lifetime Post Total Reach & Lifetime Post Total Impressions & Lifetime Engaged Users & Lifetime Post Consumers & Lifetime Post Consumptions & Lifetime Post Impressions by people who have liked your Page & Lifetime Post reach by people who like your Page & Lifetime People who have liked your Page and engaged with your post & comment & like & share & Total Interactions\\\\\n",
       " <dbl> & <chr> & <dbl> & <dbl> & <dbl> & <dbl> & <dbl> & <dbl> & <dbl> & <dbl> & <dbl> & <dbl> & <dbl> & <dbl> & <dbl> & <dbl> & <dbl> & <dbl> & <dbl>\\\\\n",
       "\\hline\n",
       "\t 139441 & Photo  & 2 & 12 & 4 &  3 & 0 &  2752 &  5091 &  178 &  109 &  159 &  3078 &  1640 &  119 &  4 &   79 &  17 &  100\\\\\n",
       "\t 139441 & Status & 2 & 12 & 3 & 10 & 0 & 10460 & 19057 & 1457 & 1361 & 1674 & 11710 &  6112 & 1108 &  5 &  130 &  29 &  164\\\\\n",
       "\t 139441 & Photo  & 3 & 12 & 3 &  3 & 0 &  2413 &  4373 &  177 &  113 &  154 &  2812 &  1503 &  132 &  0 &   66 &  14 &   80\\\\\n",
       "\t 139441 & Photo  & 2 & 12 & 2 & 10 & 1 & 50128 & 87991 & 2211 &  790 & 1119 & 61027 & 32048 & 1386 & 58 & 1572 & 147 & 1777\\\\\n",
       "\t 139441 & Photo  & 2 & 12 & 2 &  3 & 0 &  7244 & 13594 &  671 &  410 &  580 &  6228 &  3200 &  396 & 19 &  325 &  49 &  393\\\\\n",
       "\t 139441 & Status & 2 & 12 & 1 &  9 & 0 & 10472 & 20849 & 1191 & 1073 & 1389 & 16034 &  7852 & 1016 &  1 &  152 &  33 &  186\\\\\n",
       "\\end{tabular}\n"
      ],
      "text/markdown": [
       "\n",
       "A tibble: 6 × 19\n",
       "\n",
       "| Page total likes &lt;dbl&gt; | Type &lt;chr&gt; | Category &lt;dbl&gt; | Post Month &lt;dbl&gt; | Post Weekday &lt;dbl&gt; | Post Hour &lt;dbl&gt; | Paid &lt;dbl&gt; | Lifetime Post Total Reach &lt;dbl&gt; | Lifetime Post Total Impressions &lt;dbl&gt; | Lifetime Engaged Users &lt;dbl&gt; | Lifetime Post Consumers &lt;dbl&gt; | Lifetime Post Consumptions &lt;dbl&gt; | Lifetime Post Impressions by people who have liked your Page &lt;dbl&gt; | Lifetime Post reach by people who like your Page &lt;dbl&gt; | Lifetime People who have liked your Page and engaged with your post &lt;dbl&gt; | comment &lt;dbl&gt; | like &lt;dbl&gt; | share &lt;dbl&gt; | Total Interactions &lt;dbl&gt; |\n",
       "|---|---|---|---|---|---|---|---|---|---|---|---|---|---|---|---|---|---|---|\n",
       "| 139441 | Photo  | 2 | 12 | 4 |  3 | 0 |  2752 |  5091 |  178 |  109 |  159 |  3078 |  1640 |  119 |  4 |   79 |  17 |  100 |\n",
       "| 139441 | Status | 2 | 12 | 3 | 10 | 0 | 10460 | 19057 | 1457 | 1361 | 1674 | 11710 |  6112 | 1108 |  5 |  130 |  29 |  164 |\n",
       "| 139441 | Photo  | 3 | 12 | 3 |  3 | 0 |  2413 |  4373 |  177 |  113 |  154 |  2812 |  1503 |  132 |  0 |   66 |  14 |   80 |\n",
       "| 139441 | Photo  | 2 | 12 | 2 | 10 | 1 | 50128 | 87991 | 2211 |  790 | 1119 | 61027 | 32048 | 1386 | 58 | 1572 | 147 | 1777 |\n",
       "| 139441 | Photo  | 2 | 12 | 2 |  3 | 0 |  7244 | 13594 |  671 |  410 |  580 |  6228 |  3200 |  396 | 19 |  325 |  49 |  393 |\n",
       "| 139441 | Status | 2 | 12 | 1 |  9 | 0 | 10472 | 20849 | 1191 | 1073 | 1389 | 16034 |  7852 | 1016 |  1 |  152 |  33 |  186 |\n",
       "\n"
      ],
      "text/plain": [
       "  Page total likes Type   Category Post Month Post Weekday Post Hour Paid\n",
       "1 139441           Photo  2        12         4             3        0   \n",
       "2 139441           Status 2        12         3            10        0   \n",
       "3 139441           Photo  3        12         3             3        0   \n",
       "4 139441           Photo  2        12         2            10        1   \n",
       "5 139441           Photo  2        12         2             3        0   \n",
       "6 139441           Status 2        12         1             9        0   \n",
       "  Lifetime Post Total Reach Lifetime Post Total Impressions\n",
       "1  2752                      5091                          \n",
       "2 10460                     19057                          \n",
       "3  2413                      4373                          \n",
       "4 50128                     87991                          \n",
       "5  7244                     13594                          \n",
       "6 10472                     20849                          \n",
       "  Lifetime Engaged Users Lifetime Post Consumers Lifetime Post Consumptions\n",
       "1  178                    109                     159                      \n",
       "2 1457                   1361                    1674                      \n",
       "3  177                    113                     154                      \n",
       "4 2211                    790                    1119                      \n",
       "5  671                    410                     580                      \n",
       "6 1191                   1073                    1389                      \n",
       "  Lifetime Post Impressions by people who have liked your Page\n",
       "1  3078                                                       \n",
       "2 11710                                                       \n",
       "3  2812                                                       \n",
       "4 61027                                                       \n",
       "5  6228                                                       \n",
       "6 16034                                                       \n",
       "  Lifetime Post reach by people who like your Page\n",
       "1  1640                                           \n",
       "2  6112                                           \n",
       "3  1503                                           \n",
       "4 32048                                           \n",
       "5  3200                                           \n",
       "6  7852                                           \n",
       "  Lifetime People who have liked your Page and engaged with your post comment\n",
       "1  119                                                                 4     \n",
       "2 1108                                                                 5     \n",
       "3  132                                                                 0     \n",
       "4 1386                                                                58     \n",
       "5  396                                                                19     \n",
       "6 1016                                                                 1     \n",
       "  like share Total Interactions\n",
       "1   79  17    100              \n",
       "2  130  29    164              \n",
       "3   66  14     80              \n",
       "4 1572 147   1777              \n",
       "5  325  49    393              \n",
       "6  152  33    186              "
      ]
     },
     "metadata": {},
     "output_type": "display_data"
    }
   ],
   "source": [
    "#Reading the data\n",
    "temp <- tempfile()\n",
    "download.file(\"https://archive.ics.uci.edu/ml/machine-learning-databases/00368/Facebook_metrics.zip\",temp)\n",
    "\n",
    "#Reading the data in R\n",
    "facebook <- read_csv2(unz(temp, \"dataset_Facebook.csv\"))\n",
    "head(facebook)\n",
    "unlink(temp)"
   ]
  },
  {
   "cell_type": "code",
   "execution_count": 14,
   "metadata": {},
   "outputs": [],
   "source": [
    "#Splitting into training and testing data\n",
    "#Split into training (75 percent of data set) and test data\n",
    "facebook_split <- initial_split(facebook, prop = 0.75, strata = `Total Interactions`)\n",
    "facebook_train <- training(facebook_split)\n",
    "facebook_test <- testing(facebook_split)"
   ]
  },
  {
   "cell_type": "code",
   "execution_count": 15,
   "metadata": {},
   "outputs": [
    {
     "data": {
      "text/plain": [
       "══ Workflow ════════════════════════════════════════════════════════════════════\n",
       "\u001b[3mPreprocessor:\u001b[23m Recipe\n",
       "\u001b[3mModel:\u001b[23m nearest_neighbor()\n",
       "\n",
       "── Preprocessor ────────────────────────────────────────────────────────────────\n",
       "2 Recipe Steps\n",
       "\n",
       "● step_scale()\n",
       "● step_center()\n",
       "\n",
       "── Model ───────────────────────────────────────────────────────────────────────\n",
       "K-Nearest Neighbor Model Specification (regression)\n",
       "\n",
       "Main Arguments:\n",
       "  neighbors = tune()\n",
       "  weight_func = rectangular\n",
       "\n",
       "Computational engine: kknn \n"
      ]
     },
     "metadata": {},
     "output_type": "display_data"
    },
    {
     "name": "stderr",
     "output_type": "stream",
     "text": [
      "\u001b[31mx\u001b[39m \u001b[31mFold2: model 1/1 (predictions): Error: Problem with `mutate()` input `.row`.\n",
      "\u001b[...\u001b[39m\n",
      "\n",
      "\u001b[31mx\u001b[39m \u001b[31mFold3: model 1/1 (predictions): Error: Problem with `mutate()` input `.row`.\n",
      "\u001b[...\u001b[39m\n",
      "\n",
      "\u001b[31mx\u001b[39m \u001b[31mFold4: model 1/1 (predictions): Error: Problem with `mutate()` input `.row`.\n",
      "\u001b[...\u001b[39m\n",
      "\n"
     ]
    },
    {
     "data": {
      "text/html": [
       "<table>\n",
       "<caption>A tibble: 400 × 7</caption>\n",
       "<thead>\n",
       "\t<tr><th scope=col>neighbors</th><th scope=col>.metric</th><th scope=col>.estimator</th><th scope=col>mean</th><th scope=col>n</th><th scope=col>std_err</th><th scope=col>.config</th></tr>\n",
       "\t<tr><th scope=col>&lt;int&gt;</th><th scope=col>&lt;chr&gt;</th><th scope=col>&lt;chr&gt;</th><th scope=col>&lt;dbl&gt;</th><th scope=col>&lt;int&gt;</th><th scope=col>&lt;dbl&gt;</th><th scope=col>&lt;chr&gt;</th></tr>\n",
       "</thead>\n",
       "<tbody>\n",
       "\t<tr><td>1</td><td>rmse</td><td>standard</td><td>4.02239079</td><td>2</td><td>0.05457152</td><td>Model001</td></tr>\n",
       "\t<tr><td>1</td><td>rsq </td><td>standard</td><td>0.04109406</td><td>2</td><td>0.01083528</td><td>Model001</td></tr>\n",
       "\t<tr><td>2</td><td>rmse</td><td>standard</td><td>3.52862783</td><td>2</td><td>0.14882355</td><td>Model002</td></tr>\n",
       "\t<tr><td>⋮</td><td>⋮</td><td>⋮</td><td>⋮</td><td>⋮</td><td>⋮</td><td>⋮</td></tr>\n",
       "\t<tr><td>199</td><td>rsq </td><td>standard</td><td>0.02875693</td><td>2</td><td>0.02064935</td><td>Model199</td></tr>\n",
       "\t<tr><td>200</td><td>rmse</td><td>standard</td><td>3.19618679</td><td>2</td><td>0.01251259</td><td>Model200</td></tr>\n",
       "\t<tr><td>200</td><td>rsq </td><td>standard</td><td>0.02589192</td><td>2</td><td>0.01809736</td><td>Model200</td></tr>\n",
       "</tbody>\n",
       "</table>\n"
      ],
      "text/latex": [
       "A tibble: 400 × 7\n",
       "\\begin{tabular}{lllllll}\n",
       " neighbors & .metric & .estimator & mean & n & std\\_err & .config\\\\\n",
       " <int> & <chr> & <chr> & <dbl> & <int> & <dbl> & <chr>\\\\\n",
       "\\hline\n",
       "\t 1 & rmse & standard & 4.02239079 & 2 & 0.05457152 & Model001\\\\\n",
       "\t 1 & rsq  & standard & 0.04109406 & 2 & 0.01083528 & Model001\\\\\n",
       "\t 2 & rmse & standard & 3.52862783 & 2 & 0.14882355 & Model002\\\\\n",
       "\t ⋮ & ⋮ & ⋮ & ⋮ & ⋮ & ⋮ & ⋮\\\\\n",
       "\t 199 & rsq  & standard & 0.02875693 & 2 & 0.02064935 & Model199\\\\\n",
       "\t 200 & rmse & standard & 3.19618679 & 2 & 0.01251259 & Model200\\\\\n",
       "\t 200 & rsq  & standard & 0.02589192 & 2 & 0.01809736 & Model200\\\\\n",
       "\\end{tabular}\n"
      ],
      "text/markdown": [
       "\n",
       "A tibble: 400 × 7\n",
       "\n",
       "| neighbors &lt;int&gt; | .metric &lt;chr&gt; | .estimator &lt;chr&gt; | mean &lt;dbl&gt; | n &lt;int&gt; | std_err &lt;dbl&gt; | .config &lt;chr&gt; |\n",
       "|---|---|---|---|---|---|---|\n",
       "| 1 | rmse | standard | 4.02239079 | 2 | 0.05457152 | Model001 |\n",
       "| 1 | rsq  | standard | 0.04109406 | 2 | 0.01083528 | Model001 |\n",
       "| 2 | rmse | standard | 3.52862783 | 2 | 0.14882355 | Model002 |\n",
       "| ⋮ | ⋮ | ⋮ | ⋮ | ⋮ | ⋮ | ⋮ |\n",
       "| 199 | rsq  | standard | 0.02875693 | 2 | 0.02064935 | Model199 |\n",
       "| 200 | rmse | standard | 3.19618679 | 2 | 0.01251259 | Model200 |\n",
       "| 200 | rsq  | standard | 0.02589192 | 2 | 0.01809736 | Model200 |\n",
       "\n"
      ],
      "text/plain": [
       "    neighbors .metric .estimator mean       n std_err    .config \n",
       "1   1         rmse    standard   4.02239079 2 0.05457152 Model001\n",
       "2   1         rsq     standard   0.04109406 2 0.01083528 Model001\n",
       "3   2         rmse    standard   3.52862783 2 0.14882355 Model002\n",
       "⋮   ⋮         ⋮       ⋮          ⋮          ⋮ ⋮          ⋮       \n",
       "398 199       rsq     standard   0.02875693 2 0.02064935 Model199\n",
       "399 200       rmse    standard   3.19618679 2 0.01251259 Model200\n",
       "400 200       rsq     standard   0.02589192 2 0.01809736 Model200"
      ]
     },
     "metadata": {},
     "output_type": "display_data"
    },
    {
     "data": {
      "text/html": [
       "<table>\n",
       "<caption>A tibble: 1 × 7</caption>\n",
       "<thead>\n",
       "\t<tr><th scope=col>neighbors</th><th scope=col>.metric</th><th scope=col>.estimator</th><th scope=col>mean</th><th scope=col>n</th><th scope=col>std_err</th><th scope=col>.config</th></tr>\n",
       "\t<tr><th scope=col>&lt;int&gt;</th><th scope=col>&lt;chr&gt;</th><th scope=col>&lt;chr&gt;</th><th scope=col>&lt;dbl&gt;</th><th scope=col>&lt;int&gt;</th><th scope=col>&lt;dbl&gt;</th><th scope=col>&lt;chr&gt;</th></tr>\n",
       "</thead>\n",
       "<tbody>\n",
       "\t<tr><td>12</td><td>rmse</td><td>standard</td><td>3.101893</td><td>2</td><td>0.01997483</td><td>Model012</td></tr>\n",
       "</tbody>\n",
       "</table>\n"
      ],
      "text/latex": [
       "A tibble: 1 × 7\n",
       "\\begin{tabular}{lllllll}\n",
       " neighbors & .metric & .estimator & mean & n & std\\_err & .config\\\\\n",
       " <int> & <chr> & <chr> & <dbl> & <int> & <dbl> & <chr>\\\\\n",
       "\\hline\n",
       "\t 12 & rmse & standard & 3.101893 & 2 & 0.01997483 & Model012\\\\\n",
       "\\end{tabular}\n"
      ],
      "text/markdown": [
       "\n",
       "A tibble: 1 × 7\n",
       "\n",
       "| neighbors &lt;int&gt; | .metric &lt;chr&gt; | .estimator &lt;chr&gt; | mean &lt;dbl&gt; | n &lt;int&gt; | std_err &lt;dbl&gt; | .config &lt;chr&gt; |\n",
       "|---|---|---|---|---|---|---|\n",
       "| 12 | rmse | standard | 3.101893 | 2 | 0.01997483 | Model012 |\n",
       "\n"
      ],
      "text/plain": [
       "  neighbors .metric .estimator mean     n std_err    .config \n",
       "1 12        rmse    standard   3.101893 2 0.01997483 Model012"
      ]
     },
     "metadata": {},
     "output_type": "display_data"
    }
   ],
   "source": [
    "#Finding best K in Hour of Day through training data\n",
    "#Recipe\n",
    "facebook_recipe <- recipe(`Post Month` ~ comment + share + like, data = facebook_train) %>%\n",
    "  step_scale(all_predictors()) %>%\n",
    "  step_center(all_predictors())\n",
    "\n",
    "#Model\n",
    "spec <- nearest_neighbor(weight_func = \"rectangular\", neighbors = tune()) %>%\n",
    "  set_engine(\"kknn\") %>%\n",
    "  set_mode(\"regression\")\n",
    "\n",
    "#Performing a 5 fold cross validation \n",
    "facebook_vfold <- vfold_cv(facebook_train, v = 5, strata = `Post Month`)\n",
    "\n",
    "#Workflow\n",
    "fb_workflow <- workflow() %>%\n",
    "              add_recipe(facebook_recipe) %>%\n",
    "              add_model(spec)\n",
    "fb_workflow\n",
    "#Testing 200 values of K in a tibble\n",
    "gridvals <- tibble(neighbors = seq(1:200))\n",
    "\n",
    "#(Tunes workflow to test all values of K, resamples cross-validation data set, collects the statistics from that model)\n",
    "fb_results <- fb_workflow %>%\n",
    "  tune_grid(resamples = facebook_vfold, grid = gridvals) %>%\n",
    "  collect_metrics()\n",
    "fb_results\n",
    "\n",
    "#Finding min amount of RMSPE\n",
    "facebook_min <- fb_results %>%\n",
    "                filter(.metric == \"rmse\") %>%\n",
    "                filter(mean == min(mean))\n",
    "facebook_min"
   ]
  },
  {
   "cell_type": "code",
   "execution_count": 16,
   "metadata": {},
   "outputs": [
    {
     "ename": "ERROR",
     "evalue": "Error: Can't recycle `..1` (size 123) to match `..2` (size 122).\n",
     "output_type": "error",
     "traceback": [
      "Error: Can't recycle `..1` (size 123) to match `..2` (size 122).\nTraceback:\n",
      "1. fb_best_fit %>% predict(facebook_test) %>% bind_cols(slice(facebook_test, \n .     1:122)) %>% metrics(truth = `Post Hour`, estimate = .pred)",
      "2. withVisible(eval(quote(`_fseq`(`_lhs`)), env, env))",
      "3. eval(quote(`_fseq`(`_lhs`)), env, env)",
      "4. eval(quote(`_fseq`(`_lhs`)), env, env)",
      "5. `_fseq`(`_lhs`)",
      "6. freduce(value, `_function_list`)",
      "7. function_list[[i]](value)",
      "8. bind_cols(., slice(facebook_test, 1:122))",
      "9. vec_cbind(!!!dots, .name_repair = .name_repair)",
      "10. stop_incompatible_size(x = .Primitive(\"quote\")(structure(list(\n  .     .pred = c(6.41666666666667, 5.66666666666667, 6.66666666666667, \n  .     7.41666666666667, 7.08333333333333, 7.25, 6.58333333333333, \n  .     6.41666666666667, 7.5, 8.66666666666667, 7.83333333333333, \n  .     8, 6.41666666666667, 6.16666666666667, 6.75, 6.33333333333333, \n  .     5.5, 7.83333333333333, 6.33333333333333, 6.25, 5.83333333333333, \n  .     7.83333333333333, 6.91666666666667, 7.5, 6.83333333333333, \n  .     8.5, 7.5, 7, 8.25, 8.33333333333333, 6.33333333333333, 8.25, \n  .     6.41666666666667, 7.75, 6.91666666666667, 8.08333333333333, \n  .     7, 8, 8.91666666666667, 6.75, 6.66666666666667, 6.08333333333333, \n  .     8.41666666666667, 8.66666666666667, 8.66666666666667, 7.08333333333333, \n  .     5.91666666666667, 7.66666666666667, 7.75, 7.25, 8.58333333333333, \n  .     7.58333333333333, 8.25, 7.33333333333333, 8.33333333333333, \n  .     7.58333333333333, 8.58333333333333, 7.16666666666667, 8.66666666666667, \n  .     7.91666666666667, 7.75, 6.91666666666667, 6.66666666666667, \n  .     8.41666666666667, 6.91666666666667, 8, 7.33333333333333, \n  .     7.58333333333333, 7.25, 7.5, 8.5, 7.75, 6.08333333333333, \n  .     6.83333333333333, 7.41666666666667, 8.08333333333333, 7, \n  .     5.75, 7.58333333333333, 7.08333333333333, 7, 7.16666666666667, \n  .     6.75, 7.91666666666667, 6.91666666666667, 7.5, 6.5, 8.08333333333333, \n  .     6.25, 5.66666666666667, 7.75, 7.16666666666667, 8.16666666666667, \n  .     9.41666666666667, 5.83333333333333, 5.75, 4.5, 4.75, 6.41666666666667, \n  .     8.25, 6.41666666666667, 5.5, 7.16666666666667, 8.83333333333333, \n  .     6.83333333333333, 6.83333333333333, 8.33333333333333, 7, \n  .     7.66666666666667, 6.83333333333333, 7.16666666666667, 7.91666666666667, \n  .     6.08333333333333, 9.33333333333333, 7.58333333333333, 7.33333333333333, \n  .     3.91666666666667, 4.16666666666667, 8.75, 3.91666666666667, \n  .     3, 6, 4.75)), row.names = c(NA, -123L), class = c(\"tbl_df\", \n  . \"tbl\", \"data.frame\"))), y = .Primitive(\"quote\")(structure(list(\n  .     `Page total likes` = c(139441, 139441, 139441, 139441, 139441, \n  .     139441, 138414, 138414, 138414, 138458, 138458, 138895, 138353, \n  .     138353, 138329, 138185, 137893, 137059, 137059, 137059, 137020, \n  .     137020, 137020, 136642, 136642, 136393, 136393, 136393, 136393, \n  .     136013, 136013, 136013, 135713, 135713, 135428, 135195, 134879, \n  .     134879, 133679, 133594, 133594, 132817, 132817, 132201, 131956, \n  .     131956, 131808, 131808, 131728, 131630, 131630, 131630, 131300, \n  .     130791, 130791, 129600, 129600, 129600, 129600, 129600, 126424, \n  .     126345, 126345, 126345, 126141, 125612, 125612, 125612, 124940, \n  .     124940, 124940, 123047, 123047, 123047, 119198, 119198, 117764, \n  .     117764, 117764, 117764, 116435, 116435, 116435, 116091, 116091, \n  .     115893, 115368, 115368, 115368, 113028, 111620, 111620, 111620, \n  .     109670, 109670, 107907, 107907, 107907, 106928, 106928, 104070, \n  .     102112, 100732, 100732, 100732, 100732, 100732, 96749, 96749, \n  .     96749, 93042, 92828, 92721, 92400, 91758, 91544, 86909, 86909, \n  .     86491, 85979, 85979, 85093), Type = c(\"Status\", \"Photo\", \n  .     \"Photo\", \"Photo\", \"Photo\", \"Photo\", \"Photo\", \"Photo\", \"Status\", \n  .     \"Status\", \"Photo\", \"Photo\", \"Status\", \"Photo\", \"Photo\", \"Photo\", \n  .     \"Photo\", \"Photo\", \"Photo\", \"Photo\", \"Photo\", \"Photo\", \"Photo\", \n  .     \"Photo\", \"Photo\", \"Photo\", \"Photo\", \"Photo\", \"Photo\", \"Photo\", \n  .     \"Link\", \"Photo\", \"Link\", \"Photo\", \"Photo\", \"Photo\", \"Photo\", \n  .     \"Photo\", \"Photo\", \"Photo\", \"Photo\", \"Photo\", \"Photo\", \"Photo\", \n  .     \"Status\", \"Photo\", \"Status\", \"Status\", \"Photo\", \"Photo\", \n  .     \"Status\", \"Photo\", \"Status\", \"Photo\", \"Status\", \"Photo\", \n  .     \"Photo\", \"Photo\", \"Photo\", \"Photo\", \"Video\", \"Photo\", \"Photo\", \n  .     \"Status\", \"Photo\", \"Photo\", \"Photo\", \"Photo\", \"Photo\", \"Photo\", \n  .     \"Photo\", \"Photo\", \"Photo\", \"Photo\", \"Photo\", \"Photo\", \"Photo\", \n  .     \"Photo\", \"Photo\", \"Photo\", \"Photo\", \"Photo\", \"Photo\", \"Photo\", \n  .     \"Status\", \"Photo\", \"Photo\", \"Photo\", \"Photo\", \"Photo\", \"Photo\", \n  .     \"Photo\", \"Photo\", \"Photo\", \"Photo\", \"Photo\", \"Photo\", \"Photo\", \n  .     \"Photo\", \"Photo\", \"Photo\", \"Photo\", \"Photo\", \"Photo\", \"Photo\", \n  .     \"Photo\", \"Photo\", \"Photo\", \"Photo\", \"Photo\", \"Photo\", \"Photo\", \n  .     \"Photo\", \"Photo\", \"Photo\", \"Photo\", \"Photo\", \"Photo\", \"Link\", \n  .     \"Photo\", \"Photo\", \"Photo\"), Category = c(2, 3, 2, 2, 3, 3, \n  .     3, 1, 2, 2, 3, 3, 1, 1, 1, 1, 1, 1, 2, 2, 3, 1, 1, 1, 1, \n  .     1, 3, 1, 1, 1, 1, 1, 1, 1, 1, 3, 2, 3, 3, 2, 2, 1, 3, 3, \n  .     2, 3, 2, 2, 2, 2, 2, 1, 2, 1, 2, 3, 1, 3, 2, 2, 1, 1, 2, \n  .     2, 1, 1, 2, 3, 2, 3, 3, 3, 3, 3, 3, 3, 2, 3, 3, 3, 2, 3, \n  .     3, 2, 2, 1, 3, 3, 3, 1, 3, 3, 1, 1, 1, 3, 3, 3, 3, 1, 1, \n  .     1, 1, 1, 1, 1, 1, 3, 1, 1, 3, 1, 3, 1, 2, 3, 3, 3, 1, 3, \n  .     3, 3), `Post Month` = c(12, 12, 12, 12, 12, 12, 12, 12, 12, \n  .     12, 12, 12, 12, 12, 11, 11, 11, 11, 11, 10, 10, 10, 10, 10, \n  .     10, 10, 10, 10, 10, 10, 10, 10, 10, 10, 9, 9, 9, 9, 9, 8, \n  .     8, 8, 8, 8, 8, 8, 8, 8, 7, 7, 7, 7, 7, 7, 7, 7, 7, 7, 7, \n  .     7, 6, 6, 6, 6, 6, 6, 6, 6, 6, 6, 6, 6, 6, 6, 5, 5, 5, 5, \n  .     5, 5, 5, 5, 5, 5, 5, 4, 4, 4, 4, 4, 4, 4, 4, 4, 4, 4, 4, \n  .     4, 4, 4, 3, 3, 3, 3, 3, 3, 3, 3, 3, 3, 2, 2, 2, 2, 2, 2, \n  .     1, 1, 1, 1, 1, 1), `Post Weekday` = c(3, 3, 2, 2, 1, 7, 1, \n  .     7, 6, 5, 5, 1, 3, 2, 4, 1, 6, 2, 1, 5, 3, 3, 2, 7, 7, 7, \n  .     7, 6, 6, 4, 4, 2, 6, 6, 3, 6, 7, 7, 2, 6, 5, 3, 2, 4, 2, \n  .     7, 7, 6, 4, 3, 2, 1, 7, 4, 4, 1, 7, 5, 4, 3, 2, 2, 1, 7, \n  .     7, 4, 4, 1, 3, 2, 1, 2, 2, 1, 6, 5, 2, 1, 7, 6, 5, 4, 1, \n  .     1, 5, 3, 3, 2, 2, 4, 2, 1, 7, 3, 3, 5, 1, 7, 6, 4, 3, 1, \n  .     7, 7, 7, 7, 6, 2, 1, 7, 3, 3, 2, 1, 5, 4, 5, 5, 2, 7, 6, \n  .     1), `Post Hour` = c(10, 3, 10, 3, 3, 9, 11, 10, 10, 11, 3, \n  .     3, 11, 11, 3, 10, 3, 3, 9, 11, 10, 4, 4, 12, 11, 10, 3, 13, \n  .     9, 10, 3, 3, 11, 4, 10, 3, 10, 4, 3, 10, 13, 9, 3, 11, 12, \n  .     10, 4, 10, 3, 13, 6, 11, 10, 11, 6, 6, 6, 3, 12, 1, 13, 9, \n  .     12, 11, 4, 11, 3, 3, 13, 13, 3, 13, 5, 10, 14, 10, 11, 13, \n  .     2, 8, 9, 13, 13, 3, 7, 13, 8, 13, 2, 12, 13, 14, 14, 13, \n  .     8, 3, 3, 3, 9, 3, 10, 18, 18, 17, 15, 15, 10, 9, 2, 5, 13, \n  .     6, 13, 4, 3, 3, 13, 4, 2, 2, 11, 2), Paid = c(0, 0, 1, 0, \n  .     1, 1, 0, 0, 0, 0, 0, 0, 0, 0, 1, 0, 0, 0, 0, 0, 0, 0, 0, \n  .     0, 0, 0, 0, 0, 0, 1, 0, 1, 1, 0, 0, 1, 0, 1, 1, 0, 0, 0, \n  .     0, 1, 0, 0, 0, 1, 0, 0, 1, 0, 0, 0, 0, 0, 1, 0, 1, 0, 0, \n  .     1, 0, 0, 1, 0, 0, 0, 0, 0, 0, 0, 1, 0, 0, 1, 0, 1, 0, 1, \n  .     0, 1, 0, 0, 0, 0, 0, 0, 1, 1, 1, 1, 0, 1, 0, 0, 0, 0, 1, \n  .     1, 0, 0, 0, 0, 0, 0, 0, 0, 1, 1, 0, 0, 0, 0, 1, 0, 0, 0, \n  .     0, 0, 0, 0), `Lifetime Post Total Reach` = c(10460, 2413, \n  .     50128, 7244, 11692, 13720, 1591, 1384, 8488, 19552, 2478, \n  .     2690, 16576, 3786, 27072, 2352, 3102, 24720, 2219, 2819, \n  .     1711, 1388, 70144, 32208, 729, 786, 3366, 645, 659, 4018, \n  .     68992, 50736, 3616, 39984, 41984, 22304, 1804, 2351, 2360, \n  .     5282, 1920, 3376, 3358, 1006, 14424, 4324, 8260, 20168, 14824, \n  .     3504, 10824, 4592, 10956, 4892, 17360, 3406, 5848, 54256, \n  .     3726, 4220, 139008, 5854, 3212, 12044, 9652, 2402, 4320, \n  .     2763, 6150, 22464, 3576, 3418, 3662, 56672, 2772, 6460, 6444, \n  .     4458, 38960, 4336, 5728, 5490, 4202, 5976, 9232, 24264, 4280, \n  .     6692, 5594, 6880, 7492, 105632, 128064, 5402, 9880, 3824, \n  .     4552, 4770, 2970, 5290, 1874, 6400, 391, 10844, 5132, 3772, \n  .     122944, 5338, 98816, 14320, 8500, 28128, 7228, 5880, 15880, \n  .     9528, 5536, 6056, 5168, 4800, 5280, 8412), `Lifetime Post Total Impressions` = c(19057, \n  .     4373, 87991, 13594, 19479, 24137, 2825, 2467, 15294, 34143, \n  .     4306, 4628, 30612, 7329, 84885, 5234, 5939, 37240, 4545, \n  .     5230, 3174, 2544, 111745, 57472, 1374, 1573, 6647, 1117, \n  .     1158, 8617, 229733, 140432, 6887, 112830, 68290, 37159, 2968, \n  .     4028, 4004, 8730, 3124, 6557, 5682, 1594, 26000, 7241, 14305, \n  .     35904, 21863, 5699, 20573, 6691, 19279, 8499, 33613, 5656, \n  .     9068, 82011, 6372, 7774, 277100, 11854, 4908, 20327, 16968, \n  .     4072, 7127, 4388, 10217, 29650, 5525, 5659, 6476, 104966, \n  .     4642, 11373, 11509, 7753, 65149, 7705, 10164, 9518, 7633, \n  .     10441, 16811, 51899, 7594, 11859, 9586, 11736, 12414, 147918, \n  .     251269, 8891, 12695, 6333, 7253, 7716, 4649, 8132, 2474, \n  .     11941, 746, 22468, 9067, 6971, 457509, 9940, 125026, 21958, \n  .     14157, 42940, 12627, 10115, 51571, 16779, 8745, 10325, 8371, \n  .     7754, 8703, 13960), `Lifetime Engaged Users` = c(1457, 177, \n  .     2211, 671, 481, 537, 121, 15, 1341, 2806, 212, 252, 3572, \n  .     338, 421, 232, 360, 845, 287, 318, 288, 224, 3216, 1810, \n  .     303, 263, 474, 195, 199, 428, 1032, 1462, 111, 2105, 3370, \n  .     1805, 330, 371, 436, 703, 365, 428, 394, 277, 304, 548, 997, \n  .     3370, 868, 444, 135, 320, 128, 536, 2573, 571, 622, 1620, \n  .     602, 685, 1779, 1043, 735, 2240, 1400, 170, 753, 564, 750, \n  .     1029, 664, 581, 560, 2579, 526, 823, 734, 491, 2298, 574, \n  .     676, 647, 562, 689, 908, 1599, 624, 905, 739, 671, 838, 3984, \n  .     1539, 700, 524, 666, 471, 494, 421, 612, 25, 735, 131, 1409, \n  .     398, 144, 1373, 589, 11452, 1850, 1095, 2283, 1239, 1291, \n  .     1188, 1245, 1141, 1117, 66, 975, 951, 1179), `Lifetime Post Consumers` = c(1361, \n  .     113, 790, 410, 265, 232, 88, 15, 1270, 2531, 124, 168, 3464, \n  .     283, 304, 182, 288, 564, 220, 218, 245, 219, 2628, 1490, \n  .     298, 257, 345, 192, 194, 374, 975, 1450, 90, 1921, 2420, \n  .     984, 280, 298, 365, 530, 331, 409, 323, 268, 286, 431, 953, \n  .     3244, 591, 374, 126, 289, 119, 460, 2448, 512, 570, 963, \n  .     574, 597, 1643, 947, 720, 2193, 1381, 145, 681, 523, 676, \n  .     934, 618, 546, 522, 1334, 479, 706, 625, 432, 1702, 484, \n  .     587, 555, 481, 544, 861, 1485, 555, 742, 670, 639, 713, 2254, \n  .     1408, 633, 497, 627, 444, 455, 390, 570, 25, 726, 130, 1339, \n  .     398, 144, 1268, 556, 11328, 1819, 1029, 2190, 1189, 1264, \n  .     1071, 1175, 1099, 1078, 59, 938, 911, 1111), `Lifetime Post Consumptions` = c(1674, \n  .     154, 1119, 580, 364, 305, 111, 20, 1489, 3420, 149, 226, \n  .     4802, 450, 487, 258, 512, 850, 329, 303, 339, 931, 4782, \n  .     2286, 331, 318, 495, 224, 239, 616, 1345, 8308, 118, 3932, \n  .     4074, 1618, 352, 392, 486, 772, 428, 631, 523, 354, 383, \n  .     676, 1211, 5106, 966, 497, 153, 423, 130, 721, 6017, 731, \n  .     795, 1419, 785, 838, 2356, 19779, 897, 3599, 2801, 286, 1021, \n  .     650, 969, 1408, 870, 770, 677, 1850, 604, 1197, 1157, 676, \n  .     3000, 847, 1049, 847, 730, 833, 1967, 3153, 771, 1165, 1048, \n  .     889, 1274, 3391, 2506, 1078, 658, 822, 569, 632, 544, 857, \n  .     31, 8415, 766, 11064, 1690, 1033, 2106, 715, 18115, 2170, \n  .     1422, 3400, 1612, 1878, 1410, 1725, 1461, 1427, 71, 1278, \n  .     1237, 1632), `Lifetime Post Impressions by people who have liked your Page` = c(11710, \n  .     2812, 61027, 6228, 15432, 19728, 2116, 2196, 9684, 17748, \n  .     2612, 3052, 24363, 6336, 35637, 4101, 3537, 14475, 3189, \n  .     3128, 2226, 2161, 43671, 56149, 1284, 1401, 3180, 989, 1041, \n  .     6677, 17842, 46252, 4263, 70249, 34802, 22864, 2293, 3112, \n  .     2757, 5123, 2541, 5700, 4200, 1055, 25539, 4972, 12905, 26881, \n  .     13498, 4487, 20030, 3238, 18838, 7389, 23338, 4446, 6651, \n  .     42128, 4760, 4404, 107502, 5901, 3399, 17717, 15917, 3147, \n  .     4569, 3519, 6253, 9376, 4229, 4491, 4930, 78678, 3353, 6279, \n  .     7910, 5493, 57722, 5156, 6890, 6549, 6173, 7055, 12996, 48466, \n  .     4632, 8391, 5732, 9389, 8452, 48575, 84046, 6733, 7072, 4447, \n  .     4440, 5040, 3346, 6032, 1483, 10987, 723, 18310, 9065, 6932, \n  .     72846, 8146, 16682, 9579, 9670, 9183, 9781, 8536, 47976, \n  .     11885, 5225, 6823, 7041, 4932, 5757, 8632), `Lifetime Post reach by people who like your Page` = c(6112, \n  .     1503, 32048, 3200, 9328, 11056, 1161, 1172, 5244, 9824, 1443, \n  .     1727, 12888, 3216, 9712, 1761, 1780, 8120, 1495, 1622, 1118, \n  .     1214, 20608, 31648, 650, 660, 1674, 554, 576, 2992, 8032, \n  .     15552, 2138, 21328, 20928, 13304, 1354, 1791, 1603, 3244, \n  .     1519, 2806, 2426, 651, 14056, 3008, 7360, 15056, 8560, 2730, \n  .     10384, 2100, 10564, 4206, 11800, 2598, 4212, 24224, 2852, \n  .     2326, 38720, 2894, 2162, 10400, 8972, 1794, 2782, 2124, 3742, \n  .     6864, 2672, 2620, 2660, 37408, 1943, 3612, 4136, 3106, 34368, \n  .     2752, 3714, 3716, 3298, 4046, 7200, 21928, 2530, 4692, 3256, \n  .     5232, 5024, 27328, 32384, 3992, 4732, 2604, 2664, 3114, 2044, \n  .     3794, 1062, 5916, 380, 8848, 5132, 3758, 13184, 3920, 10336, \n  .     4664, 5640, 4560, 5348, 4884, 13560, 6672, 3098, 3788, 3996, \n  .     2820, 3300, 5348), `Lifetime People who have liked your Page and engaged with your post` = c(1108, \n  .     132, 1386, 396, 379, 422, 100, 15, 995, 1779, 166, 199, 3014, \n  .     280, 263, 181, 275, 504, 221, 240, 205, 172, 1542, 1724, \n  .     262, 222, 385, 166, 169, 351, 635, 1275, 93, 1609, 2126, \n  .     1349, 234, 288, 300, 470, 251, 331, 298, 187, 291, 401, 956, \n  .     2806, 650, 348, 126, 222, 123, 428, 1905, 355, 383, 977, \n  .     399, 407, 1008, 583, 375, 2119, 1035, 137, 459, 375, 445, \n  .     546, 403, 327, 319, 1831, 305, 505, 512, 340, 1978, 403, \n  .     475, 476, 428, 487, 843, 1392, 497, 737, 555, 556, 670, 1936, \n  .     985, 514, 382, 462, 316, 344, 301, 454, 15, 628, 93, 1086, \n  .     393, 140, 475, 363, 1356, 413, 465, 621, 606, 706, 677, 729, \n  .     483, 487, 58, 432, 431, 699), comment = c(5, 0, 58, 19, 3, \n  .     0, 0, 0, 3, 10, 0, 0, 4, 0, 4, 2, 7, 13, 0, 1, 2, 0, 42, \n  .     1, 0, 0, 3, 0, 1, 4, 15, 3, 0, 24, 144, 29, 0, 1, 2, 9, 1, \n  .     0, 2, 1, 41, 6, 1, 18, 64, 9, 6, 1, 3, 4, 9, 1, 4, 10, 30, \n  .     10, 23, 11, 1, 0, 1, 5, 5, 0, 12, 3, 2, 2, 2, 20, 2, 25, \n  .     5, 6, 37, 12, 3, 4, 3, 2, 1, 9, 1, 4, 12, 0, 8, 51, 8, 0, \n  .     0, 1, 1, 2, 2, 1, 0, 0, 0, 4, 0, 0, 0, 1, 10, 2, 5, 6, 5, \n  .     5, 1, 10, 1, 7, 0, 1, 1, 17), like = c(130, 66, 1572, 325, \n  .     249, 325, 34, 0, 99, 412, 100, 96, 174, 77, 139, 60, 84, \n  .     331, 78, 115, 63, 13, 955, 431, 7, 6, 198, 4, 7, 77, 143, \n  .     41, 24, 302, 1622, 1047, 61, 104, 102, 278, 52, 40, 114, \n  .     11, 15, 179, 74, 332, 367, 102, 14, 43, 13, 118, 484, 98, \n  .     71, 755, 47, 167, 204, 202, 40, 104, 34, 57, 141, 62, 148, \n  .     142, 84, 51, 67, 1372, 72, 244, 194, 101, 821, 155, 155, \n  .     166, 148, 267, 129, 194, 124, 304, 138, 59, 236, 1998, 186, \n  .     112, 35, 71, 52, 97, 56, 89, 0, 32, 6, 213, 2, 3, 136, 62, \n  .     197, 59, 159, 154, 128, 79, 200, 193, 74, 84, 12, 74, 79, \n  .     185), share = c(29, 14, 147, 49, 27, 14, 8, 0, 19, 72, 17, \n  .     17, 36, 15, 17, 7, 28, 77, 13, 26, 14, 4, 139, 26, 0, 2, \n  .     41, 1, 2, 19, 44, 9, 11, 41, 208, 98, 6, 12, 15, 43, 7, 5, \n  .     16, 3, 1, 27, 11, 54, 25, 19, 1, 10, 1, 22, 79, 19, 10, 58, \n  .     8, 26, 44, 5, 8, 13, 4, 5, 26, 10, 28, 18, 13, 6, 14, 47, \n  .     9, 44, 33, 29, 90, 23, 32, 33, 16, 40, 36, 33, 32, 47, 39, \n  .     16, 51, 128, 18, 14, 5, 18, 24, 25, 9, 14, 0, 6, 1, 13, 0, \n  .     0, 13, 10, 21, 6, 53, 18, 32, 11, 37, 61, 31, 36, 2, 28, \n  .     30, 55), `Total Interactions` = c(164, 80, 1777, 393, 279, \n  .     339, 42, 0, 121, 494, 117, 113, 214, 92, 160, 69, 119, 421, \n  .     91, 142, 79, 17, 1136, 458, 7, 8, 242, 5, 10, 100, 202, 53, \n  .     35, 367, 1974, 1174, 67, 117, 119, 330, 60, 45, 132, 15, \n  .     57, 212, 86, 404, 456, 130, 21, 54, 17, 144, 572, 118, 85, \n  .     823, 85, 203, 271, 218, 49, 117, 39, 67, 172, 72, 188, 163, \n  .     99, 59, 83, 1439, 83, 313, 232, 136, 948, 190, 190, 203, \n  .     167, 309, 166, 236, 157, 355, 189, 75, 295, 2177, 212, 126, \n  .     40, 90, 77, 124, 67, 104, 0, 38, 7, 230, 2, 3, 149, 73, 228, \n  .     67, 217, 178, 165, 95, 238, 264, 106, 127, 14, 103, 110, \n  .     257)), row.names = c(NA, -122L), class = c(\"tbl_df\", \"tbl\", \n  . \"data.frame\"))), x_size = 123L, y_size = 122L, x_arg = \"..1\", \n  .     y_arg = \"..2\")",
      "11. stop_incompatible(x, y, x_size = x_size, y_size = y_size, ..., \n  .     x_arg = x_arg, y_arg = y_arg, details = details, message = message, \n  .     class = c(class, \"vctrs_error_incompatible_size\"))",
      "12. stop_vctrs(message, class = c(class, \"vctrs_error_incompatible\"), \n  .     x = x, y = y, details = details, ...)",
      "13. abort(message, class = c(class, \"vctrs_error\"), ...)",
      "14. signal_abort(cnd)"
     ]
    }
   ],
   "source": [
    "k_min <- facebook_min %>%\n",
    "         pull(neighbors)\n",
    "\n",
    "facebook_best_spec <- nearest_neighbor(weight_func = \"rectangular\", neighbors = k_min) %>%\n",
    "         set_engine(\"kknn\") %>%\n",
    "         set_mode(\"regression\")\n",
    "\n",
    "fb_best_fit <- workflow() %>%\n",
    "         add_recipe(facebook_recipe) %>%\n",
    "         add_model(facebook_best_spec) %>%\n",
    "         fit(data = facebook_train)\n",
    "\n",
    "fb_summary <- fb_best_fit  %>%\n",
    "              predict(facebook_test) %>%\n",
    "              bind_cols(slice(facebook_test, 1:122)) %>%\n",
    "             metrics(truth = `Post Hour`, estimate = .pred)\n",
    "fb_summary"
   ]
  },
  {
   "cell_type": "code",
   "execution_count": null,
   "metadata": {},
   "outputs": [],
   "source": []
  }
 ],
 "metadata": {
  "kernelspec": {
   "display_name": "R",
   "language": "R",
   "name": "ir"
  },
  "language_info": {
   "codemirror_mode": "r",
   "file_extension": ".r",
   "mimetype": "text/x-r-source",
   "name": "R",
   "pygments_lexer": "r",
   "version": "4.0.0"
  }
 },
 "nbformat": 4,
 "nbformat_minor": 4
}
